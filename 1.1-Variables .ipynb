{
 "cells": [
  {
   "cell_type": "markdown",
   "id": "07a2e61b",
   "metadata": {},
   "source": [
    "# Variables \n",
    "Variables are used to store data that can be manipulated and used throughout the code or we can say that Variable is a kind of entity where we can store a data which we can process in a runtime.\n",
    "\n",
    "### Key Concepts:\n",
    "- Variable Declaration\n",
    "- Variable Naming Rules\n",
    "- Variable Types\n",
    "- Dynamic Typing\n",
    "- Multiple Assignment \n",
    "- Type Conversion\n",
    "- Global and Local Variables"
   ]
  },
  {
   "cell_type": "markdown",
   "id": "8173f8b8",
   "metadata": {},
   "source": [
    "### 1. Variable Declaration\n",
    "\n",
    "- Python variables do not require an explicit type declaration. The type of a variable is determined automatically based on the value assigned to it.\n",
    "\n",
    "- A variable is created when you assign a value to it using the = operator."
   ]
  },
  {
   "cell_type": "code",
   "execution_count": 1,
   "id": "eca2d419",
   "metadata": {},
   "outputs": [],
   "source": [
    "## Declaring And Assigning Variables\n",
    "\n",
    "x = 10        # Integer\n",
    "name = \"John\" # String\n",
    "pi = 3.14     # Float\n",
    "is_valid = True # Boolean"
   ]
  },
  {
   "cell_type": "markdown",
   "id": "826f2f43",
   "metadata": {},
   "source": [
    "- Here '__x__' is a variable name and __10__ is the value which we assign to '__x__'.\n",
    "- '__x__' can be anything it is just a variable name.\n",
    "- '__x__' is a local variable which is alive in this particular jupyter notebook file or a memory. \n",
    "- It means that '__x__' can be different for other file."
   ]
  },
  {
   "cell_type": "markdown",
   "id": "cd4b7d26",
   "metadata": {},
   "source": [
    "### 2. Variable Naming Rules"
   ]
  },
  {
   "cell_type": "markdown",
   "id": "9bf5cb85",
   "metadata": {},
   "source": [
    "- __Case-sensitive__: age and Age are different variables.\n",
    "\n",
    "\n",
    "- __Must start with a letter or underscore (_)__: x = 10 and _x = 20 are valid, but 1x = 30 is not.\n",
    "\n",
    "\n",
    "- __Can contain letters, numbers, and underscores__: age_1, person_name, and _temp are valid names.\n",
    "\n",
    "\n",
    "- __No spaces__ are allowed.\n"
   ]
  },
  {
   "cell_type": "code",
   "execution_count": 2,
   "id": "40c0b54b",
   "metadata": {},
   "outputs": [],
   "source": [
    "# valid variable names\n",
    "\n",
    "first_name=\"Sushant\"\n",
    "last_name=\"Yadav\""
   ]
  },
  {
   "cell_type": "code",
   "execution_count": 3,
   "id": "365a0d67",
   "metadata": {},
   "outputs": [
    {
     "ename": "SyntaxError",
     "evalue": "invalid syntax (2770268891.py, line 3)",
     "output_type": "error",
     "traceback": [
      "\u001b[0;36m  Input \u001b[0;32mIn [3]\u001b[0;36m\u001b[0m\n\u001b[0;31m    1age=30\u001b[0m\n\u001b[0m     ^\u001b[0m\n\u001b[0;31mSyntaxError\u001b[0m\u001b[0;31m:\u001b[0m invalid syntax\n"
     ]
    }
   ],
   "source": [
    "# Invalid variable names\n",
    "\n",
    "1age=30\n",
    "first-name=\"Sushant\"\n",
    "@name=\"Sushant\""
   ]
  },
  {
   "cell_type": "code",
   "execution_count": 4,
   "id": "88bbce7b",
   "metadata": {},
   "outputs": [],
   "source": [
    "## case sensitivity (Both are different)\n",
    "name=\"Sushant\"\n",
    "Name=\"Yadav\"\n"
   ]
  },
  {
   "cell_type": "markdown",
   "id": "e10edaa7",
   "metadata": {},
   "source": [
    "### 3. Variable Types"
   ]
  },
  {
   "cell_type": "markdown",
   "id": "664c6865",
   "metadata": {},
   "source": [
    "Python supports multiple data types for variables:\n",
    "\n",
    "- __Integer__: Whole numbers, e.g., x = 10\n",
    "\n",
    "\n",
    "- __Float__: Decimal numbers, e.g., pi = 3.14\n",
    "\n",
    "\n",
    "- __String__: Text, e.g., name = \"Alice\"\n",
    "\n",
    "\n",
    "- __Boolean__: True or False, e.g., is_valid = True\n",
    "\n",
    "\n",
    "- __List__: Ordered collection, e.g., numbers = [1, 2, 3]\n",
    "\n",
    "\n",
    "- __Tuple__: Ordered, immutable collection, e.g., coordinates = (10.0, 20.0)\n",
    "\n",
    "\n",
    "- __Dictionary__: Key-value pairs, e.g., student = {\"name\": \"John\", \"age\": 20}\n",
    "\n",
    "\n",
    "- __Set__: Unordered collection of unique elements, e.g., unique_numbers = {1, 2, 3}"
   ]
  },
  {
   "cell_type": "code",
   "execution_count": 5,
   "id": "c24271d1",
   "metadata": {},
   "outputs": [
    {
     "name": "stdout",
     "output_type": "stream",
     "text": [
      "<class 'int'>\n",
      "<class 'float'>\n",
      "<class 'str'>\n",
      "<class 'bool'>\n"
     ]
    }
   ],
   "source": [
    "# Understnading Variable types\n",
    "\n",
    "age=20 #int\n",
    "height=5.7 #float\n",
    "name=\"Sushant\" #str\n",
    "is_student=True #bool\n",
    "\n",
    "print(type(age))\n",
    "print(type(height))\n",
    "print(type(name))\n",
    "print(type(is_student))"
   ]
  },
  {
   "cell_type": "markdown",
   "id": "3396f6c1",
   "metadata": {},
   "source": [
    "### 4. Dynamic Typing\n",
    "\n",
    "Python is dynamically typed, which means the type of a variable can change based on the assignment."
   ]
  },
  {
   "cell_type": "code",
   "execution_count": 6,
   "id": "b003dd6a",
   "metadata": {},
   "outputs": [],
   "source": [
    "x = 5         # x is an integer\n",
    "x = \"hello\"   # Now x is a string"
   ]
  },
  {
   "cell_type": "code",
   "execution_count": 7,
   "id": "6537eb9b",
   "metadata": {},
   "outputs": [
    {
     "name": "stdout",
     "output_type": "stream",
     "text": [
      "10 <class 'int'>\n",
      "Hello <class 'str'>\n",
      "3.14 <class 'float'>\n"
     ]
    }
   ],
   "source": [
    "# Dynamic Typing\n",
    "\n",
    "var=10 #int\n",
    "print(var,type(var))\n",
    "\n",
    "var=\"Hello\"\n",
    "print(var,type(var))\n",
    "\n",
    "var=3.14\n",
    "print(var,type(var))\n"
   ]
  },
  {
   "cell_type": "markdown",
   "id": "a2b7b75f",
   "metadata": {},
   "source": [
    "### 5. Multiple Assignment\n",
    "\n",
    "Python allows assigning values to multiple variables at once."
   ]
  },
  {
   "cell_type": "code",
   "execution_count": 8,
   "id": "114271fa",
   "metadata": {},
   "outputs": [],
   "source": [
    "a, b, c = 1, 2, 3"
   ]
  },
  {
   "cell_type": "markdown",
   "id": "51acb36c",
   "metadata": {},
   "source": [
    "### 6. Type Conversion\n",
    "\n",
    "You can convert the type of variables explicitly:\n",
    "\n",
    "•\tint(), float(), str(), bool()"
   ]
  },
  {
   "cell_type": "code",
   "execution_count": 9,
   "id": "c2286515",
   "metadata": {},
   "outputs": [],
   "source": [
    "x = 5\n",
    "y = float(x)  # y is now 5.0"
   ]
  },
  {
   "cell_type": "code",
   "execution_count": 10,
   "id": "a5b85723",
   "metadata": {},
   "outputs": [
    {
     "name": "stdout",
     "output_type": "stream",
     "text": [
      "25\n",
      "<class 'int'>\n",
      "25\n",
      "<class 'str'>\n"
     ]
    }
   ],
   "source": [
    "# Type Checking and Conversion\n",
    "\n",
    "age=25\n",
    "print(age)\n",
    "print(type(age))\n",
    "\n",
    "# Type conversion\n",
    "age_str=str(age)\n",
    "print(age_str)\n",
    "print(type(age_str))"
   ]
  },
  {
   "cell_type": "markdown",
   "id": "39156696",
   "metadata": {},
   "source": [
    "### 7. Global and Local Variables"
   ]
  },
  {
   "cell_type": "markdown",
   "id": "3d9fc1c8",
   "metadata": {},
   "source": [
    "- __Local variables__ are defined within a function and cannot be accessed outside.\n",
    "\n",
    "- __Global variables__ are defined outside of all functions and are accessible from anywhere in the code."
   ]
  },
  {
   "cell_type": "code",
   "execution_count": 11,
   "id": "49c2c48f",
   "metadata": {},
   "outputs": [],
   "source": [
    "x = 10  # Global variable\n",
    "\n",
    "def my_function():\n",
    "    y = 5  # Local variable"
   ]
  },
  {
   "cell_type": "code",
   "execution_count": 12,
   "id": "4036ef4d",
   "metadata": {},
   "outputs": [
    {
     "name": "stdout",
     "output_type": "stream",
     "text": [
      "What is the age:20\n",
      "20 <class 'int'>\n"
     ]
    }
   ],
   "source": [
    "## input function\n",
    "\n",
    "age=int(input(\"What is the age\" \":\"))\n",
    "print(age,type(age))"
   ]
  },
  {
   "cell_type": "code",
   "execution_count": 13,
   "id": "0a56da05",
   "metadata": {},
   "outputs": [
    {
     "name": "stdout",
     "output_type": "stream",
     "text": [
      "Enter first number: 20\n",
      "Enter second number: 20\n",
      "Sum: 40.0\n",
      "Difference: 0.0\n",
      "Product: 400.0\n",
      "Quotient: 1.0\n"
     ]
    }
   ],
   "source": [
    "### Simple calculator\n",
    "num1 = float(input(\"Enter first number: \"))\n",
    "num2 = float(input(\"Enter second number: \"))\n",
    "\n",
    "sum = num1 + num2\n",
    "difference = num1 - num2\n",
    "product = num1 * num2\n",
    "quotient = num1 / num2\n",
    "\n",
    "print(\"Sum:\", sum)\n",
    "print(\"Difference:\", difference)\n",
    "print(\"Product:\", product)\n",
    "print(\"Quotient:\", quotient)"
   ]
  },
  {
   "cell_type": "markdown",
   "id": "c350e146",
   "metadata": {},
   "source": [
    "## Conclusion \n",
    "Variables are essential in Python programming for storing and manipulating data. Understanding how to declare, assign, and use variables effectively is crucial for writing functional and efficient code. Following proper naming conventions and understanding variable types will help in maintaining readability and consistency in your code."
   ]
  },
  {
   "cell_type": "code",
   "execution_count": null,
   "id": "7556e807",
   "metadata": {},
   "outputs": [],
   "source": []
  }
 ],
 "metadata": {
  "kernelspec": {
   "display_name": "Python 3 (ipykernel)",
   "language": "python",
   "name": "python3"
  },
  "language_info": {
   "codemirror_mode": {
    "name": "ipython",
    "version": 3
   },
   "file_extension": ".py",
   "mimetype": "text/x-python",
   "name": "python",
   "nbconvert_exporter": "python",
   "pygments_lexer": "ipython3",
   "version": "3.9.13"
  }
 },
 "nbformat": 4,
 "nbformat_minor": 5
}
