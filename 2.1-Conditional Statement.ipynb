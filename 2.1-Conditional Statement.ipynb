{
 "cells": [
  {
   "cell_type": "markdown",
   "id": "ee6ac96f",
   "metadata": {},
   "source": [
    "# Conditional Statements (if, elif, else)\n",
    "\n",
    "Conditional statements in Python allow you to execute specific blocks of code based on whether certain conditions are met. They help in controlling the flow of a program by checking if statements are True or False."
   ]
  },
  {
   "cell_type": "markdown",
   "id": "80830992",
   "metadata": {},
   "source": [
    "## 1. if Statement :\n",
    "The if statement is the simplest form of conditional control. It evaluates a condition and executes a block of code if the condition is True."
   ]
  },
  {
   "cell_type": "code",
   "execution_count": 4,
   "id": "17390bc0",
   "metadata": {},
   "outputs": [
    {
     "name": "stdout",
     "output_type": "stream",
     "text": [
      "You are an adult\n"
     ]
    }
   ],
   "source": [
    "#if condition:\n",
    "    # Code block to execute if the condition is true \n",
    "    \n",
    "    \n",
    "#Example:\n",
    "\n",
    "age = 18\n",
    "if age>=18 :\n",
    "    print(\"You are an adult\")"
   ]
  },
  {
   "cell_type": "markdown",
   "id": "4d18af65",
   "metadata": {},
   "source": [
    "## 2. if-else Statement\n",
    "\n",
    "The else block is executed when the if condition is False. It provides an alternative block of code when the condition is not met."
   ]
  },
  {
   "cell_type": "code",
   "execution_count": 5,
   "id": "7da73224",
   "metadata": {},
   "outputs": [
    {
     "name": "stdout",
     "output_type": "stream",
     "text": [
      "You are not an adult.\n"
     ]
    }
   ],
   "source": [
    "#if condition:\n",
    "    # Code block to execute if condition is true\n",
    "#else:\n",
    "    # Code block to execute if condition is false\n",
    "    \n",
    "#Example:\n",
    "\n",
    "age = 16\n",
    "if age >= 18:\n",
    "    print(\"You are an adult.\")\n",
    "else:\n",
    "    print(\"You are not an adult.\")"
   ]
  },
  {
   "cell_type": "markdown",
   "id": "18a2d3d4",
   "metadata": {},
   "source": [
    "## 3. if-elif-else Statement\n",
    "\n",
    "When you have multiple conditions to check, you can use elif (short for “else if”). It allows you to test several conditions sequentially, executing the first block of code where the condition is True."
   ]
  },
  {
   "cell_type": "code",
   "execution_count": 6,
   "id": "60634be2",
   "metadata": {},
   "outputs": [
    {
     "name": "stdout",
     "output_type": "stream",
     "text": [
      "Grade: B\n"
     ]
    }
   ],
   "source": [
    "#if condition1:\n",
    "    # Code block for condition1\n",
    "#elif condition2:\n",
    "    # Code block for condition2\n",
    "#else:\n",
    "    # Code block if none of the above conditions are true\n",
    "    \n",
    "# Example \n",
    "\n",
    "\n",
    "score = 85\n",
    "\n",
    "if score >= 90:\n",
    "    print(\"Grade: A\")\n",
    "elif score >= 80:\n",
    "    print(\"Grade: B\")\n",
    "elif score >= 70:\n",
    "    print(\"Grade: C\")\n",
    "else:\n",
    "    print(\"Grade: D\")"
   ]
  },
  {
   "cell_type": "markdown",
   "id": "8db075ee",
   "metadata": {},
   "source": [
    "## 4. Nested Conditonal Statements\n",
    "\n",
    "You can place one or more if, elif, or else statements inside another if, elif, or else statement to create nested conditional statements.\n"
   ]
  },
  {
   "cell_type": "code",
   "execution_count": 8,
   "id": "f7fca90f",
   "metadata": {},
   "outputs": [
    {
     "name": "stdout",
     "output_type": "stream",
     "text": [
      "Enter the number : 20\n",
      "The number is positive\n",
      "The number is even\n"
     ]
    }
   ],
   "source": [
    "# number even,odd,negative\n",
    "\n",
    "num=int(input(\"Enter the number : \"))\n",
    "\n",
    "if num>0:\n",
    "    print(\"The number is positive\")\n",
    "    if num%2==0:\n",
    "        print(\"The number is even\")\n",
    "    else:\n",
    "        print(\"The number is odd\")\n",
    "else:\n",
    "    print(\"The number is zero or negative\")"
   ]
  },
  {
   "cell_type": "markdown",
   "id": "d8a5584c",
   "metadata": {},
   "source": [
    "## 5. Logical Operators in Conditional Statements\n",
    "\n",
    "You can use logical operators (and, or, not) to combine multiple conditions within if statements.\n",
    "\n",
    "- __and__: Returns True if both conditions are true.\n",
    "- __or__: Returns True if at least one condition is true.\n",
    "- __not__: Reverses the logical state of its operand."
   ]
  },
  {
   "cell_type": "code",
   "execution_count": 9,
   "id": "67888c4f",
   "metadata": {},
   "outputs": [
    {
     "name": "stdout",
     "output_type": "stream",
     "text": [
      "You are an adult female.\n"
     ]
    }
   ],
   "source": [
    "age = 20\n",
    "gender = \"Female\"\n",
    "\n",
    "if age >= 18 and gender == \"Female\":\n",
    "    print(\"You are an adult female.\")\n",
    "else:\n",
    "    print(\"Condition not met.\")"
   ]
  },
  {
   "cell_type": "markdown",
   "id": "1d833381",
   "metadata": {},
   "source": [
    "## 6. in Operator in Conditional Statements\n",
    "\n",
    "You can use the in keyword to check if a value exists within a collection, such as a list, tuple, or string.\n",
    "\n",
    "Example:"
   ]
  },
  {
   "cell_type": "code",
   "execution_count": 10,
   "id": "cf571451",
   "metadata": {},
   "outputs": [
    {
     "name": "stdout",
     "output_type": "stream",
     "text": [
      "Banana is in the list.\n"
     ]
    }
   ],
   "source": [
    "fruits = [\"apple\", \"banana\", \"cherry\"]\n",
    "\n",
    "if \"banana\" in fruits:\n",
    "    print(\"Banana is in the list.\")\n",
    "else:\n",
    "    print(\"Banana is not in the list.\")"
   ]
  },
  {
   "cell_type": "markdown",
   "id": "26471603",
   "metadata": {},
   "source": [
    "## 7. pass in Conditional Statements\n",
    "\n",
    "Sometimes, you might need to write a placeholder for future code in an if statement. Python uses the pass keyword for this purpose. It does nothing and lets the code pass through.\n"
   ]
  },
  {
   "cell_type": "code",
   "execution_count": 12,
   "id": "3b78d4a6",
   "metadata": {},
   "outputs": [],
   "source": [
    "#if condition:\n",
    "    #pass  # Placeholder for future code\n",
    "\n",
    "age = 20\n",
    "if age >= 18:\n",
    "    pass  # Implement later\n",
    "else:\n",
    "    print(\"Minor\")"
   ]
  },
  {
   "cell_type": "markdown",
   "id": "3a9cc779",
   "metadata": {},
   "source": [
    "# Summary of Conditional Statements in Python:\n",
    "\n",
    "- __if__: Checks a condition and executes the block if True.\n",
    "\n",
    "\n",
    "- __if-else__: Adds an alternative block if the condition is False.\n",
    "\n",
    "\n",
    "- __if-elif-else__: Checks multiple conditions sequentially.\n",
    "\n",
    "\n",
    "- __Nested if__: Allows placing if statements inside each other.\n",
    "\n",
    "\n",
    "- __Logical Operators__: Combine multiple conditions (and, or, not).\n",
    "\n",
    "\n",
    "- __in Operator__: Checks if a value exists in a sequence or collection.\n",
    "\n",
    "\n",
    "Conditional statements in Python allow you to control the flow of your program based on the conditions being met."
   ]
  },
  {
   "cell_type": "markdown",
   "id": "b872db9b",
   "metadata": {},
   "source": [
    "# Practice Examples "
   ]
  },
  {
   "cell_type": "raw",
   "id": "3015208b",
   "metadata": {},
   "source": [
    "Scenario: E-commerce Discount Calculation\n",
    "\n",
    "We want to calculate a discount for customers based on their membership status, purchase amount, and if they have a promo code. The rules are:\n",
    "\n",
    "\t1.\tPlatinum Members:\n",
    "\t•\tGet a 30% discount on purchases over $500.\n",
    "\t•\tGet a 20% discount on purchases over $100.\n",
    "\t•\tAny purchase of $100 or less gets a 10% discount.\n",
    "\t2.\tGold Members:\n",
    "\t•\tGet a 20% discount on purchases over $500.\n",
    "\t•\tGet a 15% discount on purchases over $100.\n",
    "\t•\tPurchases under $100 get a 5% discount.\n",
    "\t3.\tSilver Members:\n",
    "\t•\tGet a 10% discount on purchases over $500.\n",
    "\t•\tGet a 5% discount on purchases over $100.\n",
    "\t•\tPurchases under $100 get no discount.\n",
    "\t4.\tPromo Code: If the customer has a valid promo code, they get an additional 10% discount after all other discounts.\n"
   ]
  },
  {
   "cell_type": "code",
   "execution_count": 14,
   "id": "0108b58b",
   "metadata": {},
   "outputs": [
    {
     "name": "stdout",
     "output_type": "stream",
     "text": [
      "378.0\n",
      "127.5\n",
      "45.0\n"
     ]
    }
   ],
   "source": [
    "# Here’s the code to calculate the final price based on these conditions:\n",
    "\n",
    "def calculate_discounted_price(membership, purchase_amount, promo_code=None):\n",
    "    # Apply base discount based on membership type and purchase amount\n",
    "    if membership == \"Platinum\":\n",
    "        if purchase_amount > 500:\n",
    "            discount = 0.30\n",
    "        elif purchase_amount > 100:\n",
    "            discount = 0.20\n",
    "        else:\n",
    "            discount = 0.10\n",
    "    elif membership == \"Gold\":\n",
    "        if purchase_amount > 500:\n",
    "            discount = 0.20\n",
    "        elif purchase_amount > 100:\n",
    "            discount = 0.15\n",
    "        else:\n",
    "            discount = 0.05\n",
    "    elif membership == \"Silver\":\n",
    "        if purchase_amount > 500:\n",
    "            discount = 0.10\n",
    "        elif purchase_amount > 100:\n",
    "            discount = 0.05\n",
    "        else:\n",
    "            discount = 0.0\n",
    "    else:\n",
    "        discount = 0.0  # No membership, no discount\n",
    "    \n",
    "    # Apply the discount\n",
    "    discounted_price = purchase_amount * (1 - discount)\n",
    "    \n",
    "    # Check if there is a valid promo code\n",
    "    if promo_code and promo_code == \"PROMO10\":\n",
    "        # Apply an additional 10% discount on the discounted price\n",
    "        final_price = discounted_price * 0.90\n",
    "    else:\n",
    "        final_price = discounted_price\n",
    "    \n",
    "    return round(final_price, 2)\n",
    "\n",
    "# Test the function with different scenarios\n",
    "print(calculate_discounted_price(\"Platinum\", 600, \"PROMO10\"))  # Expected lower price with promo code\n",
    "print(calculate_discounted_price(\"Gold\", 150, None))           # Gold member, no promo code\n",
    "print(calculate_discounted_price(\"Silver\", 50, \"PROMO10\"))     # Small purchase, promo code should still apply"
   ]
  },
  {
   "cell_type": "markdown",
   "id": "b8a99d8c",
   "metadata": {},
   "source": [
    "### Employee Bonus Calculation\n",
    "\n",
    "Calculate an employee's bonus based on their performance rating and years of service."
   ]
  },
  {
   "cell_type": "code",
   "execution_count": 16,
   "id": "16f91878",
   "metadata": {},
   "outputs": [
    {
     "name": "stdout",
     "output_type": "stream",
     "text": [
      "Enter years of service: 40\n",
      "Enter performance rating (1.0 to 5.0): 4\n",
      "Enter current salary: 2000000\n",
      "Bonus Amount: $300000.00\n"
     ]
    }
   ],
   "source": [
    "# Employee bonus calculation\n",
    "\n",
    "# Take user input\n",
    "years_of_service = int(input(\"Enter years of service: \"))\n",
    "performance_rating = float(input(\"Enter performance rating (1.0 to 5.0): \"))\n",
    "\n",
    "# Determine bonus percentage\n",
    "if performance_rating >= 4.5:\n",
    "    if years_of_service > 10:\n",
    "        bonus_percentage = 20\n",
    "    elif years_of_service > 5:\n",
    "        bonus_percentage = 15\n",
    "    else:\n",
    "        bonus_percentage = 10\n",
    "elif performance_rating >= 3.5:\n",
    "    if years_of_service > 10:\n",
    "        bonus_percentage = 15\n",
    "    elif years_of_service > 5:\n",
    "        bonus_percentage = 10\n",
    "    else:\n",
    "        bonus_percentage = 5\n",
    "else:\n",
    "    bonus_percentage = 0\n",
    "\n",
    "# Calculate bonus amount\n",
    "salary = float(input(\"Enter current salary: \"))\n",
    "bonus_amount = salary * bonus_percentage / 100\n",
    "\n",
    "print(\"Bonus Amount: ${:.2f}\".format(bonus_amount))\n"
   ]
  },
  {
   "cell_type": "code",
   "execution_count": 17,
   "id": "b938eb4f",
   "metadata": {},
   "outputs": [
    {
     "name": "stdout",
     "output_type": "stream",
     "text": [
      "Enter your age: 20\n",
      "Are you a student? (yes/no): yes\n",
      "Ticket Price: $18\n"
     ]
    }
   ],
   "source": [
    "### Determine the ticket price based on age and whether the person is a student.\n",
    "# Ticket pricing based on age and student status\n",
    "\n",
    "# Take user input\n",
    "age = int(input(\"Enter your age: \"))\n",
    "is_student = input(\"Are you a student? (yes/no): \").lower()\n",
    "\n",
    "# Determine ticket price\n",
    "if age < 5:\n",
    "    price = \"Free\"\n",
    "elif age <= 12:\n",
    "    price = \"$10\"\n",
    "elif age <= 17:\n",
    "    if is_student == 'yes':\n",
    "        price = \"$12\"\n",
    "    else:\n",
    "        price = \"$15\"\n",
    "elif age <= 64:\n",
    "    if is_student == 'yes':\n",
    "        price = \"$18\"\n",
    "    else:\n",
    "        price = \"$25\"\n",
    "else:\n",
    "    price = \"$20\"\n",
    "\n",
    "print(\"Ticket Price:\", price)\n",
    "\n"
   ]
  },
  {
   "cell_type": "code",
   "execution_count": null,
   "id": "41520c0d",
   "metadata": {},
   "outputs": [],
   "source": []
  }
 ],
 "metadata": {
  "kernelspec": {
   "display_name": "Python 3 (ipykernel)",
   "language": "python",
   "name": "python3"
  },
  "language_info": {
   "codemirror_mode": {
    "name": "ipython",
    "version": 3
   },
   "file_extension": ".py",
   "mimetype": "text/x-python",
   "name": "python",
   "nbconvert_exporter": "python",
   "pygments_lexer": "ipython3",
   "version": "3.9.13"
  }
 },
 "nbformat": 4,
 "nbformat_minor": 5
}
