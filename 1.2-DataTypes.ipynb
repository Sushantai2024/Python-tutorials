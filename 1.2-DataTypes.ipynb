{
 "cells": [
  {
   "cell_type": "markdown",
   "id": "6048cc28",
   "metadata": {},
   "source": [
    "# DataTypes\n",
    "\n",
    "### Definition:\n",
    "\n",
    "- Data types are a classification of data which tell the compiler or interpreter how the programmer intends to use the data.\n",
    "- They determine the type of operations that can be performed on the data, the values that the data can take, and the amount of memory needed to store the data.\n",
    "\n",
    "###  Importance of Data Types in Programming\n",
    "Explanation:\n",
    "\n",
    "- Data types ensure that data is stored in an efficient way.\n",
    "- They help in performing correct operations on data.\n",
    "- Proper use of data types can prevent errors and bugs in the program."
   ]
  },
  {
   "cell_type": "markdown",
   "id": "5d40bacc",
   "metadata": {},
   "source": [
    "### Most commonly used data types in Python:\n",
    "\n",
    "### 1. Numeric Types\n",
    "\n",
    "These data types are used to store numbers.\n",
    "- __int__: Represents whole numbers (integers).\n",
    "\n",
    "- __float__: Represents numbers with decimal points (floating-point numbers).\n",
    "\n",
    "- __complex__: Represents complex numbers with real and imaginary parts."
   ]
  },
  {
   "cell_type": "code",
   "execution_count": 4,
   "id": "d1937b62",
   "metadata": {},
   "outputs": [],
   "source": [
    "# integers\n",
    "age = 25\n",
    "\n",
    "# floating-point numbers\n",
    "pi = 3.14\n",
    "\n",
    "# complex numbers with real and imaginary parts\n",
    "z = 1 + 2j"
   ]
  },
  {
   "cell_type": "markdown",
   "id": "226f43a9",
   "metadata": {},
   "source": [
    "### 2. Boolean Type\n",
    "\n",
    "Represents logical values: True or False."
   ]
  },
  {
   "cell_type": "code",
   "execution_count": 5,
   "id": "652d7de6",
   "metadata": {},
   "outputs": [],
   "source": [
    "# boolean\n",
    "is_active = True\n",
    "has_errors = False"
   ]
  },
  {
   "cell_type": "markdown",
   "id": "c1acc989",
   "metadata": {},
   "source": [
    "### 3. String Type\n",
    "\n",
    "- __str__: Used for text data (sequence of characters). Strings can be enclosed in single, double, or triple quotes."
   ]
  },
  {
   "cell_type": "code",
   "execution_count": 6,
   "id": "f3fa3138",
   "metadata": {},
   "outputs": [],
   "source": [
    "# string\n",
    "name = \"John\"\n",
    "sentence = 'This is a string'"
   ]
  },
  {
   "cell_type": "markdown",
   "id": "7960ed90",
   "metadata": {},
   "source": [
    "##### Strings are immutable, meaning once created, they cannot be modified in place."
   ]
  },
  {
   "cell_type": "markdown",
   "id": "4614ee2f",
   "metadata": {},
   "source": [
    "### 4. Sequence Types\n",
    "\n",
    "These types are used to store collections of items in a specific order.\n",
    "\n",
    "- __list__: An ordered, __mutable collection__ of items. Lists can hold mixed data types.\n",
    "\n",
    "- __tuple__: An ordered, __immutable collection__ of items. Once created, tuples cannot be modified.\n",
    "\n",
    "- __range__: Represents a sequence of numbers, typically used in loops."
   ]
  },
  {
   "cell_type": "code",
   "execution_count": 7,
   "id": "74f38efc",
   "metadata": {},
   "outputs": [
    {
     "data": {
      "text/plain": [
       "range(0, 10)"
      ]
     },
     "execution_count": 7,
     "metadata": {},
     "output_type": "execute_result"
    }
   ],
   "source": [
    "# list \n",
    "numbers = [1, 2, 3, 4]\n",
    "mixed = [1, \"apple\", 3.5]\n",
    "\n",
    "#tuple\n",
    "coordinates = (10, 20)\n",
    "\n",
    "#range\n",
    "range(0, 10)"
   ]
  },
  {
   "cell_type": "markdown",
   "id": "d7603ff5",
   "metadata": {},
   "source": [
    "### 5. Set Types\n",
    "\n",
    "- __set__: An unordered collection of unique items."
   ]
  },
  {
   "cell_type": "code",
   "execution_count": 8,
   "id": "e6a62341",
   "metadata": {},
   "outputs": [],
   "source": [
    "# set\n",
    "fruits = {\"apple\", \"banana\", \"orange\"}"
   ]
  },
  {
   "cell_type": "markdown",
   "id": "18f03461",
   "metadata": {},
   "source": [
    "### 6. Mapping Type\n",
    "\n",
    "- __dict__: A collection of __key-value pairs__. Keys must be unique and can be any immutable type (like strings, numbers, or tuples)."
   ]
  },
  {
   "cell_type": "code",
   "execution_count": 9,
   "id": "2cea407c",
   "metadata": {},
   "outputs": [],
   "source": [
    "# dict \n",
    "student = {\"name\": \"Alice\", \"age\": 21, \"major\": \"CS\"}"
   ]
  },
  {
   "cell_type": "markdown",
   "id": "2806686f",
   "metadata": {},
   "source": [
    "### Type Checking\n",
    "\n",
    "You can check the type of a variable using the type() function."
   ]
  },
  {
   "cell_type": "code",
   "execution_count": 10,
   "id": "cf98abd0",
   "metadata": {},
   "outputs": [
    {
     "data": {
      "text/plain": [
       "str"
      ]
     },
     "execution_count": 10,
     "metadata": {},
     "output_type": "execute_result"
    }
   ],
   "source": [
    "type(5)          # <class 'int'>\n",
    "type(\"hello\")    # <class 'str'>"
   ]
  },
  {
   "cell_type": "markdown",
   "id": "116551c3",
   "metadata": {},
   "source": [
    "### Summary of Data Types:\n",
    "\n",
    "- __Numeric__: int, float, complex\n",
    "- __Boolean__: bool\n",
    "- __String__: string\n",
    "- __Sequence__: list, tuple, range\n",
    "- __Set__: set\n",
    "- __Mapping__: dict\n",
    "\n",
    "\n",
    "These data types allow Python to handle various kinds of data and operations efficiently."
   ]
  },
  {
   "cell_type": "code",
   "execution_count": null,
   "id": "5d0e1c42",
   "metadata": {},
   "outputs": [],
   "source": []
  }
 ],
 "metadata": {
  "kernelspec": {
   "display_name": "Python 3 (ipykernel)",
   "language": "python",
   "name": "python3"
  },
  "language_info": {
   "codemirror_mode": {
    "name": "ipython",
    "version": 3
   },
   "file_extension": ".py",
   "mimetype": "text/x-python",
   "name": "python",
   "nbconvert_exporter": "python",
   "pygments_lexer": "ipython3",
   "version": "3.9.13"
  }
 },
 "nbformat": 4,
 "nbformat_minor": 5
}
