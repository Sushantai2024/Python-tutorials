{
 "cells": [
  {
   "cell_type": "markdown",
   "id": "2a628fdb",
   "metadata": {},
   "source": [
    "# Exception Handling in Python\n",
    "\n",
    "Exception handling in Python is a mechanism that allows the program to handle runtime errors gracefully. \n",
    "\n",
    "Instead of the program terminating abruptly when an error occurs, Python provides tools to catch and handle these errors. This makes programs more robust and user-friendly.\n",
    "\n",
    "\n",
    "## What is an Exception?\n",
    "\n",
    "An exception is an event that occurs during the execution of a program that disrupts the normal flow of instructions. \n",
    "\n",
    "In Python, exceptions are typically raised when a program encounters an error such as dividing by zero, accessing an invalid index in a list, or working with files that don’t exist.\n",
    "\n",
    "__For example:__"
   ]
  },
  {
   "cell_type": "code",
   "execution_count": null,
   "id": "51ce16ee",
   "metadata": {},
   "outputs": [],
   "source": [
    "x = 5 / 0  \n",
    "# This will raise a ZeroDivisionError"
   ]
  },
  {
   "cell_type": "markdown",
   "id": "e6661e4a",
   "metadata": {},
   "source": [
    "## Why Handle Exceptions?\n",
    "\n",
    "- __Avoid Crashing__: Unhandled exceptions will stop the program’s execution and show an error message. Exception handling ensures the program continues to run smoothly even when errors occur.\n",
    "\n",
    "\n",
    "- __Improve User Experience__: When exceptions are handled, you can provide meaningful error messages to users instead of cryptic Python error traces.\n",
    "\n",
    "\n",
    "- __Debugging__: It can help pinpoint what went wrong and where by logging the error."
   ]
  },
  {
   "cell_type": "markdown",
   "id": "3e4b5aff",
   "metadata": {},
   "source": [
    "## Exception Handling Syntax\n",
    "\n",
    "In Python, you can handle exceptions using try, except, else, and finally blocks.\n",
    "\n",
    "1.\t__try__: This block contains the code that might raise an exception.\n",
    "\n",
    "\n",
    "2.\t__except__: If an exception occurs in the try block, the control is transferred to the except block.\n",
    "\n",
    "\n",
    "3.\t__else__: This block is executed if no exceptions occur in the try block.\n",
    "\n",
    "\n",
    "4.\t__finally__: This block is executed no matter what—whether an exception occurs or not.\n"
   ]
  },
  {
   "cell_type": "code",
   "execution_count": 1,
   "id": "fa464341",
   "metadata": {},
   "outputs": [
    {
     "name": "stdout",
     "output_type": "stream",
     "text": [
      "Enter a number: 0\n",
      "Error: Cannot divide by zero.\n",
      "Execution completed.\n"
     ]
    }
   ],
   "source": [
    "try:\n",
    "    x = int(input(\"Enter a number: \"))\n",
    "    y = 10 / x\n",
    "    print(f\"Result: {y}\")\n",
    "except ZeroDivisionError:\n",
    "    print(\"Error: Cannot divide by zero.\")\n",
    "except ValueError:\n",
    "    print(\"Error: Invalid input. Please enter a valid integer.\")\n",
    "else:\n",
    "    print(\"The operation was successful.\")\n",
    "finally:\n",
    "    print(\"Execution completed.\")"
   ]
  },
  {
   "cell_type": "markdown",
   "id": "bc0c91fd",
   "metadata": {},
   "source": [
    "### Breakdown:\n",
    "\n",
    "•\t__try block__: Code inside this block will be executed first.\n",
    "\n",
    "\n",
    "•\t__except block__: This will catch and handle specific exceptions. \n",
    "In the above example, it handles ZeroDivisionError and ValueError.\n",
    "\n",
    "\n",
    "•\t__else block__: If no exception occurs in the try block, this block will run.\n",
    "\n",
    "\n",
    "•\t__finally block__: This block will always run, regardless of whether an exception occurred or not. It is usually used for cleanup actions (like closing a file or database connection).\n"
   ]
  },
  {
   "cell_type": "markdown",
   "id": "fbb66a33",
   "metadata": {},
   "source": [
    "### Multiple Exceptions\n",
    "\n",
    "You can catch multiple exceptions using separate except blocks or by grouping exceptions."
   ]
  },
  {
   "cell_type": "code",
   "execution_count": 2,
   "id": "b377ea6b",
   "metadata": {},
   "outputs": [
    {
     "name": "stdout",
     "output_type": "stream",
     "text": [
      "Enter a number: 'a'\n",
      "Either you entered a zero or invalid input.\n"
     ]
    }
   ],
   "source": [
    "try:\n",
    "    num = int(input(\"Enter a number: \"))\n",
    "    result = 10 / num\n",
    "except (ZeroDivisionError, ValueError):\n",
    "    print(\"Either you entered a zero or invalid input.\")"
   ]
  },
  {
   "cell_type": "markdown",
   "id": "ec0b0155",
   "metadata": {},
   "source": [
    "### Catching All Exceptions\n",
    "\n",
    "If you want to catch any kind of exception (though it’s generally not recommended because it’s too broad), you can use the Exception class."
   ]
  },
  {
   "cell_type": "code",
   "execution_count": 5,
   "id": "cdb5ee14",
   "metadata": {},
   "outputs": [
    {
     "name": "stdout",
     "output_type": "stream",
     "text": [
      "Enter a number: 0\n",
      "An error occurred: division by zero\n"
     ]
    }
   ],
   "source": [
    "try:\n",
    "    num = int(input(\"Enter a number: \"))\n",
    "    result = 10 / num\n",
    "except Exception as e:\n",
    "    print(f\"An error occurred: {e}\")"
   ]
  },
  {
   "cell_type": "markdown",
   "id": "fded9850",
   "metadata": {},
   "source": [
    "In this case, e will capture the error message."
   ]
  },
  {
   "cell_type": "markdown",
   "id": "8fa36520",
   "metadata": {},
   "source": [
    "## Raising Exceptions\n",
    "\n",
    "You can also manually raise exceptions using the raise keyword.\n"
   ]
  },
  {
   "cell_type": "code",
   "execution_count": 1,
   "id": "9ecc919d",
   "metadata": {},
   "outputs": [
    {
     "name": "stdout",
     "output_type": "stream",
     "text": [
      "Error: Age cannot be negative!\n"
     ]
    }
   ],
   "source": [
    "def check_age(age):\n",
    "    if age < 0:\n",
    "        raise ValueError(\"Age cannot be negative!\")\n",
    "    return age\n",
    "\n",
    "try:\n",
    "    print(check_age(-5))\n",
    "except ValueError as e:\n",
    "    print(f\"Error: {e}\")"
   ]
  },
  {
   "cell_type": "code",
   "execution_count": 2,
   "id": "92715f41",
   "metadata": {},
   "outputs": [
    {
     "name": "stdout",
     "output_type": "stream",
     "text": [
      "first number : 10\n",
      "second number : 0\n",
      "please enter non-zero denominator\n",
      "first number : 10\n",
      "second number : -10\n",
      "negative number note allowd\n",
      "first number : 10\n",
      "second number : a\n",
      "please enter int only\n",
      "first number : 10\n",
      "second number : 10\n",
      "div is :  1.0\n"
     ]
    }
   ],
   "source": [
    "while True :\n",
    "    try :\n",
    "        a = int(input(\"first number : \"))\n",
    "        b = int(input(\"second number : \"))\n",
    "        if a < 0 or b < 0 : \n",
    "            raise Exception (\"negative number note allowd\")\n",
    "        c = a/b\n",
    "        print(\"div is : \",c)\n",
    "        break\n",
    "    except ValueError :\n",
    "          print(\"please enter int only\")\n",
    "    except ZeroDivisionError :\n",
    "         print (\"please enter non-zero denominator\")\n",
    "    except Exception as e :\n",
    "          print(e)"
   ]
  },
  {
   "cell_type": "markdown",
   "id": "e5e1b07b",
   "metadata": {},
   "source": [
    "## Custom Exceptions\n",
    "\n",
    "You can define your own exceptions by inheriting from the built-in Exception class.\n"
   ]
  },
  {
   "cell_type": "code",
   "execution_count": 18,
   "id": "629989be",
   "metadata": {},
   "outputs": [
    {
     "name": "stdout",
     "output_type": "stream",
     "text": [
      "Something went wrong!\n"
     ]
    }
   ],
   "source": [
    "class CustomError(Exception):\n",
    "    pass\n",
    "\n",
    "def risky_function():\n",
    "    raise CustomError(\"Something went wrong!\")\n",
    "\n",
    "try:\n",
    "    risky_function()\n",
    "except CustomError as e:\n",
    "    print(e)"
   ]
  },
  {
   "cell_type": "code",
   "execution_count": 19,
   "id": "67bff476",
   "metadata": {},
   "outputs": [
    {
     "name": "stdout",
     "output_type": "stream",
     "text": [
      "first number : 10\n",
      "second number : 0\n",
      "(<class 'ZeroDivisionError'>, ZeroDivisionError('division by zero'), <traceback object at 0x108067300>)\n",
      "first number : 10\n",
      "second number : 5\n",
      "div :  2.0\n"
     ]
    }
   ],
   "source": [
    "import sys\n",
    "while True :\n",
    "    try :\n",
    "        a = int(input(\"first number : \"))\n",
    "        b = int(input(\"second number : \"))\n",
    "        c = a/b \n",
    "        print(\"div : \",c)\n",
    "        break\n",
    "    except :\n",
    "        print(sys.exc_info())"
   ]
  },
  {
   "cell_type": "code",
   "execution_count": 20,
   "id": "c6f08806",
   "metadata": {},
   "outputs": [
    {
     "name": "stdout",
     "output_type": "stream",
     "text": [
      "first number : 10\n",
      "second number : 0\n",
      "exception class <class 'ZeroDivisionError'>\n",
      "exception message division by zero\n",
      "line number 6\n",
      "first number : 10\n",
      "second number : 4\n",
      "div :  2.5\n"
     ]
    }
   ],
   "source": [
    "import sys\n",
    "while True :\n",
    "    try :\n",
    "        a = int(input(\"first number : \"))\n",
    "        b = int(input(\"second number : \"))\n",
    "        c = a/b \n",
    "        print(\"div : \",c)\n",
    "        break\n",
    "    except :\n",
    "        a,b,c = sys.exc_info()\n",
    "        print(\"exception class\", a)\n",
    "        print(\"exception message\", b)\n",
    "        print(\"line number\", c.tb_lineno)\n",
    "        "
   ]
  },
  {
   "cell_type": "markdown",
   "id": "8cf682ea",
   "metadata": {},
   "source": [
    "#### import sys.exc_info()\n",
    "\n",
    "#### import traceback.format_exc()\n",
    "\n",
    "\n",
    "👆 We can also use this module.\n"
   ]
  },
  {
   "cell_type": "code",
   "execution_count": 21,
   "id": "96937df1",
   "metadata": {},
   "outputs": [
    {
     "name": "stdout",
     "output_type": "stream",
     "text": [
      "first number : 10\n",
      "second number : 0\n",
      "Traceback (most recent call last):\n",
      "  File \"/var/folders/d4/vrqxqq1s1pv5l1d9x4mz_m6c0000gn/T/ipykernel_7455/1707514946.py\", line 6, in <cell line: 3>\n",
      "    c = a/b\n",
      "ZeroDivisionError: division by zero\n",
      "\n",
      "first number : 10\n",
      "second number : 7\n",
      "div :  1.4285714285714286\n"
     ]
    }
   ],
   "source": [
    "import traceback\n",
    "while True :\n",
    "    try :\n",
    "        a = int(input(\"first number : \"))\n",
    "        b = int(input(\"second number : \"))\n",
    "        c = a/b \n",
    "        print(\"div : \",c)\n",
    "        break\n",
    "    except :\n",
    "        print(traceback.format_exc())"
   ]
  },
  {
   "cell_type": "markdown",
   "id": "252f09a6",
   "metadata": {},
   "source": [
    "### - When to Use sys.exc_info() and import traceback.format_exc()\n",
    "\n",
    "sys.exc_info()and import traceback.format_exc() is useful when you need detailed information about the exception within the except block, especially when logging or handling complex errors in larger systems.\n",
    "\n"
   ]
  },
  {
   "cell_type": "markdown",
   "id": "81dafd91",
   "metadata": {},
   "source": [
    "# Conclusion\n",
    "\n",
    "Exception handling is a crucial part of writing robust and error-tolerant Python programs. By using try, except, else, and finally blocks, you can manage errors gracefully, provide meaningful feedback, and ensure that your program runs smoothly even in the face of unexpected issues."
   ]
  }
 ],
 "metadata": {
  "kernelspec": {
   "display_name": "Python 3 (ipykernel)",
   "language": "python",
   "name": "python3"
  },
  "language_info": {
   "codemirror_mode": {
    "name": "ipython",
    "version": 3
   },
   "file_extension": ".py",
   "mimetype": "text/x-python",
   "name": "python",
   "nbconvert_exporter": "python",
   "pygments_lexer": "ipython3",
   "version": "3.9.13"
  }
 },
 "nbformat": 4,
 "nbformat_minor": 5
}
