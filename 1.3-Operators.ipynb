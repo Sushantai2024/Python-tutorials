{
 "cells": [
  {
   "cell_type": "markdown",
   "id": "4aeb6885",
   "metadata": {},
   "source": [
    "# Operators"
   ]
  },
  {
   "cell_type": "markdown",
   "id": "de5f748b",
   "metadata": {},
   "source": [
    "## 1. Arithmetic Operators\n",
    "   - Addition(+)\n",
    "   - Subtraction(-)\n",
    "   - Multiplication(*)\n",
    "   - Division(/)\n",
    "   - Floor Division (quotient rounded down to the nearest whole number)(//)\n",
    "   - Modulus (remainder of the division)(%)\n",
    "   - Exponentiation (raising a number to a power)(**)"
   ]
  },
  {
   "cell_type": "code",
   "execution_count": 2,
   "id": "f1ce7f31",
   "metadata": {},
   "outputs": [
    {
     "name": "stdout",
     "output_type": "stream",
     "text": [
      "15\n",
      "5\n",
      "50\n",
      "2.0\n",
      "2\n",
      "0\n",
      "100000\n"
     ]
    }
   ],
   "source": [
    "## Arithmethic Operation\n",
    "\n",
    "a=10\n",
    "b = 5\n",
    "\n",
    "add_result=a+b  #addiiton\n",
    "sub_result=a-b  #substraction \n",
    "mult_result=a*b #multiplication\n",
    "div_result=a/b  #division\n",
    "floor_div_result=a//b ## floor division\n",
    "modulus_result=a%b #modulus operation\n",
    "exponent_result=a**b ## Exponentiation\n",
    "\n",
    "\n",
    "print(add_result)\n",
    "print(sub_result)\n",
    "print(mult_result)\n",
    "print(div_result)\n",
    "print(floor_div_result)\n",
    "print(modulus_result)\n",
    "print(exponent_result)"
   ]
  },
  {
   "cell_type": "markdown",
   "id": "746f5802",
   "metadata": {},
   "source": [
    "## 2. Comparison Operators\n",
    "   - Equal to (==)\n",
    "   - Not equal to(!=)\n",
    "   - Greater than(>)\n",
    "   - Less than(<)\n",
    "   - Greater than or equal to (<=)\n",
    "   - Less than or equal to (>=)\n",
    "   \n",
    "#### Comparison operators are used to compare two values and return a Boolean (True or False).\n"
   ]
  },
  {
   "cell_type": "code",
   "execution_count": 3,
   "id": "690430f4",
   "metadata": {},
   "outputs": [
    {
     "data": {
      "text/plain": [
       "True"
      ]
     },
     "execution_count": 3,
     "metadata": {},
     "output_type": "execute_result"
    }
   ],
   "source": [
    "# == Equal to\n",
    "a=10\n",
    "b=10\n",
    "\n",
    "a==b"
   ]
  },
  {
   "cell_type": "code",
   "execution_count": 5,
   "id": "408c6135",
   "metadata": {},
   "outputs": [
    {
     "data": {
      "text/plain": [
       "True"
      ]
     },
     "execution_count": 5,
     "metadata": {},
     "output_type": "execute_result"
    }
   ],
   "source": [
    "# Not Equal to !=\n",
    "\n",
    "str1 = \"Sushant\"\n",
    "str2 = \"Sushant\"\n",
    "str1 ==str2"
   ]
  },
  {
   "cell_type": "code",
   "execution_count": 9,
   "id": "9e1341b1",
   "metadata": {},
   "outputs": [
    {
     "data": {
      "text/plain": [
       "False"
      ]
     },
     "execution_count": 9,
     "metadata": {},
     "output_type": "execute_result"
    }
   ],
   "source": [
    "# greater than >\n",
    "\n",
    "num1=45\n",
    "num2=55\n",
    "\n",
    "num1>num2"
   ]
  },
  {
   "cell_type": "code",
   "execution_count": 10,
   "id": "127fb9e2",
   "metadata": {},
   "outputs": [
    {
     "data": {
      "text/plain": [
       "True"
      ]
     },
     "execution_count": 10,
     "metadata": {},
     "output_type": "execute_result"
    }
   ],
   "source": [
    "## less than <\n",
    "\n",
    "num1<num2"
   ]
  },
  {
   "cell_type": "code",
   "execution_count": 11,
   "id": "6e79f8af",
   "metadata": {},
   "outputs": [
    {
     "name": "stdout",
     "output_type": "stream",
     "text": [
      "True\n"
     ]
    }
   ],
   "source": [
    "#greater than or equal to\n",
    "\n",
    "number1=45\n",
    "number2=45\n",
    "\n",
    "print(number1>=number2)\n"
   ]
  },
  {
   "cell_type": "code",
   "execution_count": 13,
   "id": "932be633",
   "metadata": {},
   "outputs": [
    {
     "name": "stdout",
     "output_type": "stream",
     "text": [
      "True\n"
     ]
    }
   ],
   "source": [
    "#less than or equal to\n",
    "\n",
    "number1=44\n",
    "number2=45\n",
    "\n",
    "print(number1<=number2)"
   ]
  },
  {
   "cell_type": "markdown",
   "id": "6af69ef0",
   "metadata": {},
   "source": [
    "## 3. Logical Operators\n",
    "\n",
    "Logical operators are used to combine conditional statements and return a Boolean result.\n",
    "\n",
    "- __and__: Returns True if both conditions are True.\n",
    "- __or__: Returns True if at least one condition is True.\n",
    "- __not__: Reverses the result of a condition"
   ]
  },
  {
   "cell_type": "code",
   "execution_count": 14,
   "id": "ea59fff3",
   "metadata": {},
   "outputs": [
    {
     "name": "stdout",
     "output_type": "stream",
     "text": [
      "True\n"
     ]
    }
   ],
   "source": [
    "# And \n",
    "X=True\n",
    "Y=True\n",
    "\n",
    "result = X and Y\n",
    "print(result)"
   ]
  },
  {
   "cell_type": "code",
   "execution_count": 18,
   "id": "fdd17a5e",
   "metadata": {},
   "outputs": [
    {
     "name": "stdout",
     "output_type": "stream",
     "text": [
      "False\n"
     ]
    }
   ],
   "source": [
    "# And \n",
    "X=True\n",
    "Y=False\n",
    "\n",
    "result = X and Y\n",
    "print(result)"
   ]
  },
  {
   "cell_type": "code",
   "execution_count": 15,
   "id": "64912641",
   "metadata": {},
   "outputs": [
    {
     "name": "stdout",
     "output_type": "stream",
     "text": [
      "True\n"
     ]
    }
   ],
   "source": [
    "# OR \n",
    "X=True\n",
    "Y=True\n",
    "\n",
    "result = X or Y\n",
    "print(result)"
   ]
  },
  {
   "cell_type": "code",
   "execution_count": 20,
   "id": "a7012197",
   "metadata": {},
   "outputs": [
    {
     "name": "stdout",
     "output_type": "stream",
     "text": [
      "False\n"
     ]
    }
   ],
   "source": [
    "# OR \n",
    "X=False\n",
    "Y=False\n",
    "\n",
    "result = X or Y\n",
    "print(result)"
   ]
  },
  {
   "cell_type": "code",
   "execution_count": 17,
   "id": "6c8e57cc",
   "metadata": {},
   "outputs": [
    {
     "data": {
      "text/plain": [
       "False"
      ]
     },
     "execution_count": 17,
     "metadata": {},
     "output_type": "execute_result"
    }
   ],
   "source": [
    "# not\n",
    "X=True\n",
    "not X"
   ]
  },
  {
   "cell_type": "markdown",
   "id": "fca76f0d",
   "metadata": {},
   "source": [
    "## 4. Assignment Operators\n",
    "\n",
    "Assignment operators are used to assign values to variables.\n"
   ]
  },
  {
   "cell_type": "code",
   "execution_count": 1,
   "id": "8b8acdee",
   "metadata": {},
   "outputs": [],
   "source": [
    "# =: Assigns a value\n",
    "x = 10  # x is assigned the value 10\n",
    "\n",
    "#+=: Adds and assigns\n",
    "x += 5  # x = x + 5\n",
    "\n",
    "#-=: Subtracts and assigns\n",
    "x -= 3  # x = x - 3\n",
    "\n",
    "#*=: Multiplies and assigns\n",
    "x *= 2  # x = x * 2\n",
    "\n",
    "#/=: Divides and assigns\n",
    "x /= 2  # x = x / 2\n",
    "\n",
    "#%=: Modulus and assigns\n",
    "x %= 2  # x = x % 2\n",
    "    \n",
    "#**=: Exponentiation and assigns\n",
    "x **= 2  # x = x ** 2"
   ]
  },
  {
   "cell_type": "markdown",
   "id": "db3a6137",
   "metadata": {},
   "source": [
    "#### These operators allow Python to perform a wide range of tasks, from basic math to logical operations."
   ]
  },
  {
   "cell_type": "code",
   "execution_count": null,
   "id": "05938018",
   "metadata": {},
   "outputs": [],
   "source": []
  }
 ],
 "metadata": {
  "kernelspec": {
   "display_name": "Python 3 (ipykernel)",
   "language": "python",
   "name": "python3"
  },
  "language_info": {
   "codemirror_mode": {
    "name": "ipython",
    "version": 3
   },
   "file_extension": ".py",
   "mimetype": "text/x-python",
   "name": "python",
   "nbconvert_exporter": "python",
   "pygments_lexer": "ipython3",
   "version": "3.9.13"
  }
 },
 "nbformat": 4,
 "nbformat_minor": 5
}
