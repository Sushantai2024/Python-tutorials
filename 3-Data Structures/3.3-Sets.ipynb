{
 "cells": [
  {
   "cell_type": "markdown",
   "id": "fee2d563",
   "metadata": {},
   "source": [
    "# Sets \n",
    "\n",
    "\n",
    "In Python, a set is an unordered, mutable collection of unique elements. Sets are particularly useful when you want to store a collection of items without duplicates and perform operations like union, intersection, and difference between sets.\n",
    "\n",
    "### Key Characteristics of Sets:\n",
    "\n",
    "1.\t__Unordered__: Sets do not maintain any particular order of the elements.\n",
    "2.\t__Mutable__: You can add and remove elements from a set after its creation.\n",
    "3.\t__Unique Elements__: Sets automatically remove duplicate elements.\n",
    "4.\t__Unindexed__: Unlike lists or tuples, sets do not support indexing or slicing since they are unordered.\n"
   ]
  },
  {
   "cell_type": "markdown",
   "id": "33745582",
   "metadata": {},
   "source": [
    "### Syntax:\n",
    "\n",
    "Sets are defined by placing all the elements (items) inside curly braces {}, separated by commas, or by using the set() constructor."
   ]
  },
  {
   "cell_type": "code",
   "execution_count": 1,
   "id": "b0e96231",
   "metadata": {},
   "outputs": [],
   "source": [
    "# Creating a set\n",
    "my_set = {1, 2, 3, 4}\n",
    "\n",
    "# Using the set() constructor\n",
    "another_set = set([1, 2, 2, 3, 4])"
   ]
  },
  {
   "cell_type": "code",
   "execution_count": 2,
   "id": "40b9a809",
   "metadata": {},
   "outputs": [
    {
     "name": "stdout",
     "output_type": "stream",
     "text": [
      "{1, 2, 3, 4}\n"
     ]
    }
   ],
   "source": [
    "# Example \n",
    "\n",
    "# Creating a set with unique elements\n",
    "my_set = {1, 2, 3, 4, 2, 3}\n",
    "\n",
    "print(my_set)  "
   ]
  },
  {
   "cell_type": "markdown",
   "id": "c86968e3",
   "metadata": {},
   "source": [
    "### Basic Set Operations:\n",
    "\n",
    "\n",
    "1.\t__Adding Elements__:\n",
    "- You can add elements to a set using the add() method."
   ]
  },
  {
   "cell_type": "code",
   "execution_count": 3,
   "id": "7237b038",
   "metadata": {},
   "outputs": [
    {
     "name": "stdout",
     "output_type": "stream",
     "text": [
      "{1, 2, 3, 4}\n"
     ]
    }
   ],
   "source": [
    "my_set = {1, 2, 3}\n",
    "my_set.add(4)\n",
    "print(my_set)  # Output: {1, 2, 3, 4}"
   ]
  },
  {
   "cell_type": "markdown",
   "id": "cf12b1dd",
   "metadata": {},
   "source": [
    "2.\t__Removing Elements__:\n",
    "- You can remove elements using remove() (raises an error if the element is not found) or discard() (does not raise an error if the element is not found)."
   ]
  },
  {
   "cell_type": "code",
   "execution_count": 4,
   "id": "35378662",
   "metadata": {},
   "outputs": [
    {
     "name": "stdout",
     "output_type": "stream",
     "text": [
      "{1, 3}\n",
      "{1}\n"
     ]
    }
   ],
   "source": [
    "my_set = {1, 2, 3}\n",
    "my_set.remove(2)\n",
    "print(my_set)  \n",
    "\n",
    "my_set.discard(3)\n",
    "print(my_set)  "
   ]
  },
  {
   "cell_type": "markdown",
   "id": "019dc105",
   "metadata": {},
   "source": [
    "3.\t__Checking Membership__:\n",
    "- You can check if an element is in a set using the in keyword."
   ]
  },
  {
   "cell_type": "code",
   "execution_count": 5,
   "id": "e9553551",
   "metadata": {},
   "outputs": [
    {
     "name": "stdout",
     "output_type": "stream",
     "text": [
      "True\n",
      "False\n"
     ]
    }
   ],
   "source": [
    "my_set = {1, 2, 3}\n",
    "print(2 in my_set)  \n",
    "print(4 in my_set)  "
   ]
  },
  {
   "cell_type": "markdown",
   "id": "458c2faa",
   "metadata": {},
   "source": [
    "4.\t__Set Length__:\n",
    "- Use the len() function to get the number of elements in a set."
   ]
  },
  {
   "cell_type": "code",
   "execution_count": 6,
   "id": "c4cca4a7",
   "metadata": {},
   "outputs": [
    {
     "name": "stdout",
     "output_type": "stream",
     "text": [
      "3\n"
     ]
    }
   ],
   "source": [
    "my_set = {1, 2, 3}\n",
    "print(len(my_set))  # Output: 3"
   ]
  },
  {
   "cell_type": "markdown",
   "id": "38f0ac2f",
   "metadata": {},
   "source": [
    "### Set Operations:\n",
    "\n",
    "Python provides several built-in methods and operators to perform mathematical set operations like union, intersection, difference, and symmetric difference.\n",
    "\n",
    "1.\t__Union (| or union())__: Combines all unique elements from two sets.\n",
    "    \n",
    "    \n",
    "2.\t__Intersection (& or intersection())__: Returns only the elements common to both sets.\n",
    "    \n",
    "    \n",
    "3.\t__Difference (- or difference())__: Returns elements that are in the first set but not in the second.\n",
    "\n",
    "\n",
    "4.\t__Symmetric Difference (^ or symmetric_difference())__: Returns elements that are in either set, but not in both (i.e., excludes common elements)."
   ]
  },
  {
   "cell_type": "code",
   "execution_count": 7,
   "id": "d2c36f44",
   "metadata": {},
   "outputs": [
    {
     "name": "stdout",
     "output_type": "stream",
     "text": [
      "{1, 2, 3, 4, 5, 6}\n",
      "{3, 4}\n",
      "{1, 2}\n",
      "{1, 2, 5, 6}\n"
     ]
    }
   ],
   "source": [
    "# Set operations example\n",
    "set1 = {1, 2, 3, 4}\n",
    "set2 = {3, 4, 5, 6}\n",
    "\n",
    "# Union\n",
    "print(set1 | set2)  \n",
    "\n",
    "# Intersection\n",
    "print(set1 & set2)  \n",
    "\n",
    "# Difference\n",
    "print(set1 - set2)  \n",
    "\n",
    "# Symmetric Difference\n",
    "print(set1 ^ set2)  "
   ]
  },
  {
   "cell_type": "markdown",
   "id": "f8c29167",
   "metadata": {},
   "source": [
    "### Set Methods:\n",
    "\n",
    "1.\t__add()__: Adds a single element to the set.\n",
    "\n",
    "2.\t__remove()__: Removes a specific element (raises an error if the element is not found).\n",
    "\n",
    "3.\t__discard()__: Removes a specific element (does not raise an error if the element is not found).\n",
    "\n",
    "4.\t__clear()__: Removes all elements from the set, making it empty.\n",
    "\n",
    "5.\t__copy()__: Returns a shallow copy of the set"
   ]
  },
  {
   "cell_type": "code",
   "execution_count": 8,
   "id": "de76aef2",
   "metadata": {},
   "outputs": [
    {
     "name": "stdout",
     "output_type": "stream",
     "text": [
      "{1, 2, 3, 4}\n",
      "{1, 2, 3, 4}\n",
      "{1, 2, 3}\n",
      "set()\n",
      "{1, 2, 3}\n"
     ]
    }
   ],
   "source": [
    "s = {1, 2, 3}\n",
    "s.add(4)\n",
    "print(s)  \n",
    "\n",
    "s = {1, 2, 3}\n",
    "s.add(4)\n",
    "print(s)  \n",
    "\n",
    "s = {1, 2, 3}\n",
    "s.discard(4)  # Does nothing since 4 is not in the set\n",
    "print(s)  \n",
    "\n",
    "s = {1, 2, 3}\n",
    "s.clear()\n",
    "print(s)  \n",
    "\n",
    "s = {1, 2, 3}\n",
    "s_copy = s.copy()\n",
    "print(s_copy)  "
   ]
  },
  {
   "cell_type": "markdown",
   "id": "e0339f2a",
   "metadata": {},
   "source": [
    "### Example Use Case of Sets:\n",
    "\n",
    "1.\t__Removing Duplicates from a List__:\n",
    "Since sets automatically remove duplicates, you can convert a list to a set to remove duplicates."
   ]
  },
  {
   "cell_type": "code",
   "execution_count": 9,
   "id": "e5fd1a53",
   "metadata": {},
   "outputs": [
    {
     "name": "stdout",
     "output_type": "stream",
     "text": [
      "{1, 2, 3, 4, 5}\n"
     ]
    }
   ],
   "source": [
    "my_list = [1, 2, 2, 3, 4, 4, 5]\n",
    "unique_elements = set(my_list)\n",
    "print(unique_elements)  "
   ]
  },
  {
   "cell_type": "markdown",
   "id": "55d353d7",
   "metadata": {},
   "source": [
    "2.\t__Finding Common Items Between Two Lists__:\n",
    "You can convert lists to sets to quickly find common elements between them using set intersection."
   ]
  },
  {
   "cell_type": "code",
   "execution_count": 10,
   "id": "19432ec2",
   "metadata": {},
   "outputs": [
    {
     "name": "stdout",
     "output_type": "stream",
     "text": [
      "{3, 4}\n"
     ]
    }
   ],
   "source": [
    "list1 = [1, 2, 3, 4]\n",
    "list2 = [3, 4, 5, 6]\n",
    "\n",
    "common_elements = set(list1) & set(list2)\n",
    "print(common_elements) "
   ]
  },
  {
   "cell_type": "markdown",
   "id": "b78b898e",
   "metadata": {},
   "source": [
    "### Frozen Sets:\n",
    "\n",
    "A frozenset is an immutable version of a set. Once created, elements cannot be added or removed from a frozenset. It is useful when you need a constant set of values."
   ]
  },
  {
   "cell_type": "code",
   "execution_count": 11,
   "id": "070d356a",
   "metadata": {},
   "outputs": [],
   "source": [
    "# Creating a frozenset\n",
    "#fs = frozenset([1, 2, 3, 4])\n",
    "\n",
    "# Trying to add or remove elements will raise an error\n",
    "# fs.add(5)  \n",
    "\n",
    "# AttributeError: 'frozenset' object has no attribute 'add'"
   ]
  },
  {
   "cell_type": "code",
   "execution_count": 12,
   "id": "eda2a751",
   "metadata": {},
   "outputs": [
    {
     "name": "stdout",
     "output_type": "stream",
     "text": [
      "{'sets', 'are', 'tutorial', 'In', 'about', 'we', 'discussing', 'this'}\n",
      "8\n"
     ]
    }
   ],
   "source": [
    "### Counting Unique words in text\n",
    "\n",
    "text=\"In this tutorial we are discussing about sets\"\n",
    "words=text.split()\n",
    "\n",
    "## convert list of words to set to get unique words\n",
    "\n",
    "unique_words=set(words)\n",
    "print(unique_words)\n",
    "print(len(unique_words))"
   ]
  },
  {
   "cell_type": "markdown",
   "id": "3ffa2698",
   "metadata": {},
   "source": [
    "### Conclusion:\n",
    "\n",
    "- Sets are unordered collections of unique elements in Python.\n",
    "\n",
    "\n",
    "- Sets are mutable, meaning you can add or remove elements, but they don’t allow duplicates.\n",
    "\n",
    "\n",
    "- Sets are useful for operations involving membership testing, duplicates removal, and mathematical set operations (union, intersection, etc.).\n",
    "\n",
    "\n",
    "- Python also provides an immutable version of a set, called a frozenset."
   ]
  }
 ],
 "metadata": {
  "kernelspec": {
   "display_name": "Python 3 (ipykernel)",
   "language": "python",
   "name": "python3"
  },
  "language_info": {
   "codemirror_mode": {
    "name": "ipython",
    "version": 3
   },
   "file_extension": ".py",
   "mimetype": "text/x-python",
   "name": "python",
   "nbconvert_exporter": "python",
   "pygments_lexer": "ipython3",
   "version": "3.9.13"
  }
 },
 "nbformat": 4,
 "nbformat_minor": 5
}
