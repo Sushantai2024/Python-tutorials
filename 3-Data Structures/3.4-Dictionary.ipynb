{
 "cells": [
  {
   "cell_type": "markdown",
   "id": "ec476da1",
   "metadata": {},
   "source": [
    "# DICTIONARY\n",
    "\n",
    "In Python, a __dictionary__ is a mutable, unordered collection of key-value pairs. Each key is unique, and it maps to a specific value. Dictionaries are highly useful for associating data, much like a real-world dictionary, where each word (the key) maps to its definition (the value).\n",
    "\n",
    "\n",
    "### Key Characteristics of Dictionaries:\n",
    "\n",
    "1.\t__Key-Value Pairs__: Each item in a dictionary is a pair of a key and a value.\n",
    "\n",
    "\n",
    "2.\t__Mutable__: Dictionaries can be modified (you can add, change, or delete items).\n",
    "\n",
    "\n",
    "3.\t__Unordered__: Dictionaries in Python versions prior to 3.7 do not maintain the order of elements. From Python 3.7+, dictionaries maintain the insertion order.\n",
    "\n",
    "\n",
    "4.\t__Unique Keys__: Keys in a dictionary must be unique. If you try to assign a new value to an existing key, the old value will be overwritten.\n",
    "\n",
    "\n",
    "5.\t__Keys Must Be Immutable__: Keys can be of any immutable data type (e.g., strings, numbers, or tuples). However, the values can be of any data type and are mutable."
   ]
  },
  {
   "cell_type": "markdown",
   "id": "aaca8dee",
   "metadata": {},
   "source": [
    "### Syntax of Dictionaries:\n",
    "\n",
    "Dictionaries are created using curly braces { } with key-value pairs separated by colons :."
   ]
  },
  {
   "cell_type": "code",
   "execution_count": 2,
   "id": "ba66b622",
   "metadata": {},
   "outputs": [],
   "source": [
    "# Creating a dictionary\n",
    "\n",
    "my_dict = {\n",
    "    \"name\": \"Alice\",\n",
    "    \"age\": 25,\n",
    "    \"profession\": \"Engineer\"\n",
    "}"
   ]
  },
  {
   "cell_type": "code",
   "execution_count": 3,
   "id": "5cc564cb",
   "metadata": {},
   "outputs": [
    {
     "name": "stdout",
     "output_type": "stream",
     "text": [
      "Alice\n",
      "['Python', 'C++']\n"
     ]
    }
   ],
   "source": [
    "# Creating a dictionary with various data types\n",
    "person = {\n",
    "    \"name\": \"Alice\",\n",
    "    \"age\": 25,\n",
    "    \"skills\": [\"Python\", \"C++\"],\n",
    "    \"is_employed\": True\n",
    "}\n",
    "\n",
    "# Accessing values using keys\n",
    "print(person[\"name\"])       \n",
    "print(person[\"skills\"])     "
   ]
  },
  {
   "cell_type": "markdown",
   "id": "2e446b4a",
   "metadata": {},
   "source": [
    "### Dictionary Operations:\n",
    "\n",
    "\n",
    "1.\t__Accessing Values__: You can access values using the key inside square brackets []."
   ]
  },
  {
   "cell_type": "code",
   "execution_count": 4,
   "id": "bcc0a6a7",
   "metadata": {},
   "outputs": [
    {
     "name": "stdout",
     "output_type": "stream",
     "text": [
      "25\n"
     ]
    }
   ],
   "source": [
    "print(person[\"age\"])  "
   ]
  },
  {
   "cell_type": "markdown",
   "id": "657bb09c",
   "metadata": {},
   "source": [
    "2.\t__Using the get() Method__: The get() method allows you to access the value associated with a key, and provides an optional default value if the key is not found (avoids KeyError)."
   ]
  },
  {
   "cell_type": "code",
   "execution_count": 5,
   "id": "8e1aeecc",
   "metadata": {},
   "outputs": [
    {
     "name": "stdout",
     "output_type": "stream",
     "text": [
      "Alice\n",
      "0\n"
     ]
    }
   ],
   "source": [
    "print(person.get(\"name\"))       \n",
    "print(person.get(\"salary\", 0))  "
   ]
  },
  {
   "cell_type": "markdown",
   "id": "74172d98",
   "metadata": {},
   "source": [
    "### 3.\tAdding or Modifying Items:\n",
    "\n",
    "\n",
    "- You can add a new key-value pair or modify the value of an existing key."
   ]
  },
  {
   "cell_type": "code",
   "execution_count": 6,
   "id": "9dfe2e1a",
   "metadata": {},
   "outputs": [
    {
     "name": "stdout",
     "output_type": "stream",
     "text": [
      "{'name': 'Alice', 'age': 26, 'skills': ['Python', 'C++'], 'is_employed': True, 'city': 'New York'}\n"
     ]
    }
   ],
   "source": [
    "person[\"city\"] = \"New York\"  \n",
    "person[\"age\"] = 26           \n",
    "print(person)"
   ]
  },
  {
   "cell_type": "markdown",
   "id": "c859e279",
   "metadata": {},
   "source": [
    "### 4.\tRemoving Items:\n",
    "\n",
    "\n",
    "- You can remove a key-value pair using del, pop(), or popitem()."
   ]
  },
  {
   "cell_type": "code",
   "execution_count": 7,
   "id": "8c7f0df7",
   "metadata": {},
   "outputs": [
    {
     "name": "stdout",
     "output_type": "stream",
     "text": [
      "26\n",
      "('is_employed', True)\n"
     ]
    }
   ],
   "source": [
    "# Removes the key \"city\"\n",
    "del person[\"city\"]  \n",
    "\n",
    "# pop() removes the item with the specified key and returns the value\n",
    "age = person.pop(\"age\")  \n",
    "print(age)  \n",
    "\n",
    "# popitem() removes and returns the last inserted item \n",
    "last_item = person.popitem()\n",
    "print(last_item)  "
   ]
  },
  {
   "cell_type": "markdown",
   "id": "d2973946",
   "metadata": {},
   "source": [
    "### 5.\tChecking Key Existence:\n",
    "\n",
    "- You can check if a key exists in the dictionary using the in keyword."
   ]
  },
  {
   "cell_type": "code",
   "execution_count": 8,
   "id": "c6986195",
   "metadata": {},
   "outputs": [
    {
     "name": "stdout",
     "output_type": "stream",
     "text": [
      "Name exists!\n"
     ]
    }
   ],
   "source": [
    "if \"name\" in person:\n",
    "    print(\"Name exists!\")"
   ]
  },
  {
   "cell_type": "markdown",
   "id": "0c2cd45f",
   "metadata": {},
   "source": [
    "### 6. Dictionary Length:\n",
    "\n",
    "- You can use the len() function to get the number of key-value pairs in the dictionary."
   ]
  },
  {
   "cell_type": "code",
   "execution_count": 10,
   "id": "d31865b7",
   "metadata": {},
   "outputs": [
    {
     "name": "stdout",
     "output_type": "stream",
     "text": [
      "2\n"
     ]
    }
   ],
   "source": [
    "print(len(person))  "
   ]
  },
  {
   "cell_type": "markdown",
   "id": "c9100f44",
   "metadata": {},
   "source": [
    "### Dictionary Methods:\n",
    "\n",
    "1.\t__keys()__: Returns all the keys in the dictionary.\n",
    "\n",
    "\n",
    "2.\t__values()__: Returns all the values in the dictionary.\n",
    "\n",
    "\n",
    "3.\t__items()__: Returns all the key-value pairs as tuples.\n",
    "\n",
    "\n",
    "4.\t__update()__: Updates the dictionary with another dictionary         or key-value pairs.\n",
    "\n",
    "\n",
    "5.\t__clear()__: Removes all items from the dictionary."
   ]
  },
  {
   "cell_type": "code",
   "execution_count": 11,
   "id": "3a4664b6",
   "metadata": {},
   "outputs": [
    {
     "name": "stdout",
     "output_type": "stream",
     "text": [
      "dict_keys(['name', 'skills'])\n"
     ]
    }
   ],
   "source": [
    "print(person.keys())  "
   ]
  },
  {
   "cell_type": "code",
   "execution_count": 15,
   "id": "5466fce2",
   "metadata": {},
   "outputs": [
    {
     "name": "stdout",
     "output_type": "stream",
     "text": [
      "dict_values(['Alice', ['Python', 'C++']])\n"
     ]
    }
   ],
   "source": [
    "print(person.values())  "
   ]
  },
  {
   "cell_type": "code",
   "execution_count": 16,
   "id": "afa88c52",
   "metadata": {},
   "outputs": [
    {
     "name": "stdout",
     "output_type": "stream",
     "text": [
      "dict_items([('name', 'Alice'), ('skills', ['Python', 'C++'])])\n"
     ]
    }
   ],
   "source": [
    "print(person.items())  "
   ]
  },
  {
   "cell_type": "code",
   "execution_count": 17,
   "id": "79b14e6c",
   "metadata": {},
   "outputs": [
    {
     "name": "stdout",
     "output_type": "stream",
     "text": [
      "{'name': 'Alice', 'skills': ['Python', 'C++'], 'age': 26, 'city': 'Boston'}\n"
     ]
    }
   ],
   "source": [
    "update_dict = {\"age\": 26, \"city\": \"Boston\"}\n",
    "person.update(update_dict)\n",
    "print(person)"
   ]
  },
  {
   "cell_type": "code",
   "execution_count": 18,
   "id": "7b6a080d",
   "metadata": {},
   "outputs": [
    {
     "name": "stdout",
     "output_type": "stream",
     "text": [
      "{}\n"
     ]
    }
   ],
   "source": [
    "person.clear()\n",
    "print(person) "
   ]
  },
  {
   "cell_type": "markdown",
   "id": "e9377d36",
   "metadata": {},
   "source": [
    "## Example of Dictionary Usage:\n",
    "\n",
    "### Storing Information:"
   ]
  },
  {
   "cell_type": "code",
   "execution_count": 19,
   "id": "6c625ec2",
   "metadata": {},
   "outputs": [
    {
     "name": "stdout",
     "output_type": "stream",
     "text": [
      "90\n"
     ]
    }
   ],
   "source": [
    "# Example of storing information using a dictionary\n",
    "student = {\n",
    "    \"name\": \"John\",\n",
    "    \"subjects\": [\"Math\", \"Physics\", \"Chemistry\"],\n",
    "    \"grades\": {\"Math\": 90, \"Physics\": 85, \"Chemistry\": 88}\n",
    "}\n",
    "\n",
    "print(student[\"grades\"][\"Math\"])  "
   ]
  },
  {
   "cell_type": "markdown",
   "id": "c26eebbd",
   "metadata": {},
   "source": [
    "### Using a Dictionary for Counting:\n",
    "\n",
    "You can use a dictionary to count the occurrences of elements in a list."
   ]
  },
  {
   "cell_type": "code",
   "execution_count": 20,
   "id": "accbe1f8",
   "metadata": {},
   "outputs": [
    {
     "name": "stdout",
     "output_type": "stream",
     "text": [
      "{'apple': 3, 'banana': 2, 'orange': 1}\n"
     ]
    }
   ],
   "source": [
    "# Counting word frequencies\n",
    "words = [\"apple\", \"banana\", \"apple\", \"orange\", \"banana\", \"apple\"]\n",
    "\n",
    "word_count = {}\n",
    "for word in words:\n",
    "    if word in word_count:\n",
    "        word_count[word] += 1\n",
    "    else:\n",
    "        word_count[word] = 1\n",
    "\n",
    "print(word_count)  "
   ]
  },
  {
   "cell_type": "markdown",
   "id": "6ed64a7b",
   "metadata": {},
   "source": [
    "### Nested Dictionaries:\n",
    "\n",
    "Dictionaries can contain other dictionaries, which allows for complex data structures."
   ]
  },
  {
   "cell_type": "code",
   "execution_count": 21,
   "id": "8536a6c0",
   "metadata": {},
   "outputs": [
    {
     "name": "stdout",
     "output_type": "stream",
     "text": [
      "Alice\n"
     ]
    }
   ],
   "source": [
    "# Nested dictionary\n",
    "company = {\n",
    "    \"employee_1\": {\n",
    "        \"name\": \"Alice\",\n",
    "        \"position\": \"Developer\"\n",
    "    },\n",
    "    \"employee_2\": {\n",
    "        \"name\": \"Bob\",\n",
    "        \"position\": \"Designer\"\n",
    "    }\n",
    "}\n",
    "\n",
    "# Accessing nested dictionary values\n",
    "print(company[\"employee_1\"][\"name\"])  "
   ]
  },
  {
   "cell_type": "markdown",
   "id": "96267495",
   "metadata": {},
   "source": [
    "### Dictionary Comprehension:\n",
    "\n",
    "Similar to list comprehension, you can create dictionaries using a concise syntax."
   ]
  },
  {
   "cell_type": "code",
   "execution_count": 22,
   "id": "35d8e1e5",
   "metadata": {},
   "outputs": [
    {
     "name": "stdout",
     "output_type": "stream",
     "text": [
      "{1: 1, 2: 4, 3: 9, 4: 16, 5: 25}\n"
     ]
    }
   ],
   "source": [
    "# Dictionary comprehension to create a dictionary of squares\n",
    "squares = {x: x*x for x in range(1, 6)}\n",
    "print(squares)  "
   ]
  },
  {
   "cell_type": "markdown",
   "id": "3c40864c",
   "metadata": {},
   "source": [
    "# Conclusion:\n",
    "\n",
    "- A dictionary in Python is a mutable, unordered collection of key-value pairs.\n",
    "\n",
    "\n",
    "- Keys must be unique and immutable (like strings, numbers, or tuples), and values can be of any data type.\n",
    "\n",
    "\n",
    "- Dictionaries are useful for storing related data and performing operations like adding, modifying, and retrieving values using keys.\n",
    "\n",
    "\n",
    "- They offer methods for accessing keys, values, and items, and support operations like merging, clearing, and updating data."
   ]
  },
  {
   "cell_type": "code",
   "execution_count": null,
   "id": "f1a29196",
   "metadata": {},
   "outputs": [],
   "source": []
  }
 ],
 "metadata": {
  "kernelspec": {
   "display_name": "Python 3 (ipykernel)",
   "language": "python",
   "name": "python3"
  },
  "language_info": {
   "codemirror_mode": {
    "name": "ipython",
    "version": 3
   },
   "file_extension": ".py",
   "mimetype": "text/x-python",
   "name": "python",
   "nbconvert_exporter": "python",
   "pygments_lexer": "ipython3",
   "version": "3.9.13"
  }
 },
 "nbformat": 4,
 "nbformat_minor": 5
}
