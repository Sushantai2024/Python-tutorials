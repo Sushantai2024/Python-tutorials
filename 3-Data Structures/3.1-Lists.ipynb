{
 "cells": [
  {
   "cell_type": "markdown",
   "id": "41d2139e",
   "metadata": {},
   "source": [
    "# Lists\n",
    "\n",
    "List is a kind of entity where we can store a list under a list or add many more component inside a single element itself.\n",
    "\n",
    "\n",
    "## Key Features of Lists:\n",
    "\n",
    "1.\t__Ordered__: The items in a list maintain their order based on how they were added. Each item has a specific index, starting from 0.\n",
    "2.\t__Mutable__: You can change the contents of a list after it has been created (e.g., adding, removing, or changing items).\n",
    "3.\t__Heterogeneous__: Lists can contain items of different data types.\n"
   ]
  },
  {
   "cell_type": "markdown",
   "id": "ef22b23a",
   "metadata": {},
   "source": [
    "### Creating a List\n",
    "\n",
    "You can create a list by enclosing the items in square brackets [ ], separated by commas."
   ]
  },
  {
   "cell_type": "code",
   "execution_count": 8,
   "id": "5e73a085",
   "metadata": {},
   "outputs": [
    {
     "name": "stdout",
     "output_type": "stream",
     "text": [
      "[1, 2, 3, 4, 5]\n"
     ]
    }
   ],
   "source": [
    "# Creating a list\n",
    "\n",
    "my_list = [1, 2, 3, 4, 5]\n",
    "print(my_list)  "
   ]
  },
  {
   "cell_type": "markdown",
   "id": "afa2997c",
   "metadata": {},
   "source": [
    "### Accessing List Items\n",
    "\n",
    "You can access individual items in a list using their index."
   ]
  },
  {
   "cell_type": "code",
   "execution_count": 9,
   "id": "bc8ba40f",
   "metadata": {},
   "outputs": [
    {
     "name": "stdout",
     "output_type": "stream",
     "text": [
      "1\n",
      "3\n"
     ]
    }
   ],
   "source": [
    "# Accessing items by index\n",
    "\n",
    "print(my_list[0])  # Output: 1 (first item)\n",
    "print(my_list[2])  # Output: 3 (third item)"
   ]
  },
  {
   "cell_type": "markdown",
   "id": "2e8ff35d",
   "metadata": {},
   "source": [
    "### Modifying a List\n",
    "\n",
    "You can modify a list by adding, removing, or changing items.\n",
    "\n",
    "\n",
    "### 1. Adding Items\n",
    "\n",
    "- __append()__: Adds an item to the end of the list.\n",
    "- __insert(index, item)__: Inserts an item at a specified index.\n",
    "- __extend()__: Adds multiple items from another iterable (like another list)."
   ]
  },
  {
   "cell_type": "code",
   "execution_count": 10,
   "id": "4ae2bccf",
   "metadata": {},
   "outputs": [
    {
     "name": "stdout",
     "output_type": "stream",
     "text": [
      "[1, 2, 3, 4, 5, 6]\n",
      "[0, 1, 2, 3, 4, 5, 6]\n",
      "[0, 1, 2, 3, 4, 5, 6, 7, 8, 9]\n"
     ]
    }
   ],
   "source": [
    "# Adding items\n",
    "\n",
    "my_list.append(6)  # Add 6 to the end\n",
    "print(my_list)  \n",
    "\n",
    "my_list.insert(0, 0)  # Insert 0 at index 0\n",
    "print(my_list) \n",
    "\n",
    "my_list.extend([7, 8, 9])  # Add multiple items\n",
    "print(my_list)  "
   ]
  },
  {
   "cell_type": "markdown",
   "id": "8a9b720d",
   "metadata": {},
   "source": [
    "### 2. Removing Items\n",
    "\n",
    "- __remove(item)__: Removes the first occurrence of a specific item.\n",
    "- __pop(index)__: Removes and returns the item at the specified index (or the last item if no index is specified).\n",
    "- __clear()__: Removes all items from the list."
   ]
  },
  {
   "cell_type": "code",
   "execution_count": 12,
   "id": "5f940670",
   "metadata": {},
   "outputs": [
    {
     "name": "stdout",
     "output_type": "stream",
     "text": [
      "[0, 1, 2, 4, 5, 6, 7, 8, 9]\n",
      "9\n",
      "[0, 1, 2, 4, 5, 6, 7, 8]\n",
      "[]\n"
     ]
    }
   ],
   "source": [
    "# Removing items\n",
    "\n",
    "my_list.remove(3)  # Remove the first occurrence of 3\n",
    "print(my_list)  \n",
    "\n",
    "popped_item = my_list.pop()  # Remove the last item and return it\n",
    "print(popped_item) \n",
    "print(my_list)  \n",
    "\n",
    "my_list.clear()  # Remove all items\n",
    "print(my_list)  "
   ]
  },
  {
   "cell_type": "markdown",
   "id": "71da5a32",
   "metadata": {},
   "source": [
    "### List Slicing\n",
    "\n",
    "You can access a subset of a list using slicing."
   ]
  },
  {
   "cell_type": "code",
   "execution_count": 13,
   "id": "35e942f9",
   "metadata": {},
   "outputs": [
    {
     "name": "stdout",
     "output_type": "stream",
     "text": [
      "[2, 3, 4]\n",
      "[1, 2, 3]\n",
      "[3, 4, 5]\n"
     ]
    }
   ],
   "source": [
    "# Slicing a list\n",
    "\n",
    "my_list = [1, 2, 3, 4, 5]\n",
    "print(my_list[1:4])  \n",
    "print(my_list[:3])  \n",
    "print(my_list[2:])   "
   ]
  },
  {
   "cell_type": "markdown",
   "id": "e338265f",
   "metadata": {},
   "source": [
    "### List Comprehensions\n",
    "\n",
    "You can create lists in a concise way using list comprehensions.\n",
    "\n",
    "\n",
    "Basics Syantax            [expression for item in iterable]\n",
    "\n",
    "with conditional logic    [expression for item in iterable if condition]\n",
    "\n",
    "Nested List Comprehension [expression for item1 in iterable1 for item2 in iterable2]"
   ]
  },
  {
   "cell_type": "code",
   "execution_count": 15,
   "id": "4a43fc54",
   "metadata": {},
   "outputs": [
    {
     "name": "stdout",
     "output_type": "stream",
     "text": [
      "[0, 1, 4, 9, 16]\n"
     ]
    }
   ],
   "source": [
    "# List comprehension to create a list of squares\n",
    "\n",
    "# Basic List Comphrension\n",
    "squares = [x ** 2 for x in range(5)]\n",
    "print(squares)  \n"
   ]
  },
  {
   "cell_type": "code",
   "execution_count": 30,
   "id": "8e561649",
   "metadata": {},
   "outputs": [
    {
     "name": "stdout",
     "output_type": "stream",
     "text": [
      "[0, 2, 4, 6, 8]\n"
     ]
    }
   ],
   "source": [
    "# List Comprehension with Condition\n",
    "lst=[]\n",
    "for i in range(10):\n",
    "    if i%2==0:\n",
    "        lst.append(i)\n",
    "\n",
    "print(lst)"
   ]
  },
  {
   "cell_type": "markdown",
   "id": "ac2c3c4c",
   "metadata": {},
   "source": [
    "### Nested Lists\n",
    "\n",
    "Lists can contain other lists, allowing you to create multi-dimensional data structures."
   ]
  },
  {
   "cell_type": "code",
   "execution_count": 16,
   "id": "8035e8fb",
   "metadata": {},
   "outputs": [
    {
     "name": "stdout",
     "output_type": "stream",
     "text": [
      "6\n"
     ]
    }
   ],
   "source": [
    "# Creating a nested list\n",
    "\n",
    "nested_list = [[1, 2, 3], [4, 5, 6], [7, 8, 9]]\n",
    "print(nested_list[1][2])  \n",
    "# Output: 6 (accessing element in the second list)"
   ]
  },
  {
   "cell_type": "code",
   "execution_count": 31,
   "id": "97bfcc85",
   "metadata": {},
   "outputs": [
    {
     "name": "stdout",
     "output_type": "stream",
     "text": [
      "[[1, 'a'], [1, 'b'], [1, 'c'], [1, 'd'], [2, 'a'], [2, 'b'], [2, 'c'], [2, 'd'], [3, 'a'], [3, 'b'], [3, 'c'], [3, 'd'], [4, 'a'], [4, 'b'], [4, 'c'], [4, 'd']]\n"
     ]
    }
   ],
   "source": [
    "# Nested List Comphrension\n",
    "\n",
    "lst1=[1,2,3,4]\n",
    "lst2=['a','b','c','d']\n",
    "\n",
    "pair=[[i,j] for i in lst1 for j in lst2]\n",
    "\n",
    "print(pair)\n"
   ]
  },
  {
   "cell_type": "code",
   "execution_count": 17,
   "id": "5fb56577",
   "metadata": {},
   "outputs": [],
   "source": [
    "fruits=[\"apple\",\"banana\",\"cherry\",\"kiwi\",\"gauva\"]"
   ]
  },
  {
   "cell_type": "code",
   "execution_count": 18,
   "id": "e893f552",
   "metadata": {},
   "outputs": [
    {
     "data": {
      "text/plain": [
       "['apple', 'banana', 'cherry', 'kiwi', 'gauva']"
      ]
     },
     "execution_count": 18,
     "metadata": {},
     "output_type": "execute_result"
    }
   ],
   "source": [
    "fruits"
   ]
  },
  {
   "cell_type": "code",
   "execution_count": 20,
   "id": "cc202a5f",
   "metadata": {},
   "outputs": [],
   "source": [
    "fruits.sort()\n",
    "# sorts a list in ascending order "
   ]
  },
  {
   "cell_type": "code",
   "execution_count": 21,
   "id": "c0744035",
   "metadata": {},
   "outputs": [
    {
     "data": {
      "text/plain": [
       "['apple', 'banana', 'cherry', 'gauva', 'kiwi']"
      ]
     },
     "execution_count": 21,
     "metadata": {},
     "output_type": "execute_result"
    }
   ],
   "source": [
    "fruits"
   ]
  },
  {
   "cell_type": "code",
   "execution_count": 23,
   "id": "c404f95e",
   "metadata": {},
   "outputs": [],
   "source": [
    "fruits.reverse()"
   ]
  },
  {
   "cell_type": "code",
   "execution_count": 24,
   "id": "c98e9d9d",
   "metadata": {},
   "outputs": [
    {
     "data": {
      "text/plain": [
       "['kiwi', 'gauva', 'cherry', 'banana', 'apple']"
      ]
     },
     "execution_count": 24,
     "metadata": {},
     "output_type": "execute_result"
    }
   ],
   "source": [
    "fruits"
   ]
  },
  {
   "cell_type": "code",
   "execution_count": 27,
   "id": "7aab46a3",
   "metadata": {},
   "outputs": [
    {
     "name": "stdout",
     "output_type": "stream",
     "text": [
      "1\n",
      "2\n",
      "3\n",
      "4\n",
      "5\n",
      "6\n",
      "7\n",
      "8\n",
      "9\n",
      "10\n"
     ]
    }
   ],
   "source": [
    "# iterating over list\n",
    "\n",
    "numbers = [1, 2, 3, 4, 5, 6, 7, 8, 9, 10]\n",
    "\n",
    "for number in numbers :\n",
    "    print(number)"
   ]
  },
  {
   "cell_type": "code",
   "execution_count": 33,
   "id": "69313538",
   "metadata": {},
   "outputs": [
    {
     "name": "stdout",
     "output_type": "stream",
     "text": [
      "0 1\n",
      "1 2\n",
      "2 3\n",
      "3 4\n",
      "4 5\n",
      "5 6\n",
      "6 7\n",
      "7 8\n",
      "8 9\n",
      "9 10\n"
     ]
    }
   ],
   "source": [
    "# iterating with index\n",
    "\n",
    "for index,number in enumerate(numbers) :\n",
    "    print(index,number)\n",
    "   \n",
    "#enumerate is useful for obtaining an indexed list"
   ]
  },
  {
   "cell_type": "code",
   "execution_count": null,
   "id": "dd392663",
   "metadata": {},
   "outputs": [],
   "source": []
  }
 ],
 "metadata": {
  "kernelspec": {
   "display_name": "Python 3 (ipykernel)",
   "language": "python",
   "name": "python3"
  },
  "language_info": {
   "codemirror_mode": {
    "name": "ipython",
    "version": 3
   },
   "file_extension": ".py",
   "mimetype": "text/x-python",
   "name": "python",
   "nbconvert_exporter": "python",
   "pygments_lexer": "ipython3",
   "version": "3.9.13"
  }
 },
 "nbformat": 4,
 "nbformat_minor": 5
}
