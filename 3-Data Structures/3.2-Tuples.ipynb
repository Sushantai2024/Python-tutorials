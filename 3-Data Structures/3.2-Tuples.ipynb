{
 "cells": [
  {
   "cell_type": "markdown",
   "id": "e2826760",
   "metadata": {},
   "source": [
    "# Tuple \n",
    "\n",
    "In Python, a tuple is an immutable, ordered collection of elements, typically used to store multiple items in a single variable. Tuples are similar to lists, but unlike lists, tuples cannot be changed (i.e., they are immutable). Tuples can contain elements of different data types, including other tuples.\n",
    "\n",
    "### Key Characteristics of Tuples:\n",
    "\n",
    "1.\t__Immutable__: Once a tuple is created, its elements cannot be modified (no appending, updating, or deleting).\n",
    "2.\t__Ordered__: The order of elements in a tuple is maintained, and elements can be accessed by index.\n",
    "3.\t__Heterogeneous__: A tuple can contain different data types (e.g., integers, strings, lists).\n",
    "4.\t__Indexed__: Elements in a tuple are accessed using zero-based indexing."
   ]
  },
  {
   "cell_type": "markdown",
   "id": "414b4a57",
   "metadata": {},
   "source": [
    "### Syntax of Tuples:\n",
    "\n",
    "Tuples are defined by placing a comma-separated sequence of values inside parentheses ()."
   ]
  },
  {
   "cell_type": "code",
   "execution_count": 2,
   "id": "8f2bdec9",
   "metadata": {},
   "outputs": [
    {
     "data": {
      "text/plain": [
       "(1, 2, 3, 'apple', True)"
      ]
     },
     "execution_count": 2,
     "metadata": {},
     "output_type": "execute_result"
    }
   ],
   "source": [
    "# Example of a tuple\n",
    "\n",
    "my_tuple = (1, 2, 3, \"apple\", True)\n",
    "my_tuple"
   ]
  },
  {
   "cell_type": "code",
   "execution_count": 3,
   "id": "953ea6a7",
   "metadata": {},
   "outputs": [
    {
     "name": "stdout",
     "output_type": "stream",
     "text": [
      "Alice\n",
      "25\n",
      "Alice\n",
      "25\n",
      "Engineer\n",
      "(123, 'Hello', [1, 2, 3], (4, 5))\n"
     ]
    }
   ],
   "source": [
    "# Creating a tuple\n",
    "my_tuple = (\"Alice\", 25, \"Engineer\")\n",
    "\n",
    "# Accessing elements by index\n",
    "print(my_tuple[0])  \n",
    "print(my_tuple[1])  \n",
    "\n",
    "# Iterating over a tuple\n",
    "for item in my_tuple:\n",
    "    print(item)\n",
    "\n",
    "# Tuple can contain mixed data types\n",
    "mixed_tuple = (123, \"Hello\", [1, 2, 3], (4, 5))\n",
    "print(mixed_tuple)"
   ]
  },
  {
   "cell_type": "markdown",
   "id": "3cb980a7",
   "metadata": {},
   "source": [
    "### Tuple Functions and Methods:\n",
    "\n",
    "Although tuples are immutable, there are some useful methods and functions you can use with them.\n"
   ]
  },
  {
   "cell_type": "markdown",
   "id": "e5e8437b",
   "metadata": {},
   "source": [
    "1. __len()__: Returns the length of the tuple (number of elements).\n",
    "\n",
    "\n",
    "2. __index()__: Returns the index of the first occurrence of a value.\n",
    "\n",
    "\n",
    "3. __count()__: Returns the number of times a value appears in the tuple."
   ]
  },
  {
   "cell_type": "code",
   "execution_count": 4,
   "id": "c995bc26",
   "metadata": {},
   "outputs": [
    {
     "name": "stdout",
     "output_type": "stream",
     "text": [
      "3\n"
     ]
    }
   ],
   "source": [
    "t = (1, 2, 3)\n",
    "print(len(t))  "
   ]
  },
  {
   "cell_type": "code",
   "execution_count": 5,
   "id": "04e47098",
   "metadata": {},
   "outputs": [
    {
     "name": "stdout",
     "output_type": "stream",
     "text": [
      "1\n"
     ]
    }
   ],
   "source": [
    "t = (1, 2, 3, 2)\n",
    "print(t.index(2))  "
   ]
  },
  {
   "cell_type": "code",
   "execution_count": 6,
   "id": "28ae04ed",
   "metadata": {},
   "outputs": [
    {
     "name": "stdout",
     "output_type": "stream",
     "text": [
      "2\n"
     ]
    }
   ],
   "source": [
    "t = (1, 2, 2, 3)\n",
    "print(t.count(2))  "
   ]
  },
  {
   "cell_type": "markdown",
   "id": "a9f7ae17",
   "metadata": {},
   "source": [
    "### Tuple Immutability:\n",
    "\n",
    "Tuples cannot be modified after they are created, which means:\n",
    "\n",
    "- You __cannot__ add, remove, or modify elements in a tuple.\n",
    "- This immutability makes tuples more __memory-efficient__ and __safer__ for use as “read-only” data structures.\n"
   ]
  },
  {
   "cell_type": "code",
   "execution_count": 9,
   "id": "f9c646f7",
   "metadata": {},
   "outputs": [],
   "source": [
    "# Example of Tuple Immutability:\n",
    "\n",
    "# my_tuple = (1, 2, 3)\n",
    "\n",
    "# Trying to modify an element will raise an error\n",
    "# my_tuple[0] = 5  \n",
    "\n",
    "# Raises a TypeError: 'tuple' object does not support item assignment"
   ]
  },
  {
   "cell_type": "markdown",
   "id": "c11addad",
   "metadata": {},
   "source": [
    "### Why Use Tuples Over Lists:\n",
    "\n",
    "1.\t__Immutability__: If you want to ensure that data remains unchanged throughout the program, tuples are a good choice.\n",
    "2.\t__Memory-efficient__: Tuples require less memory compared to lists due to their immutability.\n",
    "3.\t__Faster__: Accessing elements in a tuple is generally faster than in a list.\n"
   ]
  },
  {
   "cell_type": "markdown",
   "id": "7cb37537",
   "metadata": {},
   "source": [
    "### Tuple Unpacking:\n",
    "\n",
    "You can “unpack” a tuple into individual variables."
   ]
  },
  {
   "cell_type": "code",
   "execution_count": 11,
   "id": "19d34a19",
   "metadata": {},
   "outputs": [
    {
     "name": "stdout",
     "output_type": "stream",
     "text": [
      "Alice\n",
      "25\n",
      "Engineer\n"
     ]
    }
   ],
   "source": [
    "# Tuple unpacking\n",
    "person = (\"Alice\", 25, \"Engineer\")\n",
    "name, age, profession = person\n",
    "\n",
    "print(name)      \n",
    "print(age)        \n",
    "print(profession) "
   ]
  },
  {
   "cell_type": "markdown",
   "id": "fbc17186",
   "metadata": {},
   "source": [
    "### Nested Tuples:\n",
    "\n",
    "Tuples can contain other tuples (or lists), allowing for complex data structures."
   ]
  },
  {
   "cell_type": "code",
   "execution_count": 12,
   "id": "553006b9",
   "metadata": {},
   "outputs": [
    {
     "name": "stdout",
     "output_type": "stream",
     "text": [
      "(1, 2)\n",
      "2\n"
     ]
    }
   ],
   "source": [
    "nested_tuple = ((1, 2), (3, 4), (5, 6))\n",
    "print(nested_tuple[0])     \n",
    "print(nested_tuple[0][1])  "
   ]
  },
  {
   "cell_type": "markdown",
   "id": "86ab1506",
   "metadata": {},
   "source": [
    "### Example Use Case of Tuples:\n",
    "\n",
    "1.\t__Returning Multiple Values from a Function__: Tuples are often used to return multiple values from a function."
   ]
  },
  {
   "cell_type": "code",
   "execution_count": 13,
   "id": "8b4e091c",
   "metadata": {},
   "outputs": [
    {
     "name": "stdout",
     "output_type": "stream",
     "text": [
      "('Alice', 25, 'Engineer')\n"
     ]
    }
   ],
   "source": [
    "def get_person_info():\n",
    "    name = \"Alice\"\n",
    "    age = 25\n",
    "    profession = \"Engineer\"\n",
    "    return name, age, profession\n",
    "\n",
    "person_info = get_person_info()\n",
    "print(person_info)  "
   ]
  },
  {
   "cell_type": "markdown",
   "id": "5f13ceb5",
   "metadata": {},
   "source": [
    "### Conclusion:\n",
    "\n",
    "- A tuple in Python is an ordered, immutable collection of elements.\n",
    "- It is useful when you need to store a collection of items that shouldn’t change.\n",
    "- Tuples support indexing, iteration, and basic operations like counting and finding the index of an element.\n",
    "- Due to their immutability, tuples are memory-efficient and faster than lists.\n",
    "\n",
    "Tuples are a great choice when you need to ensure that data remains unchanged and safe throughout the program."
   ]
  },
  {
   "cell_type": "code",
   "execution_count": null,
   "id": "fa344318",
   "metadata": {},
   "outputs": [],
   "source": []
  }
 ],
 "metadata": {
  "kernelspec": {
   "display_name": "Python 3 (ipykernel)",
   "language": "python",
   "name": "python3"
  },
  "language_info": {
   "codemirror_mode": {
    "name": "ipython",
    "version": 3
   },
   "file_extension": ".py",
   "mimetype": "text/x-python",
   "name": "python",
   "nbconvert_exporter": "python",
   "pygments_lexer": "ipython3",
   "version": "3.9.13"
  }
 },
 "nbformat": 4,
 "nbformat_minor": 5
}
