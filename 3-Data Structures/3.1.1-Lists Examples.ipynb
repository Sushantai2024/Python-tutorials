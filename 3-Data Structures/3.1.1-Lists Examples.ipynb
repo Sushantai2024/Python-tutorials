{
 "cells": [
  {
   "cell_type": "markdown",
   "id": "6eb2f09b",
   "metadata": {},
   "source": [
    "### Real-World Examples Using Lists in Python\n",
    "\n",
    "Here are a few real-world examples of using lists in Python. These examples show how lists can be applied in practical scenarios such as managing tasks, data analysis, or handling customer information."
   ]
  },
  {
   "cell_type": "markdown",
   "id": "a8f26d09",
   "metadata": {},
   "source": [
    "##### Example 1. Manage A To Do List\n",
    "- Create a To Do List To Keep Track OF Tasks"
   ]
  },
  {
   "cell_type": "code",
   "execution_count": 1,
   "id": "e89e87bb",
   "metadata": {},
   "outputs": [
    {
     "name": "stdout",
     "output_type": "stream",
     "text": [
      "Don't forgrt to pay the utility bills\n",
      "To Do List remaining\n",
      "-Buy Groceries\n",
      "-Pay bills\n",
      "-Schedule meeting\n",
      "-Go For a Run\n"
     ]
    }
   ],
   "source": [
    "to_do_list=[\"Buy Groceries\",\"Clean the house\",\"Pay bills\"]\n",
    "\n",
    "## Adding to task\n",
    "to_do_list.append(\"Schedule meeting\")\n",
    "to_do_list.append(\"Go For a Run\")\n",
    "\n",
    "## Removing a completed task\n",
    "to_do_list.remove(\"Clean the house\")\n",
    "\n",
    "## checking if a task is in the list\n",
    "if \"Pay bills\" in to_do_list:\n",
    "    print(\"Don't forgrt to pay the utility bills\")\n",
    "\n",
    "print(\"To Do List remaining\")\n",
    "for task in to_do_list:\n",
    "    print(f\"-{task}\")"
   ]
  },
  {
   "cell_type": "markdown",
   "id": "844c57a7",
   "metadata": {},
   "source": [
    "##### Example 2: Organizing Student Grades\n",
    "- Create a list to store and calculate average grades for students"
   ]
  },
  {
   "cell_type": "code",
   "execution_count": 2,
   "id": "4393123a",
   "metadata": {},
   "outputs": [
    {
     "name": "stdout",
     "output_type": "stream",
     "text": [
      "Average Grade : 88.00\n",
      "Highest Grade: 95\n",
      "Lowest Grade: 78\n"
     ]
    }
   ],
   "source": [
    "# Organizing student grades \n",
    "grades = [85,92,78,90,88]\n",
    "\n",
    "# adding a new grade \n",
    "grades.append(95)\n",
    "\n",
    "# Calculating the average grade\n",
    "average_grade = sum(grades)/len(grades)\n",
    "print(f\"Average Grade : {average_grade :.2f}\")\n",
    "\n",
    "# Finding the highest and lowest grades\n",
    "highest_grade = max(grades)\n",
    "lowest_grade = min(grades)\n",
    "print(f\"Highest Grade: {highest_grade}\")\n",
    "print(f\"Lowest Grade: {lowest_grade}\")"
   ]
  },
  {
   "cell_type": "markdown",
   "id": "acb0562f",
   "metadata": {},
   "source": [
    "#### Example 3: Movie Recommendation System\n",
    "\n",
    "A simple movie recommendation system can use lists to store movie preferences and recommend similar movies based on user interests."
   ]
  },
  {
   "cell_type": "code",
   "execution_count": 20,
   "id": "469332d0",
   "metadata": {},
   "outputs": [
    {
     "name": "stdout",
     "output_type": "stream",
     "text": [
      "Recommended Sci-Fi movies:\n",
      "Inception - Rating: 8.8\n",
      "Interstellar - Rating: 8.6\n",
      "Recommended Action movies:\n",
      "The Dark Knight - Rating: 9.0\n"
     ]
    }
   ],
   "source": [
    "# Movie data\n",
    "movies = [\n",
    "    {\"title\": \"Inception\", \"genre\": \"Sci-Fi\", \"rating\": 8.8},\n",
    "    {\"title\": \"The Dark Knight\", \"genre\": \"Action\", \"rating\": 9.0},\n",
    "    {\"title\": \"Interstellar\", \"genre\": \"Sci-Fi\", \"rating\": 8.6},\n",
    "    {\"title\": \"The Godfather\", \"genre\": \"Crime\", \"rating\": 9.2},\n",
    "]\n",
    "\n",
    "# Function to recommend movies by genre\n",
    "def recommend_movies(genre):\n",
    "    print(f\"Recommended {genre} movies:\")\n",
    "    for movie in movies:\n",
    "        if movie[\"genre\"] == genre:\n",
    "            print(f\"{movie['title']} - Rating: {movie['rating']}\")\n",
    "\n",
    "# Example usage\n",
    "recommend_movies(\"Sci-Fi\")\n",
    "recommend_movies(\"Action\")"
   ]
  },
  {
   "cell_type": "markdown",
   "id": "ff068251",
   "metadata": {},
   "source": [
    "#### Example 4: Weather Data Analysis\n",
    "\n",
    "A list can be used to store daily temperature readings, and you can perform operations like finding the highest, lowest, and average temperature."
   ]
  },
  {
   "cell_type": "code",
   "execution_count": 22,
   "id": "57b2789f",
   "metadata": {},
   "outputs": [
    {
     "name": "stdout",
     "output_type": "stream",
     "text": [
      "Average Temperature: 71.14°F\n",
      "Highest Temperature: 75°F\n",
      "Lowest Temperature: 68°F\n"
     ]
    }
   ],
   "source": [
    "# List of temperatures for a week\n",
    "temperatures = [70, 72, 68, 75, 71, 69, 73]\n",
    "\n",
    "# Function to calculate average temperature\n",
    "average_temp = sum(temperatures) / len(temperatures)\n",
    "\n",
    "\n",
    "# Finding the highest and lowest temperatures\n",
    "max_temp = max(temperatures)\n",
    "min_temp = min(temperatures)\n",
    "\n",
    "print(f\"Average Temperature: {average_temp:.2f}°F\")\n",
    "print(f\"Highest Temperature: {max_temp}°F\")\n",
    "print(f\"Lowest Temperature: {min_temp}°F\")"
   ]
  },
  {
   "cell_type": "markdown",
   "id": "6300c32b",
   "metadata": {},
   "source": [
    "# Conclusion :\n",
    "These examples demonstrate how Python lists can be effectively applied in real-world applications, such as managing tasks, analyzing temperatures, and more. They showcase the versatility and practical use of lists in various domains."
   ]
  },
  {
   "cell_type": "markdown",
   "id": "ec8e4db5",
   "metadata": {},
   "source": []
  }
 ],
 "metadata": {
  "kernelspec": {
   "display_name": "Python 3 (ipykernel)",
   "language": "python",
   "name": "python3"
  },
  "language_info": {
   "codemirror_mode": {
    "name": "ipython",
    "version": 3
   },
   "file_extension": ".py",
   "mimetype": "text/x-python",
   "name": "python",
   "nbconvert_exporter": "python",
   "pygments_lexer": "ipython3",
   "version": "3.9.13"
  }
 },
 "nbformat": 4,
 "nbformat_minor": 5
}
