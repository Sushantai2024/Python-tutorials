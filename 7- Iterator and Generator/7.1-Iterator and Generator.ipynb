{
 "cells": [
  {
   "cell_type": "markdown",
   "id": "ab1ce17a",
   "metadata": {},
   "source": [
    "# Iterators in Python\n",
    "\n",
    "An iterator in Python is an object that allows you to iterate (traverse) through elements of a collection, such as a list, tuple, dictionary, or string, one element at a time.\n",
    "\n",
    "\n",
    "Iterators follow a specific protocol that includes the methods ____iter____() and ____next____().\n",
    "\n",
    "\n",
    "### Key Concepts\n",
    "\n",
    "\n",
    "1.\t__Iterable__: An object that can return an iterator (e.g., lists, tuples, strings, sets, dictionaries). It implements the __iter__() method, which returns an iterator.\n",
    "\n",
    "\n",
    "2.\t__Iterator__: An object that produces one element at a time using the __next__() method until there are no more elements. It keeps track of the current position during iteration. When there are no elements left, it raises a StopIteration exception.\n",
    "\n",
    "\n",
    "### Difference Between Iterable and Iterator\n",
    "\n",
    "•\t__Iterable__: Any object that has an __iter__() method or implements the __getitem__() method (for sequential access). Examples include lists, dictionaries, strings, etc.\n",
    "\n",
    "\n",
    "•\t__Iterator__: Any object with a __next__() method (or next() in Python 2) that produces items one at a time.\n",
    "\n",
    "\n",
    "### Example of an Iterator\n",
    "\n",
    "Let’s look at how iterators work with a list:"
   ]
  },
  {
   "cell_type": "code",
   "execution_count": 23,
   "id": "c403531a",
   "metadata": {},
   "outputs": [
    {
     "name": "stdout",
     "output_type": "stream",
     "text": [
      "1\n",
      "2\n",
      "3\n",
      "4\n"
     ]
    }
   ],
   "source": [
    "my_list = [1, 2, 3, 4]\n",
    "iterator = iter(my_list)  # Get an iterator object\n",
    "\n",
    "print(next(iterator)) \n",
    "print(next(iterator))  \n",
    "print(next(iterator))  \n",
    "print(next(iterator))  \n",
    "# If you call next again, it raises a StopIteration error\n",
    "#print(next(iterator))  # Raises StopIteration"
   ]
  },
  {
   "cell_type": "markdown",
   "id": "c56bd05b",
   "metadata": {},
   "source": [
    "### How Iterators Work:\n",
    "\n",
    "•\titer(my_list) returns an iterator object.\n",
    "\n",
    "\n",
    "•\tnext(iterator) is used to get the next element. Each call to next() fetches the next item in the sequence.\n",
    "\n",
    "\n",
    "•\tWhen there are no more elements, a StopIteration exception is raised.\n"
   ]
  },
  {
   "cell_type": "markdown",
   "id": "b03eb737",
   "metadata": {},
   "source": [
    "## Iterator vs Generator\n",
    "\n",
    "Generators are a simpler way to create iterators in Python. They use the yield statement to produce values one at a time and maintain their state between successive calls."
   ]
  },
  {
   "cell_type": "code",
   "execution_count": 4,
   "id": "a7e55057",
   "metadata": {},
   "outputs": [
    {
     "name": "stdout",
     "output_type": "stream",
     "text": [
      "0\n",
      "1\n"
     ]
    }
   ],
   "source": [
    "def my_generator():\n",
    "    for i in range(5):\n",
    "        yield i\n",
    "\n",
    "gen = my_generator()\n",
    "print(next(gen))  \n",
    "print(next(gen))  "
   ]
  },
  {
   "cell_type": "markdown",
   "id": "9b062075",
   "metadata": {},
   "source": [
    "### Iterating Over Built-in Collections\n",
    "\n",
    "Most of Python’s built-in collections are iterable, and you can convert them into iterators using the iter() function and traverse them using next().\n"
   ]
  },
  {
   "cell_type": "code",
   "execution_count": 5,
   "id": "57ff2c46",
   "metadata": {},
   "outputs": [
    {
     "name": "stdout",
     "output_type": "stream",
     "text": [
      "10\n",
      "20\n"
     ]
    }
   ],
   "source": [
    "#Examples:\n",
    "    \n",
    "# List\n",
    "\n",
    "my_list = [10, 20, 30]\n",
    "it = iter(my_list)\n",
    "print(next(it))  \n",
    "print(next(it)) "
   ]
  },
  {
   "cell_type": "code",
   "execution_count": 7,
   "id": "0f62283d",
   "metadata": {},
   "outputs": [
    {
     "name": "stdout",
     "output_type": "stream",
     "text": [
      "h\n"
     ]
    }
   ],
   "source": [
    "# String \n",
    "\n",
    "my_str = \"hello\"\n",
    "it = iter(my_str)\n",
    "print(next(it))  "
   ]
  },
  {
   "cell_type": "code",
   "execution_count": 11,
   "id": "8c63a62b",
   "metadata": {},
   "outputs": [
    {
     "name": "stdout",
     "output_type": "stream",
     "text": [
      "a\n"
     ]
    }
   ],
   "source": [
    "# Dictionary\n",
    "\n",
    "my_dict = {'a': 1, 'b': 2, 'c': 3}\n",
    "it = iter(my_dict)  # Iterates over keys\n",
    "print(next(it))  "
   ]
  },
  {
   "cell_type": "markdown",
   "id": "47f15dcf",
   "metadata": {},
   "source": [
    "### Built-in Functions for Iterators\n",
    "\n",
    "- iter(): Returns an iterator object.\n",
    "    \n",
    "    \n",
    "- next(): Returns the next item from the iterator.\n",
    "    \n",
    "    \n",
    "- enumerate(): Used to loop over an iterable and return both the index and the item."
   ]
  },
  {
   "cell_type": "code",
   "execution_count": 13,
   "id": "d2af1859",
   "metadata": {},
   "outputs": [
    {
     "name": "stdout",
     "output_type": "stream",
     "text": [
      "Index 0: apple\n",
      "Index 1: banana\n",
      "Index 2: cherry\n"
     ]
    }
   ],
   "source": [
    "# Enumerate over a List\n",
    "fruits = ['apple', 'banana', 'cherry']\n",
    "\n",
    "for index, fruit in enumerate(fruits):\n",
    "    print(f\"Index {index}: {fruit}\")"
   ]
  },
  {
   "cell_type": "code",
   "execution_count": 14,
   "id": "a191f9de",
   "metadata": {},
   "outputs": [
    {
     "name": "stdout",
     "output_type": "stream",
     "text": [
      "Item 1: apple\n",
      "Item 2: banana\n",
      "Item 3: cherry\n"
     ]
    }
   ],
   "source": [
    "# Start Index from a Custom Number\n",
    "fruits = ['apple', 'banana', 'cherry']\n",
    "\n",
    "for index, fruit in enumerate(fruits, start=1):\n",
    "    print(f\"Item {index}: {fruit}\")"
   ]
  },
  {
   "cell_type": "code",
   "execution_count": 19,
   "id": "c923fe96",
   "metadata": {},
   "outputs": [
    {
     "name": "stdout",
     "output_type": "stream",
     "text": [
      "Letter at index 0: h\n",
      "Letter at index 1: e\n",
      "Letter at index 2: l\n",
      "Letter at index 3: l\n",
      "Letter at index 4: o\n"
     ]
    }
   ],
   "source": [
    "# Enumerate Over a String\n",
    "text = \"hello\"\n",
    "\n",
    "for index, letter in enumerate(text):\n",
    "    print(f\"Letter at index {index}: {letter}\")"
   ]
  },
  {
   "cell_type": "code",
   "execution_count": 20,
   "id": "66ee77e0",
   "metadata": {},
   "outputs": [
    {
     "name": "stdout",
     "output_type": "stream",
     "text": [
      "Color 0: red\n",
      "Color 1: green\n",
      "Color 2: blue\n"
     ]
    }
   ],
   "source": [
    "# Enumerate with a Tuple\n",
    "colors = ('red', 'green', 'blue')\n",
    "\n",
    "for index, color in enumerate(colors):\n",
    "    print(f\"Color {index}: {color}\")"
   ]
  },
  {
   "cell_type": "code",
   "execution_count": 22,
   "id": "2126506d",
   "metadata": {},
   "outputs": [
    {
     "name": "stdout",
     "output_type": "stream",
     "text": [
      "['0: apple', '1: banana', '2: cherry']\n"
     ]
    }
   ],
   "source": [
    "# Using enumerate() in List Comprehensions\n",
    "fruits = ['apple', 'banana', 'cherry']\n",
    "indexed_fruits = [f\"{index}: {fruit}\" for index, fruit in enumerate(fruits)]\n",
    "print(indexed_fruits)"
   ]
  },
  {
   "cell_type": "markdown",
   "id": "7c374a23",
   "metadata": {},
   "source": [
    "# Conclusion:\n",
    "\n",
    "•\tAn iterator is an object with a __next__() method that returns the next item of an iterable and raises StopIteration when there are no more items.\n",
    "\n",
    "\n",
    "•\tIterators are useful for efficient looping and for large or infinite data sequences.\n"
   ]
  },
  {
   "cell_type": "code",
   "execution_count": null,
   "id": "3f1bfe26",
   "metadata": {},
   "outputs": [],
   "source": []
  }
 ],
 "metadata": {
  "kernelspec": {
   "display_name": "Python 3 (ipykernel)",
   "language": "python",
   "name": "python3"
  },
  "language_info": {
   "codemirror_mode": {
    "name": "ipython",
    "version": 3
   },
   "file_extension": ".py",
   "mimetype": "text/x-python",
   "name": "python",
   "nbconvert_exporter": "python",
   "pygments_lexer": "ipython3",
   "version": "3.9.13"
  }
 },
 "nbformat": 4,
 "nbformat_minor": 5
}
