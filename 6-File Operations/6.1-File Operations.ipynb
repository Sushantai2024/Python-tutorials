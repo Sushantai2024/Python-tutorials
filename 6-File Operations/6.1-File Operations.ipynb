{
 "cells": [
  {
   "cell_type": "markdown",
   "id": "a7b068c4",
   "metadata": {},
   "source": [
    "# File Handling Operations\n",
    "\n",
    "In Python, file operations allow you to work with files, such as reading from and writing to them. Python provides built-in functions to open, read, write, and manipulate files. Here’s an overview of common file operations:"
   ]
  },
  {
   "cell_type": "markdown",
   "id": "074c161b",
   "metadata": {},
   "source": [
    "### 1. Opening a File (open())\n",
    "\n",
    "Before performing any operations on a file, it needs to be opened using the open() function. This function returns a file object, which can be used to read or write data.\n",
    "\n",
    "##### Syntax :\n",
    "file_object = open(file_name, mode)\n",
    "\n",
    "•\tfile_name: The name of the file (with extension) you want to open.\n",
    "\n",
    "\n",
    "•\tmode: The mode in which the file is opened (e.g., read, write). Some common modes are:\n",
    "\n",
    "\n",
    "•\t'r': Read mode (default). Opens the file for reading. Raises an error if the file does not exist.\n",
    "\n",
    "\n",
    "•\t'w': Write mode. Opens the file for writing, truncating the file first if it exists or creating a new one if it doesn’t.\n",
    "\n",
    "\n",
    "•\t'a': Append mode. Opens the file for appending; any data written is added to the end of the file.\n",
    "\n",
    "\n",
    "•\t'r+': Read and write mode. Opens the file for both reading and writing.\n",
    "\n",
    "•\t'b': Binary mode. Used for binary files (e.g., images, videos) by appending 'b' to the modes above (e.g., 'rb', 'wb').\n",
    "\n",
    "Example:"
   ]
  },
  {
   "cell_type": "code",
   "execution_count": null,
   "id": "e971c063",
   "metadata": {},
   "outputs": [],
   "source": [
    "file = open('example.txt', 'r') \n",
    "# Opens file for reading"
   ]
  },
  {
   "cell_type": "markdown",
   "id": "48cb3d15",
   "metadata": {},
   "source": [
    "### 2. Reading a File\n",
    "\n",
    "After opening a file in read mode ('r'), you can read its contents using the following methods:\n",
    "\n",
    "\n",
    "•\tread(): Reads the entire file as a single string.\n",
    "\n",
    "•\treadline(): Reads one line at a time.\n",
    "\n",
    "•\treadlines(): Reads all lines into a list, where each line is an element of the list.\n",
    "\n",
    "Examples:"
   ]
  },
  {
   "cell_type": "code",
   "execution_count": null,
   "id": "94cc62e3",
   "metadata": {},
   "outputs": [],
   "source": [
    "# Read entire file\n",
    "file = open('example.txt', 'r')\n",
    "content = file.read()\n",
    "print(content)\n",
    "file.close()\n",
    "\n",
    "# Read file line by line\n",
    "file = open('example.txt', 'r')\n",
    "line = file.readline()  # Reads one line\n",
    "while line:\n",
    "    print(line.strip())  # Remove extra newline characters\n",
    "    line = file.readline()\n",
    "file.close()\n",
    "\n",
    "# Read all lines into a list\n",
    "file = open('example.txt', 'r')\n",
    "lines = file.readlines()  # Returns a list of lines\n",
    "for line in lines:\n",
    "    print(line.strip())\n",
    "file.close()"
   ]
  },
  {
   "cell_type": "markdown",
   "id": "99a8be1d",
   "metadata": {},
   "source": [
    "### 3. Writing to a File\n",
    "\n",
    "You can write data to a file using the write() method. If the file is opened in write mode ('w'), it overwrites the existing content. To append data without overwriting, use append mode ('a').\n",
    "\n",
    "\n",
    "Example:"
   ]
  },
  {
   "cell_type": "code",
   "execution_count": 19,
   "id": "1d9efd4f",
   "metadata": {},
   "outputs": [],
   "source": [
    "# Writing to a file\n",
    "file = open('example.txt', 'w')\n",
    "file.write(\"Hello, world!\\n\")\n",
    "file.write(\"This is a new line.\\n\")\n",
    "file.close()\n",
    "\n",
    "# Appending to a file\n",
    "file = open('example.txt', 'a')\n",
    "file.write(\"Appended text.\\n\")\n",
    "file.close()"
   ]
  },
  {
   "cell_type": "markdown",
   "id": "09864981",
   "metadata": {},
   "source": [
    "### 4. Closing a File (close())\n",
    "\n",
    "It’s important to close a file after reading or writing. This ensures that all resources used by the file are freed and any changes made are saved properly.\n",
    "\n",
    "\n",
    "Example:"
   ]
  },
  {
   "cell_type": "code",
   "execution_count": 6,
   "id": "07042b9f",
   "metadata": {},
   "outputs": [],
   "source": [
    "file = open('example.txt', 'r')\n",
    "content = file.read()\n",
    "file.close()"
   ]
  },
  {
   "cell_type": "markdown",
   "id": "12dc6a83",
   "metadata": {},
   "source": [
    "### 5. Using with Statement for File Handling\n",
    "\n",
    "The with statement simplifies file handling by automatically closing the file when the block of code inside the with ends. It ensures proper resource management.\n"
   ]
  },
  {
   "cell_type": "code",
   "execution_count": 7,
   "id": "6eef496e",
   "metadata": {},
   "outputs": [
    {
     "name": "stdout",
     "output_type": "stream",
     "text": [
      "Hello, world!\n",
      "This is a new line.\n",
      "Appended text.\n",
      "\n"
     ]
    }
   ],
   "source": [
    "# Automatically closes the file after the block ends\n",
    "with open('example.txt', 'r') as file:\n",
    "    content = file.read()\n",
    "    print(content)\n",
    "# No need to explicitly call file.close()"
   ]
  },
  {
   "cell_type": "markdown",
   "id": "ec057dff",
   "metadata": {},
   "source": [
    "### 6. File Methods\n",
    "\n",
    "•\tfile.read(size): Reads a specified number of characters from the file. If no size is provided, it reads the entire file.\n",
    "    \n",
    "    \n",
    "•\tfile.write(string): Writes a string to the file. Ensure the file is opened in write or append mode.\n",
    "    \n",
    "    \n",
    "•\tfile.tell(): Returns the current file pointer position.\n",
    "    \n",
    "    \n",
    "•\tfile.seek(offset, whence): Moves the file pointer to a specific position."
   ]
  },
  {
   "cell_type": "code",
   "execution_count": 13,
   "id": "2a814198",
   "metadata": {},
   "outputs": [
    {
     "name": "stdout",
     "output_type": "stream",
     "text": [
      "Hello\n",
      "Hello, world!\n",
      "This i\n"
     ]
    }
   ],
   "source": [
    "# Moving file pointer using seek\n",
    "with open('example.txt', 'r') as file:\n",
    "    print(file.read(5))  # Read first 5 characters\n",
    "    file.seek(0)  # Move back to the start\n",
    "    print(file.read(20))  # Read the first 5 characters again"
   ]
  },
  {
   "cell_type": "markdown",
   "id": "8c718748",
   "metadata": {},
   "source": [
    "### 7. Checking if a File Exists\n",
    "\n",
    "Before reading or writing to a file, you may want to check if the file exists. You can use the os or pathlib modules for this purpose.\n"
   ]
  },
  {
   "cell_type": "code",
   "execution_count": 15,
   "id": "fee9c60f",
   "metadata": {},
   "outputs": [
    {
     "name": "stdout",
     "output_type": "stream",
     "text": [
      "File exists\n"
     ]
    }
   ],
   "source": [
    "import os\n",
    "\n",
    "if os.path.exists('example.txt'):\n",
    "    print(\"File exists\")\n",
    "else:\n",
    "    print(\"File does not exist\")"
   ]
  },
  {
   "cell_type": "markdown",
   "id": "96c7aeca",
   "metadata": {},
   "source": [
    "### 8. Other File Operations (Deleting, Renaming, etc.)\n",
    "\n",
    "You can also perform operations like renaming or deleting files using the os module."
   ]
  },
  {
   "cell_type": "code",
   "execution_count": 16,
   "id": "52633e38",
   "metadata": {},
   "outputs": [],
   "source": [
    "# Delete a file:\n",
    "import os\n",
    "os.remove('example.txt')"
   ]
  },
  {
   "cell_type": "code",
   "execution_count": 20,
   "id": "556a8f95",
   "metadata": {},
   "outputs": [],
   "source": [
    "# Rename a file:\n",
    "import os\n",
    "os.rename('example.txt', 'Example.txt')"
   ]
  },
  {
   "cell_type": "markdown",
   "id": "42ba8df9",
   "metadata": {},
   "source": [
    "# Summary of File Operations:\n",
    "\n",
    "•\t__Opening a file__: open()\n",
    "\n",
    "\n",
    "•\t__Reading from a file__: read(), readline(), readlines()\n",
    "\n",
    "\n",
    "•\t__Writing to a file__: write()\n",
    "\n",
    "\n",
    "•\t__Closing a file__: close(), or using the with statement\n",
    "\n",
    "\n",
    "•\t__Other operations__: tell(), seek(), file deletion and renaming\n",
    "\n",
    "File operations are essential for tasks like data processing, logging, configuration management, and more in Python."
   ]
  },
  {
   "cell_type": "code",
   "execution_count": null,
   "id": "1d3512a8",
   "metadata": {},
   "outputs": [],
   "source": []
  }
 ],
 "metadata": {
  "kernelspec": {
   "display_name": "Python 3 (ipykernel)",
   "language": "python",
   "name": "python3"
  },
  "language_info": {
   "codemirror_mode": {
    "name": "ipython",
    "version": 3
   },
   "file_extension": ".py",
   "mimetype": "text/x-python",
   "name": "python",
   "nbconvert_exporter": "python",
   "pygments_lexer": "ipython3",
   "version": "3.9.13"
  }
 },
 "nbformat": 4,
 "nbformat_minor": 5
}
