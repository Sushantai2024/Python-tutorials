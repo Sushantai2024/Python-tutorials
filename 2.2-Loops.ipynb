{
 "cells": [
  {
   "cell_type": "markdown",
   "id": "b624e587",
   "metadata": {},
   "source": [
    "# Loops\n",
    "In Python, loops are used to repeat a block of code multiple times, either a specific number of times or until a condition is met. Python has two types of loops:\n",
    "\n",
    "1. __for loop__: Iterates over a sequence (like a list, tuple, string, or range) and executes a block of code for each item.\n",
    "2. __while loop__: Repeats as long as a specified condition remains True.\n"
   ]
  },
  {
   "cell_type": "markdown",
   "id": "99f940d1",
   "metadata": {},
   "source": [
    "### 1. for Loop\n",
    "\n",
    "The for loop is used for iterating over a sequence of elements (like a list, string, or range).\n",
    "\n",
    "#### Syntax:"
   ]
  },
  {
   "cell_type": "markdown",
   "id": "a6de09a7",
   "metadata": {},
   "source": [
    "#for item in sequence:\n",
    "    # Code block to execute"
   ]
  },
  {
   "cell_type": "code",
   "execution_count": 3,
   "id": "6d1583e4",
   "metadata": {},
   "outputs": [
    {
     "name": "stdout",
     "output_type": "stream",
     "text": [
      "apple\n",
      "banana\n",
      "cherry\n"
     ]
    }
   ],
   "source": [
    "# Example 1: Iterating through a list\n",
    "\n",
    "fruits = [\"apple\", \"banana\", \"cherry\"]\n",
    "for fruit in fruits:\n",
    "    print(fruit)"
   ]
  },
  {
   "cell_type": "code",
   "execution_count": 5,
   "id": "e9550f4f",
   "metadata": {},
   "outputs": [
    {
     "name": "stdout",
     "output_type": "stream",
     "text": [
      "0\n",
      "1\n",
      "2\n",
      "3\n",
      "4\n"
     ]
    }
   ],
   "source": [
    "# Example 2: Using range() in a for loop\n",
    "\n",
    "for i in range(5):\n",
    "    print(i)"
   ]
  },
  {
   "cell_type": "markdown",
   "id": "1c04f09e",
   "metadata": {},
   "source": [
    "range(5) generates a sequence of numbers from 0 to 4."
   ]
  },
  {
   "cell_type": "markdown",
   "id": "a827c042",
   "metadata": {},
   "source": [
    "### 2. while Loop\n",
    "\n",
    "The while loop repeats as long as the condition is True. If the condition is False, the loop stops.\n",
    "\n",
    "#### Syntax:"
   ]
  },
  {
   "cell_type": "code",
   "execution_count": 6,
   "id": "8867cfea",
   "metadata": {},
   "outputs": [],
   "source": [
    "#while condition:\n",
    "    # Code block to execute"
   ]
  },
  {
   "cell_type": "code",
   "execution_count": 8,
   "id": "639cb26e",
   "metadata": {},
   "outputs": [
    {
     "name": "stdout",
     "output_type": "stream",
     "text": [
      "5\n",
      "4\n",
      "3\n",
      "2\n",
      "1\n"
     ]
    }
   ],
   "source": [
    "# Example: Countdown using a while loop\n",
    "    \n",
    "count = 5\n",
    "while count > 0:\n",
    "    print(count)\n",
    "    count -= 1  # Decreases count by 1 each iteration"
   ]
  },
  {
   "cell_type": "markdown",
   "id": "04ab4998",
   "metadata": {},
   "source": [
    "The loop continues until count becomes 0, at which point the condition (count > 0) becomes False, and the loop stops.\n"
   ]
  },
  {
   "cell_type": "markdown",
   "id": "ceb9d0a7",
   "metadata": {},
   "source": [
    "### 3. break and continue Statements\n",
    "\n",
    "- __break__: Exits the loop prematurely.\n",
    "- __continue__: Skips the current iteration and moves to the next one.\n"
   ]
  },
  {
   "cell_type": "code",
   "execution_count": 9,
   "id": "7752e6cc",
   "metadata": {},
   "outputs": [
    {
     "name": "stdout",
     "output_type": "stream",
     "text": [
      "0\n",
      "1\n",
      "2\n",
      "3\n",
      "4\n"
     ]
    }
   ],
   "source": [
    "# Example: Using break in a for loop\n",
    "\n",
    "for i in range(10):\n",
    "    if i == 5:\n",
    "        break  # Stops the loop when i is 5\n",
    "    print(i)"
   ]
  },
  {
   "cell_type": "code",
   "execution_count": 10,
   "id": "afc03022",
   "metadata": {},
   "outputs": [
    {
     "name": "stdout",
     "output_type": "stream",
     "text": [
      "0\n",
      "1\n",
      "2\n",
      "4\n"
     ]
    }
   ],
   "source": [
    "# Example: Using continue in a for loop\n",
    "\n",
    "for i in range(5):\n",
    "    if i == 3:\n",
    "        continue  # Skips printing 3\n",
    "    print(i)"
   ]
  },
  {
   "cell_type": "markdown",
   "id": "c901edae",
   "metadata": {},
   "source": [
    "### 4. else with Loops\n",
    "\n",
    "Both for and while loops can have an else block that runs when the loop completes normally (i.e., not interrupted by break).\n"
   ]
  },
  {
   "cell_type": "code",
   "execution_count": 11,
   "id": "f730594a",
   "metadata": {},
   "outputs": [
    {
     "name": "stdout",
     "output_type": "stream",
     "text": [
      "0\n",
      "1\n",
      "2\n",
      "3\n",
      "4\n",
      "Loop finished.\n"
     ]
    }
   ],
   "source": [
    "# Example: else with a for loop\n",
    "\n",
    "for i in range(5):\n",
    "    print(i)\n",
    "else:\n",
    "    print(\"Loop finished.\")"
   ]
  },
  {
   "cell_type": "markdown",
   "id": "6db2c314",
   "metadata": {},
   "source": [
    "The else block runs when the loop is exhausted without encountering a break."
   ]
  },
  {
   "cell_type": "markdown",
   "id": "5529878d",
   "metadata": {},
   "source": [
    "## Summary of Python Loops:\n",
    "\n",
    "- __for loop__: Iterates over a sequence of items.\n",
    "- __while loop__: Repeats as long as a condition is True.\n",
    "- __break__: Exits the loop early.\n",
    "- __continue__: Skips the current iteration.\n",
    "- __else block__: Runs if the loop finishes normally.\n",
    "\n",
    "Loops in Python are essential for repetitive tasks and iterating over collections of data."
   ]
  },
  {
   "cell_type": "markdown",
   "id": "ee839d84",
   "metadata": {},
   "source": [
    "#### Example : FizzBuzz Challenge\n",
    "\n",
    "This is a common coding challenge that requires printing numbers from 1 to a given number, but with specific rules for multiples of 3 and 5."
   ]
  },
  {
   "cell_type": "code",
   "execution_count": 12,
   "id": "6d3a93a3",
   "metadata": {},
   "outputs": [
    {
     "name": "stdout",
     "output_type": "stream",
     "text": [
      "Enter the limit for FizzBuzz: 15\n",
      "1\n",
      "2\n",
      "Fizz\n",
      "4\n",
      "Buzz\n",
      "Fizz\n",
      "7\n",
      "8\n",
      "Fizz\n",
      "Buzz\n",
      "11\n",
      "Fizz\n",
      "13\n",
      "14\n",
      "FizzBuzz\n"
     ]
    }
   ],
   "source": [
    "# Input: Limit for FizzBuzz\n",
    "n = int(input(\"Enter the limit for FizzBuzz: \"))\n",
    "\n",
    "# FizzBuzz logic\n",
    "for i in range(1, n + 1):\n",
    "    if i % 3 == 0 and i % 5 == 0:\n",
    "        print(\"FizzBuzz\")\n",
    "    elif i % 3 == 0:\n",
    "        print(\"Fizz\")\n",
    "    elif i % 5 == 0:\n",
    "        print(\"Buzz\")\n",
    "    else:\n",
    "        print(i)"
   ]
  },
  {
   "cell_type": "markdown",
   "id": "b70f9cf0",
   "metadata": {},
   "source": [
    "The loop iterates through numbers from 1 to the user-defined limit.\n",
    "\n",
    "It prints “Fizz” for multiples of 3, “Buzz” for multiples of 5, and “FizzBuzz” for multiples of both."
   ]
  },
  {
   "cell_type": "markdown",
   "id": "ac59f6bc",
   "metadata": {},
   "source": [
    "#### Example : Fibonacci Series\n",
    "    \n",
    "This example generates the Fibonacci series up to a specified number using a while loop."
   ]
  },
  {
   "cell_type": "code",
   "execution_count": 14,
   "id": "fe88cdb9",
   "metadata": {},
   "outputs": [
    {
     "name": "stdout",
     "output_type": "stream",
     "text": [
      "Enter the limit for the Fibonacci series: 100\n",
      "Fibonacci Series:\n",
      "0 1 1 2 3 5 8 13 21 34 55 89 \n"
     ]
    }
   ],
   "source": [
    "# Input: Limit for Fibonacci series\n",
    "limit = int(input(\"Enter the limit for the Fibonacci series: \"))\n",
    "\n",
    "# Initialize the first two Fibonacci numbers\n",
    "a, b = 0, 1\n",
    "\n",
    "# Generate Fibonacci series\n",
    "print(\"Fibonacci Series:\")\n",
    "while a <= limit:\n",
    "    print(a, end=' ')\n",
    "    a, b = b, a + b  # Update values\n",
    "print()  # New line at the end"
   ]
  },
  {
   "cell_type": "markdown",
   "id": "1cfc84ef",
   "metadata": {},
   "source": [
    "The Fibonacci series starts with 0 and 1, and each subsequent number is the sum of the previous two.\n",
    "\n",
    "The while loop continues generating numbers until it exceeds the specified limit."
   ]
  },
  {
   "cell_type": "code",
   "execution_count": null,
   "id": "1b77a6fc",
   "metadata": {},
   "outputs": [],
   "source": []
  }
 ],
 "metadata": {
  "kernelspec": {
   "display_name": "Python 3 (ipykernel)",
   "language": "python",
   "name": "python3"
  },
  "language_info": {
   "codemirror_mode": {
    "name": "ipython",
    "version": 3
   },
   "file_extension": ".py",
   "mimetype": "text/x-python",
   "name": "python",
   "nbconvert_exporter": "python",
   "pygments_lexer": "ipython3",
   "version": "3.9.13"
  }
 },
 "nbformat": 4,
 "nbformat_minor": 5
}
