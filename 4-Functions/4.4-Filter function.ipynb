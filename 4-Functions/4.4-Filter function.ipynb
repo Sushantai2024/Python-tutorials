{
 "cells": [
  {
   "cell_type": "markdown",
   "id": "f935ec06",
   "metadata": {},
   "source": [
    "# Filter Function\n",
    "\n",
    "The filter() function in Python is used to filter elements from an iterable (like a list, tuple, etc.) based on a function that returns either True or False.\n",
    "\n",
    "Only the elements for which the function returns True are included in the result. The result is a filter object, which is an iterator that can be converted into a list, tuple, or other data types.\n",
    "\n",
    "### Syntax: filter(function, iterable)\n",
    "\n",
    "- __function__: A function that tests each element of the iterable. It should return __True__ if the element passes the filter, and False otherwise. You can also pass None as the function to filter out any False or equivalent values (like 0, None, False, or empty strings).\n",
    "\n",
    "\n",
    "\n",
    "- __iterable__: The iterable (such as a list, tuple, set) from which the elements will be filtered.\n",
    "\n",
    "\n",
    "# Key Points:\n",
    "\n",
    "\n",
    "1.\t__Filtering Based on a Condition__: The function is applied to each element of the iterable, and only those elements that satisfy the condition (where the function returns True) are kept.\n",
    "\n",
    "\n",
    "2.\t__Filter Object__: The filter() function returns a filter object, which is an iterator. You can convert it to a list, tuple, or other collection types.\n"
   ]
  },
  {
   "cell_type": "markdown",
   "id": "044f16dc",
   "metadata": {},
   "source": [
    "### Example 1: Using filter() with a Lambda Function\n",
    "\n",
    "Let’s filter out the even numbers from a list using a lambda function."
   ]
  },
  {
   "cell_type": "code",
   "execution_count": 2,
   "id": "6f6cb38f",
   "metadata": {},
   "outputs": [
    {
     "name": "stdout",
     "output_type": "stream",
     "text": [
      "[2, 4, 6]\n"
     ]
    }
   ],
   "source": [
    "# List of numbers\n",
    "numbers = [1, 2, 3, 4, 5, 6]\n",
    "\n",
    "# Use filter to keep only the even numbers\n",
    "even_numbers = list(filter(lambda x: x % 2 == 0, numbers))\n",
    "\n",
    "print(even_numbers)  "
   ]
  },
  {
   "cell_type": "markdown",
   "id": "da3a46b7",
   "metadata": {},
   "source": [
    "### Example 2: Using filter() with a Defined Function\n",
    "\n",
    "You can also pass a regular function instead of a lambda function to filter()."
   ]
  },
  {
   "cell_type": "code",
   "execution_count": 4,
   "id": "f2232c16",
   "metadata": {},
   "outputs": [
    {
     "name": "stdout",
     "output_type": "stream",
     "text": [
      "[3, 7, 8]\n"
     ]
    }
   ],
   "source": [
    "# Define a function to check if a number is positive\n",
    "def is_positive(num):\n",
    "    return num > 0\n",
    "\n",
    "# List of numbers (both positive and negative)\n",
    "numbers = [-5, 3, -1, 7, -2, 0, 8]\n",
    "\n",
    "# Use filter to keep only positive numbers\n",
    "positive_numbers = list(filter(is_positive, numbers))\n",
    "\n",
    "print(positive_numbers)  "
   ]
  },
  {
   "cell_type": "markdown",
   "id": "d0411142",
   "metadata": {},
   "source": [
    "### Example 3: Filtering Out Empty or False Values\n",
    "\n",
    "You can pass None as the function to filter(), which will remove any elements that are False or equivalent (such as None, 0, False, '', etc.)."
   ]
  },
  {
   "cell_type": "code",
   "execution_count": 6,
   "id": "b902ba29",
   "metadata": {},
   "outputs": [
    {
     "name": "stdout",
     "output_type": "stream",
     "text": [
      "[1, 'hello', [1, 2], True]\n"
     ]
    }
   ],
   "source": [
    "# List with various values including Falsey values\n",
    "items = [0, 1, '', 'hello', None, [], [1, 2], False, True]\n",
    "\n",
    "# Use filter with None to remove all Falsey values\n",
    "filtered_items = list(filter(None, items))\n",
    "\n",
    "print(filtered_items)  "
   ]
  },
  {
   "cell_type": "markdown",
   "id": "01c3e995",
   "metadata": {},
   "source": [
    "### Example 4: Filtering Strings by Length\n",
    "\n",
    "Let’s filter a list of strings and keep only those that have a length greater than 3."
   ]
  },
  {
   "cell_type": "code",
   "execution_count": 8,
   "id": "6c93b1a8",
   "metadata": {},
   "outputs": [
    {
     "name": "stdout",
     "output_type": "stream",
     "text": [
      "['apple', 'banana', 'elephant']\n"
     ]
    }
   ],
   "source": [
    "# List of strings\n",
    "words = [\"apple\", \"a\", \"banana\", \"cat\", \"dog\", \"elephant\"]\n",
    "\n",
    "# Use filter to keep words with length greater than 3\n",
    "long_words = list(filter(lambda word: len(word) > 3, words))\n",
    "\n",
    "print(long_words)  "
   ]
  },
  {
   "cell_type": "markdown",
   "id": "70c42035",
   "metadata": {},
   "source": [
    "### Example 5: Filtering Using Multiple Conditions\n",
    "\n",
    "You can also filter using more complex conditions. For example, let’s filter a list of numbers to keep only the even numbers that are greater than 5."
   ]
  },
  {
   "cell_type": "code",
   "execution_count": 10,
   "id": "61c17a25",
   "metadata": {},
   "outputs": [
    {
     "name": "stdout",
     "output_type": "stream",
     "text": [
      "[6, 8, 10]\n"
     ]
    }
   ],
   "source": [
    "# List of numbers\n",
    "numbers = [2, 4, 6, 8, 10]\n",
    "\n",
    "# Use filter to keep even numbers greater than 5\n",
    "even_greater_than_5 = list(filter(lambda x: x % 2 == 0 and x > 5, numbers))\n",
    "\n",
    "print(even_greater_than_5)  "
   ]
  },
  {
   "cell_type": "markdown",
   "id": "53c79fcb",
   "metadata": {},
   "source": [
    "# Conclusion:\n",
    "\n",
    "- filter() is used to filter elements from an iterable based on a condition.\n",
    "\n",
    "\n",
    "- It returns a filter object (an iterator) that can be converted into a list, tuple, or other collection types.\n",
    "\n",
    "\n",
    "- The function you pass to filter() should return True or False for each element.\n",
    "\n",
    "\n",
    "- You can use filter() with lambda functions, defined functions, or even pass None to filter out Falsey values.\n"
   ]
  },
  {
   "cell_type": "code",
   "execution_count": null,
   "id": "99ffb10a",
   "metadata": {},
   "outputs": [],
   "source": []
  }
 ],
 "metadata": {
  "kernelspec": {
   "display_name": "Python 3 (ipykernel)",
   "language": "python",
   "name": "python3"
  },
  "language_info": {
   "codemirror_mode": {
    "name": "ipython",
    "version": 3
   },
   "file_extension": ".py",
   "mimetype": "text/x-python",
   "name": "python",
   "nbconvert_exporter": "python",
   "pygments_lexer": "ipython3",
   "version": "3.9.13"
  }
 },
 "nbformat": 4,
 "nbformat_minor": 5
}
