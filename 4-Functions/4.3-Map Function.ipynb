{
 "cells": [
  {
   "cell_type": "markdown",
   "id": "07e841e4",
   "metadata": {},
   "source": [
    "# Map Function \n",
    "\n",
    "The map() function in Python is used to apply a given function to all the items in an iterable (like a list, tuple, etc.) and return a map object (which is an iterator). \n",
    "\n",
    "The function passed to map() is applied to each element of the iterable, and the results are collected into the map object, which can then be converted to a list, tuple, or other data structures.\n",
    "\n",
    "### Syntax:   map(function, itrable)\n",
    "\n",
    "- __function__: The function that you want to apply to each element of the iterable. This can be a regular function, a lambda function, or a built-in function.\n",
    "\n",
    "\n",
    "- __iterable__: An iterable (such as a list, tuple, or string) whose elements will be processed by the function.\n",
    "\n",
    "\n",
    "\n",
    "### Key Points:\n",
    "\n",
    "1.\t__Function Application__: map() applies the function to each item of the iterable.\n",
    "\n",
    "\n",
    "2.\t__Iterator__ : The result is a map object, which is an iterator that can be converted into a list or other collection.\n",
    "\n",
    "\n",
    "3.\t__Multiple Iterables__: You can pass more than one iterable to map(). In this case, the function should accept that many arguments, and map() will apply the function in parallel to the elements of the iterables.\n"
   ]
  },
  {
   "cell_type": "markdown",
   "id": "e3425e71",
   "metadata": {},
   "source": [
    "### Example 1: Using map() with a Built-in Function\n",
    "\n",
    "Let’s apply the str() function to convert a list of integers into strings."
   ]
  },
  {
   "cell_type": "code",
   "execution_count": 4,
   "id": "bf35bfae",
   "metadata": {},
   "outputs": [
    {
     "name": "stdout",
     "output_type": "stream",
     "text": [
      "['1', '2', '3', '4']\n"
     ]
    }
   ],
   "source": [
    "numbers = [1, 2, 3, 4]\n",
    "# Convert each number to a string\n",
    "str_numbers = list(map(str, numbers))\n",
    "\n",
    "print(str_numbers)  "
   ]
  },
  {
   "cell_type": "markdown",
   "id": "249137e5",
   "metadata": {},
   "source": [
    "### Example 2: Using map() with a Lambda Function\n",
    "\n",
    "You can use a lambda function with map() to apply more complex transformations."
   ]
  },
  {
   "cell_type": "code",
   "execution_count": 8,
   "id": "4e463c20",
   "metadata": {},
   "outputs": [
    {
     "name": "stdout",
     "output_type": "stream",
     "text": [
      "[1, 4, 9, 16]\n"
     ]
    }
   ],
   "source": [
    "# List of numbers\n",
    "numbers = [1, 2, 3, 4]\n",
    "\n",
    "# Use map to square each number using a lambda function\n",
    "squared_numbers = list(map(lambda x: x * x, numbers))\n",
    "\n",
    "print(squared_numbers)  "
   ]
  },
  {
   "cell_type": "markdown",
   "id": "74221eb0",
   "metadata": {},
   "source": [
    "### Example 3: Using map() with Multiple Iterables\n",
    "\n",
    "When you pass multiple iterables to map(), the function you pass must accept that many arguments. map() applies the function element-wise to corresponding elements from the iterables."
   ]
  },
  {
   "cell_type": "code",
   "execution_count": 10,
   "id": "20fdd802",
   "metadata": {},
   "outputs": [
    {
     "name": "stdout",
     "output_type": "stream",
     "text": [
      "[11, 22, 33, 44]\n"
     ]
    }
   ],
   "source": [
    "# Two lists of numbers\n",
    "numbers1 = [1, 2, 3, 4]\n",
    "numbers2 = [10, 20, 30, 40]\n",
    "\n",
    "# Use map to add corresponding elements from both lists\n",
    "added_numbers = list(map(lambda x, y: x + y, numbers1, numbers2))\n",
    "\n",
    "print(added_numbers) "
   ]
  },
  {
   "cell_type": "markdown",
   "id": "fae35d1a",
   "metadata": {},
   "source": [
    "### Example 4: Using map() with a Defined Function\n",
    "\n",
    "You can also pass a defined function (instead of a lambda) to map()."
   ]
  },
  {
   "cell_type": "code",
   "execution_count": 11,
   "id": "d3b29d28",
   "metadata": {},
   "outputs": [
    {
     "name": "stdout",
     "output_type": "stream",
     "text": [
      "[32.0, 50.0, 68.0, 86.0]\n"
     ]
    }
   ],
   "source": [
    "# Define a function to convert Celsius to Fahrenheit\n",
    "def celsius_to_fahrenheit(celsius):\n",
    "    return (celsius * 9/5) + 32\n",
    "\n",
    "# List of temperatures in Celsius\n",
    "celsius_temps = [0, 10, 20, 30]\n",
    "\n",
    "# Convert Celsius to Fahrenheit using map\n",
    "fahrenheit_temps = list(map(celsius_to_fahrenheit, celsius_temps))\n",
    "\n",
    "print(fahrenheit_temps)  "
   ]
  },
  {
   "cell_type": "markdown",
   "id": "55c74179",
   "metadata": {},
   "source": [
    "### Example 5: Handling Different Iterable Lengths\n",
    "\n",
    "If the iterables passed to map() are of different lengths, map() stops when the shortest iterable is exhausted."
   ]
  },
  {
   "cell_type": "code",
   "execution_count": 13,
   "id": "646c4d6f",
   "metadata": {},
   "outputs": [
    {
     "name": "stdout",
     "output_type": "stream",
     "text": [
      "[11, 22]\n"
     ]
    }
   ],
   "source": [
    "numbers1 = [1, 2, 3]\n",
    "numbers2 = [10, 20]\n",
    "\n",
    "# Use map to add corresponding elements from both lists\n",
    "added_numbers = list(map(lambda x, y: x + y, numbers1, numbers2))\n",
    "\n",
    "print(added_numbers) "
   ]
  },
  {
   "cell_type": "markdown",
   "id": "753f1624",
   "metadata": {},
   "source": [
    "### Conclusion:\n",
    "\n",
    "- map() is a built-in Python function used to apply a function to all items in an iterable.\n",
    "\n",
    "\n",
    "- It returns a map object, which can be converted to a list, tuple, or other collections.\n",
    "\n",
    "\n",
    "- map() is useful when you want to perform element-wise operations on a list or multiple lists."
   ]
  },
  {
   "cell_type": "code",
   "execution_count": null,
   "id": "a2e7c0b1",
   "metadata": {},
   "outputs": [],
   "source": []
  }
 ],
 "metadata": {
  "kernelspec": {
   "display_name": "Python 3 (ipykernel)",
   "language": "python",
   "name": "python3"
  },
  "language_info": {
   "codemirror_mode": {
    "name": "ipython",
    "version": 3
   },
   "file_extension": ".py",
   "mimetype": "text/x-python",
   "name": "python",
   "nbconvert_exporter": "python",
   "pygments_lexer": "ipython3",
   "version": "3.9.13"
  }
 },
 "nbformat": 4,
 "nbformat_minor": 5
}
