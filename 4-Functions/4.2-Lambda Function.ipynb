{
 "cells": [
  {
   "cell_type": "markdown",
   "id": "b7fe9487",
   "metadata": {},
   "source": [
    "# Lambda Function\n",
    "\n",
    "A __lambda function__ is a small, anonymous function that can have any number of arguments but only one expression. It is defined using the lambda keyword.\n",
    "\n",
    "\n",
    "That is basically a without naming function.\n",
    "\n",
    "\n",
    "\n",
    "#### Syntax:"
   ]
  },
  {
   "cell_type": "code",
   "execution_count": 5,
   "id": "12df1bf5",
   "metadata": {},
   "outputs": [
    {
     "data": {
      "text/plain": [
       "<function __main__.<lambda>(arguments)>"
      ]
     },
     "execution_count": 5,
     "metadata": {},
     "output_type": "execute_result"
    }
   ],
   "source": [
    "lambda arguments: expression"
   ]
  },
  {
   "cell_type": "markdown",
   "id": "0ae9a5bf",
   "metadata": {},
   "source": [
    "- __lambda__: The keyword used to define the lambda function.\n",
    "\n",
    "\n",
    "- __arguments__: These are the parameters that the lambda function accepts (similar to regular function parameters).\n",
    "\n",
    "\n",
    "- __expression__: The single expression that the lambda function evaluates and returns.\n"
   ]
  },
  {
   "cell_type": "code",
   "execution_count": 6,
   "id": "c29770e8",
   "metadata": {},
   "outputs": [
    {
     "name": "stdout",
     "output_type": "stream",
     "text": [
      "25\n"
     ]
    }
   ],
   "source": [
    "# Lambda function to calculate the square of a number\n",
    "square = lambda x: x * x\n",
    "\n",
    "# Using the lambda function\n",
    "print(square(5))  "
   ]
  },
  {
   "cell_type": "markdown",
   "id": "f97710e3",
   "metadata": {},
   "source": [
    "- In this example, lambda x: x * x is a lambda function that takes one argument x and returns x * x."
   ]
  },
  {
   "cell_type": "markdown",
   "id": "608a89af",
   "metadata": {},
   "source": [
    "### Use Cases of Lambda Functions:\n",
    "\n",
    "Lambda functions are often used in situations where a small, one-off function is needed, especially in functional programming constructs like __map()__, __filter()__, and __sorted()__.\n",
    "\n",
    "### Example 1: Using Lambda with map()\n",
    "\n",
    "The map() function applies a given function to all the items in a list. You can use a lambda function for quick inline transformations."
   ]
  },
  {
   "cell_type": "code",
   "execution_count": 8,
   "id": "cbbec50f",
   "metadata": {},
   "outputs": [
    {
     "name": "stdout",
     "output_type": "stream",
     "text": [
      "[1, 4, 9, 16, 25]\n"
     ]
    }
   ],
   "source": [
    "# List of numbers\n",
    "numbers = [1, 2, 3, 4, 5]\n",
    "\n",
    "# Use lambda function to square each number in the list\n",
    "squared_numbers = list(map(lambda x: x * x, numbers))\n",
    "\n",
    "print(squared_numbers)  "
   ]
  },
  {
   "cell_type": "markdown",
   "id": "5c2ffe97",
   "metadata": {},
   "source": [
    "### Example 2: Using Lambda with filter()\n",
    "\n",
    "The filter() function returns items from a list based on a condition. Lambda functions can be useful here to define the condition inline."
   ]
  },
  {
   "cell_type": "code",
   "execution_count": 9,
   "id": "63da7fa4",
   "metadata": {},
   "outputs": [
    {
     "name": "stdout",
     "output_type": "stream",
     "text": [
      "[2, 4, 6]\n"
     ]
    }
   ],
   "source": [
    "# List of numbers\n",
    "numbers = [1, 2, 3, 4, 5, 6]\n",
    "\n",
    "# Use lambda function to filter even numbers from the list\n",
    "even_numbers = list(filter(lambda x: x % 2 == 0, numbers))\n",
    "\n",
    "print(even_numbers)  "
   ]
  },
  {
   "cell_type": "markdown",
   "id": "790e9583",
   "metadata": {},
   "source": [
    "### Example 3: Using Lambda with sorted()\n",
    "\n",
    "The sorted() function can accept a lambda function to define custom sorting criteria."
   ]
  },
  {
   "cell_type": "code",
   "execution_count": 11,
   "id": "0d9d9044",
   "metadata": {},
   "outputs": [
    {
     "name": "stdout",
     "output_type": "stream",
     "text": [
      "[('Bob', 25), ('Alice', 30), ('Charlie', 35)]\n"
     ]
    }
   ],
   "source": [
    "# List of tuples (name, age)\n",
    "people = [('Alice', 30), ('Bob', 25), ('Charlie', 35)]\n",
    "\n",
    "# Use lambda to sort people by age\n",
    "sorted_people = sorted(people, key=lambda person: person[1])\n",
    "\n",
    "print(sorted_people)  "
   ]
  },
  {
   "cell_type": "markdown",
   "id": "27e11f0b",
   "metadata": {},
   "source": [
    "### Example 4: Using Lambda in reduce()\n",
    "\n",
    "The reduce() function (from functools module) applies a rolling computation to sequential pairs of values in a list. You can use a lambda function to define the operation."
   ]
  },
  {
   "cell_type": "code",
   "execution_count": 12,
   "id": "3c8f6fab",
   "metadata": {},
   "outputs": [
    {
     "name": "stdout",
     "output_type": "stream",
     "text": [
      "120\n"
     ]
    }
   ],
   "source": [
    "from functools import reduce\n",
    "\n",
    "# List of numbers\n",
    "numbers = [1, 2, 3, 4, 5]\n",
    "\n",
    "# Use lambda to calculate the product of all numbers in the list\n",
    "product = reduce(lambda x, y: x * y, numbers)\n",
    "\n",
    "print(product)  "
   ]
  },
  {
   "cell_type": "markdown",
   "id": "52d853dd",
   "metadata": {},
   "source": [
    "# Conclusion :\n",
    "\n",
    "- A lambda function is an anonymous function defined using the lambda keyword.\n",
    "\n",
    "\n",
    "- It can take any number of arguments but can only contain one expression.\n",
    "\n",
    "\n",
    "- Lambda functions are often used for short, simple operations or where a function is only needed temporarily.\n",
    "\n",
    "\n",
    "- They are commonly used with functions like map(), filter(), sorted(), and reduce()."
   ]
  },
  {
   "cell_type": "code",
   "execution_count": null,
   "id": "9545ffad",
   "metadata": {},
   "outputs": [],
   "source": []
  }
 ],
 "metadata": {
  "kernelspec": {
   "display_name": "Python 3 (ipykernel)",
   "language": "python",
   "name": "python3"
  },
  "language_info": {
   "codemirror_mode": {
    "name": "ipython",
    "version": 3
   },
   "file_extension": ".py",
   "mimetype": "text/x-python",
   "name": "python",
   "nbconvert_exporter": "python",
   "pygments_lexer": "ipython3",
   "version": "3.9.13"
  }
 },
 "nbformat": 4,
 "nbformat_minor": 5
}
