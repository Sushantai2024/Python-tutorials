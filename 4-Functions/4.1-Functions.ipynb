{
 "cells": [
  {
   "cell_type": "markdown",
   "id": "6040387f",
   "metadata": {},
   "source": [
    "# Function\n",
    "\n",
    "In Python, a __function__ is a block of organized, reusable code that performs a specific task. Functions help in breaking down large programs into smaller, manageable, and __reusable blocks of code__. They provide modularity and __code reusability__, making your programs more organized and efficient.\n",
    "\n",
    "\n",
    "### Key Characteristics of Functions in Python:\n",
    "\n",
    "1.\t__Modular__: Functions allow you to divide your code into modular blocks, making it easier to read, debug, and maintain.\n",
    "\n",
    "\n",
    "2.\t__Reusable__: Once defined, a function can be used (called) multiple times in the code.\n",
    "\n",
    "\n",
    "3.\t__Input and Output__: Functions can accept data (arguments or parameters) and return a result.\n",
    "\n",
    "\n",
    "### Types of Functions:\n",
    "\n",
    "1.\t__Built-in Functions__: Functions that are pre-defined in Python (e.g., print(), len(), sum(), etc.).\n",
    "\n",
    "\n",
    "2.\t__User-defined Functions__: Functions that are created by the user to perform a specific task.\n"
   ]
  },
  {
   "cell_type": "markdown",
   "id": "a994613f",
   "metadata": {},
   "source": [
    "## Defining a Function:\n",
    "\n",
    "To define a function in Python, you use the __def__ keyword, followed by the __function name__, __parentheses ()__, and a __colon :__. \n",
    "\n",
    "The body of the function is indented, and it contains the code that the function executes.\n",
    "\n",
    "\n",
    "## Syntax:"
   ]
  },
  {
   "cell_type": "code",
   "execution_count": 2,
   "id": "ac647755",
   "metadata": {},
   "outputs": [],
   "source": [
    "def function_name(parameters):\n",
    "    \"\"\"\n",
    "    Optional docstring to describe the function\n",
    "    \"\"\"\n",
    "    # Function body\n",
    "    return result  # Optional, returns a value (default is None)"
   ]
  },
  {
   "cell_type": "markdown",
   "id": "f95f0ca6",
   "metadata": {},
   "source": [
    "### Example of a Simple Function:"
   ]
  },
  {
   "cell_type": "code",
   "execution_count": 3,
   "id": "8682e3f5",
   "metadata": {},
   "outputs": [
    {
     "name": "stdout",
     "output_type": "stream",
     "text": [
      "Hello, Alice!\n"
     ]
    }
   ],
   "source": [
    "# Defining a function that greets the user\n",
    "def greet(name):\n",
    "    print(f\"Hello, {name}!\")\n",
    "\n",
    "# Calling the function\n",
    "greet(\"Alice\")  "
   ]
  },
  {
   "cell_type": "markdown",
   "id": "21179dc0",
   "metadata": {},
   "source": [
    "## Function Components:\n",
    "\n",
    "1.\t__Function Name__: The name used to identify the function (should be descriptive of its purpose).\n",
    "\n",
    "\n",
    "2.\t__Parameters__: Variables that are passed into the function. They are optional, and a function can have zero or more parameters.\n",
    "\n",
    "\n",
    "3.\t__Docstring__: An optional string at the start of the function body that describes what the function does. It is enclosed in triple quotes \"\"\".\n",
    "\n",
    "\n",
    "4.\t__Function Body__: The indented block of code that performs the task when the function is called.\n",
    "\n",
    "\n",
    "5.\t__Return Statement__: Used to return a value from the function (optional). If not specified, the function returns None by default.\n"
   ]
  },
  {
   "cell_type": "markdown",
   "id": "88b31ea9",
   "metadata": {},
   "source": [
    "### Calling a Function:\n",
    "\n",
    "To execute a function, you simply call it by its name followed by parentheses, passing any required arguments."
   ]
  },
  {
   "cell_type": "code",
   "execution_count": 4,
   "id": "c28dee40",
   "metadata": {},
   "outputs": [
    {
     "name": "stdout",
     "output_type": "stream",
     "text": [
      "Hello, Bob!\n"
     ]
    }
   ],
   "source": [
    "# Calling a function with an argument\n",
    "greet(\"Bob\")"
   ]
  },
  {
   "cell_type": "markdown",
   "id": "8bb50ddf",
   "metadata": {},
   "source": [
    "### Function with Return Value:\n",
    "\n",
    "A function can return a result using the return statement."
   ]
  },
  {
   "cell_type": "code",
   "execution_count": 6,
   "id": "b201a4f5",
   "metadata": {},
   "outputs": [
    {
     "name": "stdout",
     "output_type": "stream",
     "text": [
      "25\n"
     ]
    }
   ],
   "source": [
    "# Defining a function that calculates the square of a number\n",
    "def square(number):\n",
    "    return number * number\n",
    "\n",
    "# Calling the function and storing the result\n",
    "result = square(5)\n",
    "print(result) "
   ]
  },
  {
   "cell_type": "markdown",
   "id": "54ef0406",
   "metadata": {},
   "source": [
    "### Function with Multiple Parameters:\n",
    "\n",
    "You can define a function that accepts multiple parameters."
   ]
  },
  {
   "cell_type": "code",
   "execution_count": 7,
   "id": "f6a9f334",
   "metadata": {},
   "outputs": [
    {
     "name": "stdout",
     "output_type": "stream",
     "text": [
      "8\n"
     ]
    }
   ],
   "source": [
    "# Defining a function that adds two numbers\n",
    "def add(a, b):\n",
    "    return a + b\n",
    "\n",
    "# Calling the function\n",
    "print(add(3, 5)) \n"
   ]
  },
  {
   "cell_type": "markdown",
   "id": "7e2a7bb9",
   "metadata": {},
   "source": [
    "### Default Parameters:\n",
    "\n",
    "You can assign default values to parameters. If no argument is passed for that parameter, the default value will be used."
   ]
  },
  {
   "cell_type": "code",
   "execution_count": 8,
   "id": "5c5eb86e",
   "metadata": {},
   "outputs": [
    {
     "name": "stdout",
     "output_type": "stream",
     "text": [
      "Good morning, Alice!\n",
      "Good evening, Bob!\n"
     ]
    }
   ],
   "source": [
    "# Function with a default parameter\n",
    "def greet(name, message=\"Good morning\"):\n",
    "    print(f\"{message}, {name}!\")\n",
    "\n",
    "# Calling the function with and without the second argument\n",
    "greet(\"Alice\")               \n",
    "greet(\"Bob\", \"Good evening\")  "
   ]
  },
  {
   "cell_type": "markdown",
   "id": "8cafb101",
   "metadata": {},
   "source": [
    "### Keyword Arguments:\n",
    "\n",
    "When calling a function, you can explicitly specify which argument goes to which parameter using keyword arguments."
   ]
  },
  {
   "cell_type": "code",
   "execution_count": 9,
   "id": "7da8f1f7",
   "metadata": {},
   "outputs": [
    {
     "name": "stdout",
     "output_type": "stream",
     "text": [
      "Alice is 25 years old and lives in New York.\n",
      "Bob is 30 years old and lives in London.\n"
     ]
    }
   ],
   "source": [
    "def describe_person(name, age, city):\n",
    "    print(f\"{name} is {age} years old and lives in {city}.\")\n",
    "\n",
    "# Using keyword arguments\n",
    "describe_person(name=\"Alice\", age=25, city=\"New York\")\n",
    "describe_person(city=\"London\", age=30, name=\"Bob\")"
   ]
  },
  {
   "cell_type": "markdown",
   "id": "7270f99d",
   "metadata": {},
   "source": [
    "### Variable-Length Arguments:\n",
    "\n",
    "Python functions can accept a variable number of arguments using *args (for non-keyword arguments) and **kwargs (for keyword arguments).\n",
    "\n",
    "1.\t__*args__: Allows you to pass a variable number of non-keyword arguments to the function. Inside the function, args is treated as a tuple.\n",
    "\n",
    "\n",
    "    \n",
    "2.\t__**kwargs__: Allows you to pass a variable number of keyword arguments. Inside the function, kwargs is treated as a dictionary."
   ]
  },
  {
   "cell_type": "code",
   "execution_count": 10,
   "id": "e279af12",
   "metadata": {},
   "outputs": [
    {
     "name": "stdout",
     "output_type": "stream",
     "text": [
      "6\n",
      "9\n"
     ]
    }
   ],
   "source": [
    "def add_numbers(*args):\n",
    "    return sum(args)\n",
    "\n",
    "print(add_numbers(1, 2, 3))  \n",
    "print(add_numbers(4, 5))     "
   ]
  },
  {
   "cell_type": "code",
   "execution_count": 11,
   "id": "3d186d73",
   "metadata": {},
   "outputs": [
    {
     "name": "stdout",
     "output_type": "stream",
     "text": [
      "name: Alice\n",
      "age: 25\n",
      "city: New York\n"
     ]
    }
   ],
   "source": [
    "def print_info(**kwargs):\n",
    "    for key, value in kwargs.items():\n",
    "        print(f\"{key}: {value}\")\n",
    "\n",
    "print_info(name=\"Alice\", age=25, city=\"New York\")"
   ]
  },
  {
   "cell_type": "markdown",
   "id": "96a41c9c",
   "metadata": {},
   "source": [
    "## Example of a Real-World Function:"
   ]
  },
  {
   "cell_type": "code",
   "execution_count": 13,
   "id": "6baeaf91",
   "metadata": {},
   "outputs": [
    {
     "name": "stdout",
     "output_type": "stream",
     "text": [
      "110.0\n",
      "115.0\n"
     ]
    }
   ],
   "source": [
    "# Function to calculate the total bill with tax\n",
    "def calculate_total(bill_amount, tax_rate=0.1):\n",
    "    \"\"\"\n",
    "    Calculate the total bill with tax.\n",
    "    :param bill_amount: Amount of the bill before tax.\n",
    "    :param tax_rate: Tax rate to apply (default is 10%).\n",
    "    :return: Total amount after adding the tax.\n",
    "    \"\"\"\n",
    "    total = bill_amount + (bill_amount * tax_rate)\n",
    "    return total\n",
    "\n",
    "# Calling the function\n",
    "print(calculate_total(100))         \n",
    "print(calculate_total(100, 0.15))   "
   ]
  },
  {
   "cell_type": "markdown",
   "id": "fc0c3940",
   "metadata": {},
   "source": [
    "### Example:  Library System"
   ]
  },
  {
   "cell_type": "code",
   "execution_count": 4,
   "id": "70581e5f",
   "metadata": {},
   "outputs": [
    {
     "name": "stdout",
     "output_type": "stream",
     "text": [
      "You have borrowed 'Harry Potter'.\n",
      "{'Harry Potter': 2, 'The Hobbit': 2, '1984': 1}\n",
      "You have borrowed '1984'.\n",
      "Sorry, '1984' is not available right now.\n",
      "{'Harry Potter': 2, 'The Hobbit': 2, '1984': 0}\n",
      "You have returned 'Harry Potter'.\n",
      "{'Harry Potter': 3, 'The Hobbit': 2, '1984': 0}\n",
      "Thank you for donating 'New Book' to the library.\n",
      "{'Harry Potter': 3, 'The Hobbit': 2, '1984': 0, 'New Book': 1}\n"
     ]
    }
   ],
   "source": [
    "# Function to manage book borrowing and returning in a library system\n",
    "def manage_library(library_books, action, book_title):\n",
    "    \"\"\"\n",
    "    Manage the library system by allowing users to borrow or return books.\n",
    "    \n",
    "    :param library_books: A dictionary where keys are book titles and values are the number of available copies\n",
    "    :param action: The action to perform ('borrow' or 'return')\n",
    "    :param book_title: The title of the book to borrow or return\n",
    "    :return: Updated library_books dictionary after the action is performed\n",
    "    \"\"\"\n",
    "    # Borrow a book\n",
    "    if action == 'borrow':\n",
    "        if library_books.get(book_title, 0) > 0:\n",
    "            library_books[book_title] -= 1\n",
    "            print(f\"You have borrowed '{book_title}'.\")\n",
    "        else:\n",
    "            print(f\"Sorry, '{book_title}' is not available right now.\")\n",
    "    \n",
    "    # Return a book\n",
    "    elif action == 'return':\n",
    "        if book_title in library_books:\n",
    "            library_books[book_title] += 1\n",
    "            print(f\"You have returned '{book_title}'.\")\n",
    "        else:\n",
    "            library_books[book_title] = 1\n",
    "            print(f\"Thank you for donating '{book_title}' to the library.\")\n",
    "\n",
    "    return library_books\n",
    "\n",
    "# Example library with available books\n",
    "library = {\n",
    "    \"Harry Potter\": 3,\n",
    "    \"The Hobbit\": 2,\n",
    "    \"1984\": 1,\n",
    "}\n",
    "\n",
    "# Borrow a book\n",
    "library = manage_library(library, 'borrow', \"Harry Potter\")\n",
    "print(library)\n",
    "\n",
    "# Try to borrow a book that is unavailable\n",
    "library = manage_library(library, 'borrow', \"1984\")\n",
    "library = manage_library(library, 'borrow', \"1984\")  # No more copies available\n",
    "print(library)\n",
    "\n",
    "# Return a book\n",
    "library = manage_library(library, 'return', \"Harry Potter\")\n",
    "print(library)\n",
    "\n",
    "# Donate a new book to the library\n",
    "library = manage_library(library, 'return', \"New Book\")\n",
    "print(library)"
   ]
  },
  {
   "cell_type": "markdown",
   "id": "733364db",
   "metadata": {},
   "source": [
    "# Conclusion:\n",
    "\n",
    "- A function in Python is a reusable block of code that performs a specific task.\n",
    "\n",
    "\n",
    "- Functions can accept parameters, return values, and have default or variable-length arguments.\n",
    "\n",
    "\n",
    "- They provide better organization, code reuse, and modularity.\n",
    "\n",
    "\n",
    "- Python supports various types of functions, including built-in functions, user-defined functions, lambda functions, and higher-order functions (functions that take other functions as arguments)."
   ]
  },
  {
   "cell_type": "code",
   "execution_count": null,
   "id": "666c9739",
   "metadata": {},
   "outputs": [],
   "source": []
  }
 ],
 "metadata": {
  "kernelspec": {
   "display_name": "Python 3 (ipykernel)",
   "language": "python",
   "name": "python3"
  },
  "language_info": {
   "codemirror_mode": {
    "name": "ipython",
    "version": 3
   },
   "file_extension": ".py",
   "mimetype": "text/x-python",
   "name": "python",
   "nbconvert_exporter": "python",
   "pygments_lexer": "ipython3",
   "version": "3.9.13"
  }
 },
 "nbformat": 4,
 "nbformat_minor": 5
}
