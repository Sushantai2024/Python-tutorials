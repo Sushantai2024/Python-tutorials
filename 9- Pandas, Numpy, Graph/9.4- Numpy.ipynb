{
 "cells": [
  {
   "cell_type": "markdown",
   "id": "6b637c4b",
   "metadata": {},
   "source": [
    "# Numpy \n",
    "\n",
    "Whenever we do numerical calculation then we use this library "
   ]
  },
  {
   "cell_type": "code",
   "execution_count": 1,
   "id": "b089b6df",
   "metadata": {},
   "outputs": [],
   "source": [
    "import numpy as np "
   ]
  },
  {
   "cell_type": "code",
   "execution_count": 2,
   "id": "38d193c3",
   "metadata": {},
   "outputs": [],
   "source": [
    "l = [1,2,3,4,5,6]"
   ]
  },
  {
   "cell_type": "code",
   "execution_count": 3,
   "id": "10af8946",
   "metadata": {},
   "outputs": [
    {
     "data": {
      "text/plain": [
       "array([1, 2, 3, 4, 5, 6])"
      ]
     },
     "execution_count": 3,
     "metadata": {},
     "output_type": "execute_result"
    }
   ],
   "source": [
    "np.array(l)\n",
    "# it goves a datas as it is "
   ]
  },
  {
   "cell_type": "code",
   "execution_count": 4,
   "id": "04e8ccf4",
   "metadata": {},
   "outputs": [],
   "source": [
    "l1 = [1,2,3,4,True,34.345,'sonu']"
   ]
  },
  {
   "cell_type": "code",
   "execution_count": 43,
   "id": "22506a02",
   "metadata": {},
   "outputs": [
    {
     "data": {
      "text/plain": [
       "array(['1', '2', '3', '4', 'True', '34.345', 'sonu'], dtype='<U32')"
      ]
     },
     "execution_count": 43,
     "metadata": {},
     "output_type": "execute_result"
    }
   ],
   "source": [
    "a0 = np.array(l1)\n",
    "# it is converted to data in a string format\n",
    "a0"
   ]
  },
  {
   "cell_type": "code",
   "execution_count": 13,
   "id": "4f2233ec",
   "metadata": {},
   "outputs": [],
   "source": [
    "a1 = np.array([[1,2,3],[4,5,6]])"
   ]
  },
  {
   "cell_type": "code",
   "execution_count": 12,
   "id": "b3861c67",
   "metadata": {},
   "outputs": [],
   "source": [
    "a2 = np.array([[[1,2,3],[2,3,4],[3,4,5]]])"
   ]
  },
  {
   "cell_type": "code",
   "execution_count": 14,
   "id": "01c8c697",
   "metadata": {},
   "outputs": [
    {
     "data": {
      "text/plain": [
       "array([[1, 2, 3],\n",
       "       [4, 5, 6]])"
      ]
     },
     "execution_count": 14,
     "metadata": {},
     "output_type": "execute_result"
    }
   ],
   "source": [
    "a1"
   ]
  },
  {
   "cell_type": "code",
   "execution_count": 15,
   "id": "f9b92285",
   "metadata": {},
   "outputs": [
    {
     "data": {
      "text/plain": [
       "array([[[1, 2, 3],\n",
       "        [2, 3, 4],\n",
       "        [3, 4, 5]]])"
      ]
     },
     "execution_count": 15,
     "metadata": {},
     "output_type": "execute_result"
    }
   ],
   "source": [
    "a2"
   ]
  },
  {
   "cell_type": "code",
   "execution_count": 16,
   "id": "fbd1066e",
   "metadata": {},
   "outputs": [
    {
     "data": {
      "text/plain": [
       "2"
      ]
     },
     "execution_count": 16,
     "metadata": {},
     "output_type": "execute_result"
    }
   ],
   "source": [
    "a1.ndim"
   ]
  },
  {
   "cell_type": "code",
   "execution_count": 17,
   "id": "4c312353",
   "metadata": {},
   "outputs": [
    {
     "data": {
      "text/plain": [
       "3"
      ]
     },
     "execution_count": 17,
     "metadata": {},
     "output_type": "execute_result"
    }
   ],
   "source": [
    "a2.ndim"
   ]
  },
  {
   "cell_type": "code",
   "execution_count": 18,
   "id": "8c01592c",
   "metadata": {},
   "outputs": [
    {
     "data": {
      "text/plain": [
       "6"
      ]
     },
     "execution_count": 18,
     "metadata": {},
     "output_type": "execute_result"
    }
   ],
   "source": [
    "a1.size"
   ]
  },
  {
   "cell_type": "code",
   "execution_count": 19,
   "id": "b29d4e60",
   "metadata": {},
   "outputs": [
    {
     "data": {
      "text/plain": [
       "9"
      ]
     },
     "execution_count": 19,
     "metadata": {},
     "output_type": "execute_result"
    }
   ],
   "source": [
    "a2.size"
   ]
  },
  {
   "cell_type": "code",
   "execution_count": 20,
   "id": "72903ee2",
   "metadata": {},
   "outputs": [
    {
     "data": {
      "text/plain": [
       "(2, 3)"
      ]
     },
     "execution_count": 20,
     "metadata": {},
     "output_type": "execute_result"
    }
   ],
   "source": [
    "a1.shape"
   ]
  },
  {
   "cell_type": "code",
   "execution_count": 21,
   "id": "a1c3c06c",
   "metadata": {},
   "outputs": [
    {
     "data": {
      "text/plain": [
       "(1, 3, 3)"
      ]
     },
     "execution_count": 21,
     "metadata": {},
     "output_type": "execute_result"
    }
   ],
   "source": [
    "a2.shape"
   ]
  },
  {
   "cell_type": "code",
   "execution_count": 23,
   "id": "10486694",
   "metadata": {},
   "outputs": [
    {
     "data": {
      "text/plain": [
       "array([[[5, 3, 6, 9],\n",
       "        [8, 8, 7, 2],\n",
       "        [6, 1, 1, 7],\n",
       "        [8, 9, 6, 1]],\n",
       "\n",
       "       [[4, 8, 6, 7],\n",
       "        [6, 4, 5, 9],\n",
       "        [4, 5, 6, 6],\n",
       "        [7, 9, 8, 4]],\n",
       "\n",
       "       [[5, 1, 1, 1],\n",
       "        [8, 9, 7, 3],\n",
       "        [7, 7, 1, 4],\n",
       "        [8, 3, 7, 1]],\n",
       "\n",
       "       [[8, 7, 9, 7],\n",
       "        [6, 9, 8, 7],\n",
       "        [2, 9, 6, 8],\n",
       "        [3, 5, 1, 6]]])"
      ]
     },
     "execution_count": 23,
     "metadata": {},
     "output_type": "execute_result"
    }
   ],
   "source": [
    "# for random dataset \n",
    "np.random.randint(1,10,(4,4,4))"
   ]
  },
  {
   "cell_type": "code",
   "execution_count": 27,
   "id": "84dd4007",
   "metadata": {},
   "outputs": [
    {
     "data": {
      "text/plain": [
       "array([[[0.75262582, 0.41969671, 0.25348936, 0.14508592],\n",
       "        [0.46800194, 0.14628466, 0.37651568, 0.22695133],\n",
       "        [0.42154135, 0.14896572, 0.49939017, 0.54580267],\n",
       "        [0.61902557, 0.14749383, 0.41868941, 0.92457355],\n",
       "        [0.62974018, 0.82834489, 0.8783458 , 0.12701654]],\n",
       "\n",
       "       [[0.56789869, 0.99336522, 0.07300223, 0.19426917],\n",
       "        [0.38697984, 0.24692223, 0.73332291, 0.39749449],\n",
       "        [0.11014791, 0.39696912, 0.72679883, 0.39191108],\n",
       "        [0.56066127, 0.92647243, 0.41025432, 0.99598798],\n",
       "        [0.58218528, 0.63472977, 0.56800577, 0.53082616]]])"
      ]
     },
     "execution_count": 27,
     "metadata": {},
     "output_type": "execute_result"
    }
   ],
   "source": [
    "np.random.rand(2,5,4)\n",
    "#Create an array of the given shape and populate it with random samples from a uniform distribution over [0, 1]."
   ]
  },
  {
   "cell_type": "code",
   "execution_count": 34,
   "id": "99185756",
   "metadata": {},
   "outputs": [],
   "source": [
    "a3 = np.random.randn(4,4)\n",
    "# Return a sample (or samples) from the \"standard normal\" distribution.\n",
    "# where Mean (μ) = 0, Standard Deviation (σ) = 1"
   ]
  },
  {
   "cell_type": "code",
   "execution_count": 35,
   "id": "51b3b76a",
   "metadata": {},
   "outputs": [
    {
     "data": {
      "text/plain": [
       "array([[-0.19644628, -0.93290957,  0.6207869 , -0.58287966],\n",
       "       [ 0.89799083, -0.1519477 , -0.98347448, -0.81312   ],\n",
       "       [ 0.40009291,  1.62968312,  1.18302634,  0.55666733],\n",
       "       [-1.16909337,  0.32722464,  0.25995834,  1.87886064]])"
      ]
     },
     "execution_count": 35,
     "metadata": {},
     "output_type": "execute_result"
    }
   ],
   "source": [
    "a3"
   ]
  },
  {
   "cell_type": "code",
   "execution_count": 37,
   "id": "bd531905",
   "metadata": {},
   "outputs": [
    {
     "data": {
      "text/plain": [
       "array([[-0.19644628, -0.93290957,  0.6207869 , -0.58287966,  0.89799083,\n",
       "        -0.1519477 , -0.98347448, -0.81312   ],\n",
       "       [ 0.40009291,  1.62968312,  1.18302634,  0.55666733, -1.16909337,\n",
       "         0.32722464,  0.25995834,  1.87886064]])"
      ]
     },
     "execution_count": 37,
     "metadata": {},
     "output_type": "execute_result"
    }
   ],
   "source": [
    "a3.reshape(2,8)"
   ]
  },
  {
   "cell_type": "code",
   "execution_count": 38,
   "id": "e3c55d0f",
   "metadata": {},
   "outputs": [
    {
     "data": {
      "text/plain": [
       "array([[-0.19644628, -0.93290957,  0.6207869 , -0.58287966,  0.89799083,\n",
       "        -0.1519477 , -0.98347448, -0.81312   ,  0.40009291,  1.62968312,\n",
       "         1.18302634,  0.55666733, -1.16909337,  0.32722464,  0.25995834,\n",
       "         1.87886064]])"
      ]
     },
     "execution_count": 38,
     "metadata": {},
     "output_type": "execute_result"
    }
   ],
   "source": [
    "a3.reshape(1,16)"
   ]
  },
  {
   "cell_type": "code",
   "execution_count": 39,
   "id": "6b3f6ca4",
   "metadata": {},
   "outputs": [
    {
     "data": {
      "text/plain": [
       "array([[-0.19644628, -0.93290957,  0.6207869 , -0.58287966,  0.89799083,\n",
       "        -0.1519477 , -0.98347448, -0.81312   ],\n",
       "       [ 0.40009291,  1.62968312,  1.18302634,  0.55666733, -1.16909337,\n",
       "         0.32722464,  0.25995834,  1.87886064]])"
      ]
     },
     "execution_count": 39,
     "metadata": {},
     "output_type": "execute_result"
    }
   ],
   "source": [
    "a3.reshape(2, -1)"
   ]
  },
  {
   "cell_type": "code",
   "execution_count": 41,
   "id": "4c106934",
   "metadata": {},
   "outputs": [
    {
     "data": {
      "text/plain": [
       "array([[[[[-0.19644628, -0.93290957],\n",
       "          [ 0.6207869 , -0.58287966]],\n",
       "\n",
       "         [[ 0.89799083, -0.1519477 ],\n",
       "          [-0.98347448, -0.81312   ]],\n",
       "\n",
       "         [[ 0.40009291,  1.62968312],\n",
       "          [ 1.18302634,  0.55666733]],\n",
       "\n",
       "         [[-1.16909337,  0.32722464],\n",
       "          [ 0.25995834,  1.87886064]]]]])"
      ]
     },
     "execution_count": 41,
     "metadata": {},
     "output_type": "execute_result"
    }
   ],
   "source": [
    "a3.reshape(1,1,4,2,2)"
   ]
  },
  {
   "cell_type": "code",
   "execution_count": 44,
   "id": "b4c187c5",
   "metadata": {},
   "outputs": [
    {
     "data": {
      "text/plain": [
       "array(['1', '2', '3', '4', 'True', '34.345', 'sonu'], dtype='<U32')"
      ]
     },
     "execution_count": 44,
     "metadata": {},
     "output_type": "execute_result"
    }
   ],
   "source": [
    "a0"
   ]
  },
  {
   "cell_type": "code",
   "execution_count": 45,
   "id": "6848bf9d",
   "metadata": {},
   "outputs": [
    {
     "data": {
      "text/plain": [
       "'1'"
      ]
     },
     "execution_count": 45,
     "metadata": {},
     "output_type": "execute_result"
    }
   ],
   "source": [
    "a0[0]"
   ]
  },
  {
   "cell_type": "code",
   "execution_count": 48,
   "id": "d6b571a2",
   "metadata": {},
   "outputs": [
    {
     "data": {
      "text/plain": [
       "array(['3', 'True'], dtype='<U32')"
      ]
     },
     "execution_count": 48,
     "metadata": {},
     "output_type": "execute_result"
    }
   ],
   "source": [
    "a0[2:6:2]"
   ]
  },
  {
   "cell_type": "code",
   "execution_count": 49,
   "id": "fcae78bd",
   "metadata": {},
   "outputs": [
    {
     "data": {
      "text/plain": [
       "array(['sonu', '34.345', 'True', '4', '3', '2', '1'], dtype='<U32')"
      ]
     },
     "execution_count": 49,
     "metadata": {},
     "output_type": "execute_result"
    }
   ],
   "source": [
    "a0[::-1]"
   ]
  },
  {
   "cell_type": "code",
   "execution_count": 50,
   "id": "16aa3e13",
   "metadata": {},
   "outputs": [
    {
     "data": {
      "text/plain": [
       "array([[1, 2, 3],\n",
       "       [4, 5, 6]])"
      ]
     },
     "execution_count": 50,
     "metadata": {},
     "output_type": "execute_result"
    }
   ],
   "source": [
    "a1"
   ]
  },
  {
   "cell_type": "code",
   "execution_count": 51,
   "id": "29454f66",
   "metadata": {},
   "outputs": [
    {
     "data": {
      "text/plain": [
       "array([[[1, 2, 3],\n",
       "        [2, 3, 4],\n",
       "        [3, 4, 5]]])"
      ]
     },
     "execution_count": 51,
     "metadata": {},
     "output_type": "execute_result"
    }
   ],
   "source": [
    "a2"
   ]
  },
  {
   "cell_type": "code",
   "execution_count": 56,
   "id": "e2c6dd8e",
   "metadata": {},
   "outputs": [
    {
     "data": {
      "text/plain": [
       "array([[2, 3],\n",
       "       [5, 6]])"
      ]
     },
     "execution_count": 56,
     "metadata": {},
     "output_type": "execute_result"
    }
   ],
   "source": [
    "a1[:,1:]"
   ]
  },
  {
   "cell_type": "code",
   "execution_count": 58,
   "id": "5ebfc147",
   "metadata": {},
   "outputs": [
    {
     "data": {
      "text/plain": [
       "array([[2, 3],\n",
       "       [5, 6]])"
      ]
     },
     "execution_count": 58,
     "metadata": {},
     "output_type": "execute_result"
    }
   ],
   "source": [
    "a1[:,[1,2]]"
   ]
  },
  {
   "cell_type": "code",
   "execution_count": 59,
   "id": "c61432bb",
   "metadata": {},
   "outputs": [
    {
     "data": {
      "text/plain": [
       "array([[2, 3],\n",
       "       [5, 6]])"
      ]
     },
     "execution_count": 59,
     "metadata": {},
     "output_type": "execute_result"
    }
   ],
   "source": [
    "a1[[0,1],1:]"
   ]
  },
  {
   "cell_type": "code",
   "execution_count": 60,
   "id": "85d02730",
   "metadata": {},
   "outputs": [],
   "source": [
    "a5 = np.random.randint(2,90,(6,5))"
   ]
  },
  {
   "cell_type": "code",
   "execution_count": 61,
   "id": "f1acce34",
   "metadata": {},
   "outputs": [
    {
     "data": {
      "text/plain": [
       "array([[ 2, 48, 71, 61, 73],\n",
       "       [14, 76, 26, 81, 26],\n",
       "       [51, 37, 28, 57, 84],\n",
       "       [33, 31, 64, 72,  4],\n",
       "       [73, 78, 77, 76,  3],\n",
       "       [79,  5, 21,  5, 59]])"
      ]
     },
     "execution_count": 61,
     "metadata": {},
     "output_type": "execute_result"
    }
   ],
   "source": [
    "a5"
   ]
  },
  {
   "cell_type": "code",
   "execution_count": 62,
   "id": "02abe6a9",
   "metadata": {},
   "outputs": [
    {
     "data": {
      "text/plain": [
       "array([71, 61, 73, 76, 81, 51, 57, 84, 64, 72, 73, 78, 77, 76, 79, 59])"
      ]
     },
     "execution_count": 62,
     "metadata": {},
     "output_type": "execute_result"
    }
   ],
   "source": [
    "a5[a5>50]"
   ]
  },
  {
   "cell_type": "code",
   "execution_count": 64,
   "id": "7b705ff5",
   "metadata": {},
   "outputs": [],
   "source": [
    "a5[0,1] = 100"
   ]
  },
  {
   "cell_type": "code",
   "execution_count": 65,
   "id": "a2ad3272",
   "metadata": {},
   "outputs": [
    {
     "data": {
      "text/plain": [
       "array([[  2, 100,  71,  61,  73],\n",
       "       [ 14,  76,  26,  81,  26],\n",
       "       [ 51,  37,  28,  57,  84],\n",
       "       [ 33,  31,  64,  72,   4],\n",
       "       [ 73,  78,  77,  76,   3],\n",
       "       [ 79,   5,  21,   5,  59]])"
      ]
     },
     "execution_count": 65,
     "metadata": {},
     "output_type": "execute_result"
    }
   ],
   "source": [
    "a5"
   ]
  },
  {
   "cell_type": "code",
   "execution_count": 66,
   "id": "5abc57c9",
   "metadata": {},
   "outputs": [],
   "source": [
    "a6 = np.random.randint(0,3,(3,3))\n",
    "\n",
    "a7 = np.random.randint(0,3,(3,3))"
   ]
  },
  {
   "cell_type": "code",
   "execution_count": 67,
   "id": "fabf9991",
   "metadata": {},
   "outputs": [
    {
     "data": {
      "text/plain": [
       "array([[2, 2, 0],\n",
       "       [0, 0, 1],\n",
       "       [0, 1, 1]])"
      ]
     },
     "execution_count": 67,
     "metadata": {},
     "output_type": "execute_result"
    }
   ],
   "source": [
    "a6"
   ]
  },
  {
   "cell_type": "code",
   "execution_count": 68,
   "id": "4b83e27a",
   "metadata": {},
   "outputs": [
    {
     "data": {
      "text/plain": [
       "array([[0, 1, 1],\n",
       "       [2, 2, 1],\n",
       "       [2, 2, 1]])"
      ]
     },
     "execution_count": 68,
     "metadata": {},
     "output_type": "execute_result"
    }
   ],
   "source": [
    "a7"
   ]
  },
  {
   "cell_type": "code",
   "execution_count": 69,
   "id": "4493ae1c",
   "metadata": {},
   "outputs": [
    {
     "data": {
      "text/plain": [
       "array([[0, 2, 0],\n",
       "       [0, 0, 1],\n",
       "       [0, 2, 1]])"
      ]
     },
     "execution_count": 69,
     "metadata": {},
     "output_type": "execute_result"
    }
   ],
   "source": [
    "a6*a7"
   ]
  },
  {
   "cell_type": "code",
   "execution_count": 70,
   "id": "03e5d231",
   "metadata": {},
   "outputs": [
    {
     "data": {
      "text/plain": [
       "array([[4, 6, 4],\n",
       "       [2, 2, 1],\n",
       "       [4, 4, 2]])"
      ]
     },
     "execution_count": 70,
     "metadata": {},
     "output_type": "execute_result"
    }
   ],
   "source": [
    "a6@a7"
   ]
  },
  {
   "cell_type": "code",
   "execution_count": 71,
   "id": "12359546",
   "metadata": {},
   "outputs": [
    {
     "data": {
      "text/plain": [
       "array([[102, 102, 100],\n",
       "       [100, 100, 101],\n",
       "       [100, 101, 101]])"
      ]
     },
     "execution_count": 71,
     "metadata": {},
     "output_type": "execute_result"
    }
   ],
   "source": [
    "a6+100"
   ]
  },
  {
   "cell_type": "code",
   "execution_count": 72,
   "id": "76a872e0",
   "metadata": {},
   "outputs": [
    {
     "name": "stderr",
     "output_type": "stream",
     "text": [
      "/var/folders/d4/vrqxqq1s1pv5l1d9x4mz_m6c0000gn/T/ipykernel_86803/1058679823.py:1: RuntimeWarning: divide by zero encountered in true_divide\n",
      "  a6/0\n",
      "/var/folders/d4/vrqxqq1s1pv5l1d9x4mz_m6c0000gn/T/ipykernel_86803/1058679823.py:1: RuntimeWarning: invalid value encountered in true_divide\n",
      "  a6/0\n"
     ]
    },
    {
     "data": {
      "text/plain": [
       "array([[inf, inf, nan],\n",
       "       [nan, nan, inf],\n",
       "       [nan, inf, inf]])"
      ]
     },
     "execution_count": 72,
     "metadata": {},
     "output_type": "execute_result"
    }
   ],
   "source": [
    "a6/0"
   ]
  },
  {
   "cell_type": "code",
   "execution_count": 73,
   "id": "b3e86f16",
   "metadata": {},
   "outputs": [
    {
     "data": {
      "text/plain": [
       "array([[8, 8, 0],\n",
       "       [0, 0, 1],\n",
       "       [0, 1, 1]])"
      ]
     },
     "execution_count": 73,
     "metadata": {},
     "output_type": "execute_result"
    }
   ],
   "source": [
    "a6**3"
   ]
  },
  {
   "cell_type": "code",
   "execution_count": 74,
   "id": "6f79b054",
   "metadata": {},
   "outputs": [],
   "source": [
    "a8 = np.zeros((4,4))"
   ]
  },
  {
   "cell_type": "code",
   "execution_count": 75,
   "id": "fca2e5bb",
   "metadata": {},
   "outputs": [
    {
     "data": {
      "text/plain": [
       "array([[0., 0., 0., 0.],\n",
       "       [0., 0., 0., 0.],\n",
       "       [0., 0., 0., 0.],\n",
       "       [0., 0., 0., 0.]])"
      ]
     },
     "execution_count": 75,
     "metadata": {},
     "output_type": "execute_result"
    }
   ],
   "source": [
    "a8"
   ]
  },
  {
   "cell_type": "code",
   "execution_count": 77,
   "id": "d3796863",
   "metadata": {},
   "outputs": [],
   "source": [
    "a9 = np.ones((4,5))"
   ]
  },
  {
   "cell_type": "code",
   "execution_count": 78,
   "id": "0382c808",
   "metadata": {},
   "outputs": [
    {
     "data": {
      "text/plain": [
       "array([[1., 1., 1., 1., 1.],\n",
       "       [1., 1., 1., 1., 1.],\n",
       "       [1., 1., 1., 1., 1.],\n",
       "       [1., 1., 1., 1., 1.]])"
      ]
     },
     "execution_count": 78,
     "metadata": {},
     "output_type": "execute_result"
    }
   ],
   "source": [
    "a9"
   ]
  },
  {
   "cell_type": "code",
   "execution_count": 79,
   "id": "a390ba55",
   "metadata": {},
   "outputs": [
    {
     "data": {
      "text/plain": [
       "array([[2., 3., 4., 5., 6.],\n",
       "       [2., 3., 4., 5., 6.],\n",
       "       [2., 3., 4., 5., 6.],\n",
       "       [2., 3., 4., 5., 6.]])"
      ]
     },
     "execution_count": 79,
     "metadata": {},
     "output_type": "execute_result"
    }
   ],
   "source": [
    "a9 + np.array([1,2,3,4,5])"
   ]
  },
  {
   "cell_type": "code",
   "execution_count": 81,
   "id": "de905b49",
   "metadata": {},
   "outputs": [
    {
     "data": {
      "text/plain": [
       "array([[2., 2., 2., 2., 2.],\n",
       "       [3., 3., 3., 3., 3.],\n",
       "       [4., 4., 4., 4., 4.],\n",
       "       [5., 5., 5., 5., 5.]])"
      ]
     },
     "execution_count": 81,
     "metadata": {},
     "output_type": "execute_result"
    }
   ],
   "source": [
    "np.array([[1,2,3,4]]).T + a9 "
   ]
  },
  {
   "cell_type": "code",
   "execution_count": 82,
   "id": "d5f0be43",
   "metadata": {},
   "outputs": [
    {
     "data": {
      "text/plain": [
       "array([[2, 2, 0],\n",
       "       [0, 0, 1],\n",
       "       [0, 1, 1]])"
      ]
     },
     "execution_count": 82,
     "metadata": {},
     "output_type": "execute_result"
    }
   ],
   "source": [
    "a6"
   ]
  },
  {
   "cell_type": "code",
   "execution_count": 83,
   "id": "db71338c",
   "metadata": {},
   "outputs": [
    {
     "data": {
      "text/plain": [
       "array([[2, 0, 0],\n",
       "       [2, 0, 1],\n",
       "       [0, 1, 1]])"
      ]
     },
     "execution_count": 83,
     "metadata": {},
     "output_type": "execute_result"
    }
   ],
   "source": [
    "a6.T"
   ]
  },
  {
   "cell_type": "code",
   "execution_count": 84,
   "id": "70fa2e2c",
   "metadata": {},
   "outputs": [
    {
     "data": {
      "text/plain": [
       "array([[ 1.41421356, 10.        ,  8.42614977,  7.81024968,  8.54400375],\n",
       "       [ 3.74165739,  8.71779789,  5.09901951,  9.        ,  5.09901951],\n",
       "       [ 7.14142843,  6.08276253,  5.29150262,  7.54983444,  9.16515139],\n",
       "       [ 5.74456265,  5.56776436,  8.        ,  8.48528137,  2.        ],\n",
       "       [ 8.54400375,  8.83176087,  8.77496439,  8.71779789,  1.73205081],\n",
       "       [ 8.88819442,  2.23606798,  4.58257569,  2.23606798,  7.68114575]])"
      ]
     },
     "execution_count": 84,
     "metadata": {},
     "output_type": "execute_result"
    }
   ],
   "source": [
    "np.sqrt(a5)"
   ]
  },
  {
   "cell_type": "code",
   "execution_count": 85,
   "id": "63eb38ef",
   "metadata": {},
   "outputs": [
    {
     "data": {
      "text/plain": [
       "array([[7.38905610e+00, 2.68811714e+43, 6.83767123e+30, 3.10429794e+26,\n",
       "        5.05239363e+31],\n",
       "       [1.20260428e+06, 1.01480039e+33, 1.95729609e+11, 1.50609731e+35,\n",
       "        1.95729609e+11],\n",
       "       [1.40934908e+22, 1.17191424e+16, 1.44625706e+12, 5.68572000e+24,\n",
       "        3.02507732e+36],\n",
       "       [2.14643580e+14, 2.90488497e+13, 6.23514908e+27, 1.85867175e+31,\n",
       "        5.45981500e+01],\n",
       "       [5.05239363e+31, 7.49841700e+33, 2.75851345e+33, 1.01480039e+33,\n",
       "        2.00855369e+01],\n",
       "       [2.03828107e+34, 1.48413159e+02, 1.31881573e+09, 1.48413159e+02,\n",
       "        4.20121040e+25]])"
      ]
     },
     "execution_count": 85,
     "metadata": {},
     "output_type": "execute_result"
    }
   ],
   "source": [
    "np.exp(a5)"
   ]
  },
  {
   "cell_type": "code",
   "execution_count": 86,
   "id": "84d5481f",
   "metadata": {},
   "outputs": [
    {
     "data": {
      "text/plain": [
       "array([[0.30103   , 2.        , 1.85125835, 1.78532984, 1.86332286],\n",
       "       [1.14612804, 1.88081359, 1.41497335, 1.90848502, 1.41497335],\n",
       "       [1.70757018, 1.56820172, 1.44715803, 1.75587486, 1.92427929],\n",
       "       [1.51851394, 1.49136169, 1.80617997, 1.8573325 , 0.60205999],\n",
       "       [1.86332286, 1.8920946 , 1.88649073, 1.88081359, 0.47712125],\n",
       "       [1.89762709, 0.69897   , 1.32221929, 0.69897   , 1.77085201]])"
      ]
     },
     "execution_count": 86,
     "metadata": {},
     "output_type": "execute_result"
    }
   ],
   "source": [
    "np.log10(a5)"
   ]
  },
  {
   "cell_type": "code",
   "execution_count": 87,
   "id": "23a8b687",
   "metadata": {},
   "outputs": [
    {
     "data": {
      "text/plain": [
       "[0, 2, 4, 6, 8]"
      ]
     },
     "execution_count": 87,
     "metadata": {},
     "output_type": "execute_result"
    }
   ],
   "source": [
    "list(range(0,10,2))"
   ]
  },
  {
   "cell_type": "code",
   "execution_count": 88,
   "id": "96156922",
   "metadata": {},
   "outputs": [
    {
     "data": {
      "text/plain": [
       "array([1.8, 4.3, 6.8, 9.3])"
      ]
     },
     "execution_count": 88,
     "metadata": {},
     "output_type": "execute_result"
    }
   ],
   "source": [
    "np.arange(1.8,10.7,2.5)"
   ]
  },
  {
   "cell_type": "code",
   "execution_count": 91,
   "id": "ca7a6e9d",
   "metadata": {
    "scrolled": true
   },
   "outputs": [
    {
     "data": {
      "text/plain": [
       "(array([2.        , 2.02040816, 2.04081633, 2.06122449, 2.08163265,\n",
       "        2.10204082, 2.12244898, 2.14285714, 2.16326531, 2.18367347,\n",
       "        2.20408163, 2.2244898 , 2.24489796, 2.26530612, 2.28571429,\n",
       "        2.30612245, 2.32653061, 2.34693878, 2.36734694, 2.3877551 ,\n",
       "        2.40816327, 2.42857143, 2.44897959, 2.46938776, 2.48979592,\n",
       "        2.51020408, 2.53061224, 2.55102041, 2.57142857, 2.59183673,\n",
       "        2.6122449 , 2.63265306, 2.65306122, 2.67346939, 2.69387755,\n",
       "        2.71428571, 2.73469388, 2.75510204, 2.7755102 , 2.79591837,\n",
       "        2.81632653, 2.83673469, 2.85714286, 2.87755102, 2.89795918,\n",
       "        2.91836735, 2.93877551, 2.95918367, 2.97959184, 3.        ]),\n",
       " 0.02040816326530612)"
      ]
     },
     "execution_count": 91,
     "metadata": {},
     "output_type": "execute_result"
    }
   ],
   "source": [
    "np.linspace(2,3,num=50, retstep = True)"
   ]
  },
  {
   "cell_type": "code",
   "execution_count": 92,
   "id": "73ffe8a4",
   "metadata": {},
   "outputs": [
    {
     "data": {
      "text/plain": [
       "array([  100.        ,   464.15888336,  2154.43469003, 10000.        ])"
      ]
     },
     "execution_count": 92,
     "metadata": {},
     "output_type": "execute_result"
    }
   ],
   "source": [
    "np.logspace(2,4,num = 4,base = 10)"
   ]
  },
  {
   "cell_type": "code",
   "execution_count": 95,
   "id": "46973f3e",
   "metadata": {},
   "outputs": [
    {
     "data": {
      "text/plain": [
       "array([[1., 0., 0., 0., 0.],\n",
       "       [0., 1., 0., 0., 0.],\n",
       "       [0., 0., 1., 0., 0.],\n",
       "       [0., 0., 0., 1., 0.],\n",
       "       [0., 0., 0., 0., 1.]])"
      ]
     },
     "execution_count": 95,
     "metadata": {},
     "output_type": "execute_result"
    }
   ],
   "source": [
    "np.eye(5)\n",
    "# Return a 2-D array with ones on the diagonal and zeros elsewhere.\n",
    "# identity matrix "
   ]
  },
  {
   "cell_type": "code",
   "execution_count": null,
   "id": "b640ba80",
   "metadata": {},
   "outputs": [],
   "source": []
  }
 ],
 "metadata": {
  "kernelspec": {
   "display_name": "Python 3 (ipykernel)",
   "language": "python",
   "name": "python3"
  },
  "language_info": {
   "codemirror_mode": {
    "name": "ipython",
    "version": 3
   },
   "file_extension": ".py",
   "mimetype": "text/x-python",
   "name": "python",
   "nbconvert_exporter": "python",
   "pygments_lexer": "ipython3",
   "version": "3.9.13"
  }
 },
 "nbformat": 4,
 "nbformat_minor": 5
}
